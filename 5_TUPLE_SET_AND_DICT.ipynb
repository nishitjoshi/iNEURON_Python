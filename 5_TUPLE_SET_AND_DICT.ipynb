{
  "nbformat": 4,
  "nbformat_minor": 0,
  "metadata": {
    "kernelspec": {
      "display_name": "Python 3",
      "language": "python",
      "name": "python3"
    },
    "language_info": {
      "codemirror_mode": {
        "name": "ipython",
        "version": 3
      },
      "file_extension": ".py",
      "mimetype": "text/x-python",
      "name": "python",
      "nbconvert_exporter": "python",
      "pygments_lexer": "ipython3",
      "version": "3.8.3"
    },
    "colab": {
      "name": "TUPLE SET AND DICT.ipynb",
      "provenance": [],
      "include_colab_link": true
    }
  },
  "cells": [
    {
      "cell_type": "markdown",
      "metadata": {
        "id": "view-in-github",
        "colab_type": "text"
      },
      "source": [
        "<a href=\"https://colab.research.google.com/github/nishitjoshi/iNEURON_Python/blob/main/5_TUPLE_SET_AND_DICT.ipynb\" target=\"_parent\"><img src=\"https://colab.research.google.com/assets/colab-badge.svg\" alt=\"Open In Colab\"/></a>"
      ]
    },
    {
      "cell_type": "code",
      "metadata": {
        "id": "6o9OkyUxVX7z"
      },
      "source": [
        "t = ()"
      ],
      "execution_count": null,
      "outputs": []
    },
    {
      "cell_type": "code",
      "metadata": {
        "id": "WjHhVNiVVX71",
        "outputId": "5c8dc55a-1c57-460e-8bca-9e5890e6c696"
      },
      "source": [
        "type(t)"
      ],
      "execution_count": null,
      "outputs": [
        {
          "output_type": "execute_result",
          "data": {
            "text/plain": [
              "tuple"
            ]
          },
          "metadata": {
            "tags": []
          },
          "execution_count": 2
        }
      ]
    },
    {
      "cell_type": "code",
      "metadata": {
        "id": "VB7b9hySVX72",
        "outputId": "0d86fd6c-11d9-43cc-972d-81eae9446999"
      },
      "source": [
        "l = []\n",
        "type(l)"
      ],
      "execution_count": null,
      "outputs": [
        {
          "output_type": "execute_result",
          "data": {
            "text/plain": [
              "list"
            ]
          },
          "metadata": {
            "tags": []
          },
          "execution_count": 3
        }
      ]
    },
    {
      "cell_type": "code",
      "metadata": {
        "id": "KKLnNGqKVX73"
      },
      "source": [
        "t1 = (234,34,\"sudh\" , 3.45,True)"
      ],
      "execution_count": null,
      "outputs": []
    },
    {
      "cell_type": "code",
      "metadata": {
        "id": "UHBoUsohVX73"
      },
      "source": [
        "l1 = [234,34,\"sudh\" , 3.45,True]"
      ],
      "execution_count": null,
      "outputs": []
    },
    {
      "cell_type": "code",
      "metadata": {
        "id": "hgPdMR6sVX73",
        "outputId": "9449addd-f312-4ab0-9618-6963cfd4bfef"
      },
      "source": [
        "t1[0:4]"
      ],
      "execution_count": null,
      "outputs": [
        {
          "output_type": "execute_result",
          "data": {
            "text/plain": [
              "(234, 34, 'sudh', 3.45)"
            ]
          },
          "metadata": {
            "tags": []
          },
          "execution_count": 8
        }
      ]
    },
    {
      "cell_type": "code",
      "metadata": {
        "id": "NjQ60yHbVX74",
        "outputId": "9deb90fc-9a18-460c-fb96-3eb5d0d12c90"
      },
      "source": [
        "t1[::-1]"
      ],
      "execution_count": null,
      "outputs": [
        {
          "output_type": "execute_result",
          "data": {
            "text/plain": [
              "(True, 3.45, 'sudh', 34, 234)"
            ]
          },
          "metadata": {
            "tags": []
          },
          "execution_count": 9
        }
      ]
    },
    {
      "cell_type": "code",
      "metadata": {
        "id": "wh50DDn2VX74",
        "outputId": "a1b41730-feb9-4152-f619-f2c92bdc4548"
      },
      "source": [
        "t1[-1]"
      ],
      "execution_count": null,
      "outputs": [
        {
          "output_type": "execute_result",
          "data": {
            "text/plain": [
              "True"
            ]
          },
          "metadata": {
            "tags": []
          },
          "execution_count": 11
        }
      ]
    },
    {
      "cell_type": "code",
      "metadata": {
        "id": "jjHlZVcvVX75"
      },
      "source": [
        "l1[0] = \"kumar\""
      ],
      "execution_count": null,
      "outputs": []
    },
    {
      "cell_type": "code",
      "metadata": {
        "id": "E-ZL0NuiVX75",
        "outputId": "6c1477bf-ab2a-4254-8f5c-5f5c7d08612e"
      },
      "source": [
        "l1"
      ],
      "execution_count": null,
      "outputs": [
        {
          "output_type": "execute_result",
          "data": {
            "text/plain": [
              "['kumar', 34, 'sudh', 3.45, True]"
            ]
          },
          "metadata": {
            "tags": []
          },
          "execution_count": 14
        }
      ]
    },
    {
      "cell_type": "code",
      "metadata": {
        "id": "siMNLbWHVX75",
        "outputId": "5cd636db-f607-4be7-b413-3c280548766c"
      },
      "source": [
        "t1"
      ],
      "execution_count": null,
      "outputs": [
        {
          "output_type": "execute_result",
          "data": {
            "text/plain": [
              "(234, 34, 'sudh', 3.45, True)"
            ]
          },
          "metadata": {
            "tags": []
          },
          "execution_count": 15
        }
      ]
    },
    {
      "cell_type": "code",
      "metadata": {
        "id": "W2kMNyudVX76",
        "outputId": "03832e3f-516c-40eb-eb83-b24609d73238"
      },
      "source": [
        "t1[0] = \"dsdfdf\""
      ],
      "execution_count": null,
      "outputs": [
        {
          "output_type": "error",
          "ename": "TypeError",
          "evalue": "'tuple' object does not support item assignment",
          "traceback": [
            "\u001b[1;31m---------------------------------------------------------------------------\u001b[0m",
            "\u001b[1;31mTypeError\u001b[0m                                 Traceback (most recent call last)",
            "\u001b[1;32m<ipython-input-17-de2369803a3c>\u001b[0m in \u001b[0;36m<module>\u001b[1;34m\u001b[0m\n\u001b[1;32m----> 1\u001b[1;33m \u001b[0mt1\u001b[0m\u001b[1;33m[\u001b[0m\u001b[1;36m0\u001b[0m\u001b[1;33m]\u001b[0m \u001b[1;33m=\u001b[0m \u001b[1;34m\"dsdfdf\"\u001b[0m\u001b[1;33m\u001b[0m\u001b[1;33m\u001b[0m\u001b[0m\n\u001b[0m",
            "\u001b[1;31mTypeError\u001b[0m: 'tuple' object does not support item assignment"
          ]
        }
      ]
    },
    {
      "cell_type": "code",
      "metadata": {
        "id": "SR760cfhVX76"
      },
      "source": [
        "t2 = (234,54,565)"
      ],
      "execution_count": null,
      "outputs": []
    },
    {
      "cell_type": "code",
      "metadata": {
        "id": "34dMG5ZjVX76",
        "outputId": "a259f21e-d78b-4d7b-b856-8a79d8979f93"
      },
      "source": [
        "t1+t2"
      ],
      "execution_count": null,
      "outputs": [
        {
          "output_type": "execute_result",
          "data": {
            "text/plain": [
              "(234, 34, 'sudh', 3.45, True, 234, 54, 565)"
            ]
          },
          "metadata": {
            "tags": []
          },
          "execution_count": 19
        }
      ]
    },
    {
      "cell_type": "code",
      "metadata": {
        "id": "CEgAHGBpVX77",
        "outputId": "7cd33f7d-8f86-4513-b895-8c4fa320e1fb"
      },
      "source": [
        "t1*4"
      ],
      "execution_count": null,
      "outputs": [
        {
          "output_type": "execute_result",
          "data": {
            "text/plain": [
              "(234,\n",
              " 34,\n",
              " 'sudh',\n",
              " 3.45,\n",
              " True,\n",
              " 234,\n",
              " 34,\n",
              " 'sudh',\n",
              " 3.45,\n",
              " True,\n",
              " 234,\n",
              " 34,\n",
              " 'sudh',\n",
              " 3.45,\n",
              " True,\n",
              " 234,\n",
              " 34,\n",
              " 'sudh',\n",
              " 3.45,\n",
              " True)"
            ]
          },
          "metadata": {
            "tags": []
          },
          "execution_count": 20
        }
      ]
    },
    {
      "cell_type": "code",
      "metadata": {
        "id": "ipRJOdU_VX77",
        "outputId": "60a282b4-d8c1-452d-98ca-b0d857c92bdc"
      },
      "source": [
        "t1"
      ],
      "execution_count": null,
      "outputs": [
        {
          "output_type": "execute_result",
          "data": {
            "text/plain": [
              "(234, 34, 'sudh', 3.45, True)"
            ]
          },
          "metadata": {
            "tags": []
          },
          "execution_count": 22
        }
      ]
    },
    {
      "cell_type": "code",
      "metadata": {
        "id": "slTlGYmLVX77",
        "outputId": "f97a2291-8ac6-4cf5-f359-ec55bf11b1fb"
      },
      "source": [
        "34 in t1"
      ],
      "execution_count": null,
      "outputs": [
        {
          "output_type": "execute_result",
          "data": {
            "text/plain": [
              "True"
            ]
          },
          "metadata": {
            "tags": []
          },
          "execution_count": 23
        }
      ]
    },
    {
      "cell_type": "code",
      "metadata": {
        "id": "wiapMflfVX77",
        "outputId": "6a6602da-9da1-4378-e1de-c01b01b0ff4b"
      },
      "source": [
        "\"fdsfds\" in t1"
      ],
      "execution_count": null,
      "outputs": [
        {
          "output_type": "execute_result",
          "data": {
            "text/plain": [
              "False"
            ]
          },
          "metadata": {
            "tags": []
          },
          "execution_count": 24
        }
      ]
    },
    {
      "cell_type": "code",
      "metadata": {
        "id": "yAyGPi1kVX78",
        "outputId": "e5cab177-926c-4f39-b46a-0970cdaeb425"
      },
      "source": [
        "t1"
      ],
      "execution_count": null,
      "outputs": [
        {
          "output_type": "execute_result",
          "data": {
            "text/plain": [
              "(234, 34, 'sudh', 3.45, True)"
            ]
          },
          "metadata": {
            "tags": []
          },
          "execution_count": 25
        }
      ]
    },
    {
      "cell_type": "code",
      "metadata": {
        "id": "-D-M7kTtVX78",
        "outputId": "49bd0712-1a37-434b-afcb-58da99924e19"
      },
      "source": [
        "max(t1)"
      ],
      "execution_count": null,
      "outputs": [
        {
          "output_type": "error",
          "ename": "TypeError",
          "evalue": "'>' not supported between instances of 'str' and 'int'",
          "traceback": [
            "\u001b[1;31m---------------------------------------------------------------------------\u001b[0m",
            "\u001b[1;31mTypeError\u001b[0m                                 Traceback (most recent call last)",
            "\u001b[1;32m<ipython-input-26-07c1bf72392e>\u001b[0m in \u001b[0;36m<module>\u001b[1;34m\u001b[0m\n\u001b[1;32m----> 1\u001b[1;33m \u001b[0mmax\u001b[0m\u001b[1;33m(\u001b[0m\u001b[0mt1\u001b[0m\u001b[1;33m)\u001b[0m\u001b[1;33m\u001b[0m\u001b[1;33m\u001b[0m\u001b[0m\n\u001b[0m",
            "\u001b[1;31mTypeError\u001b[0m: '>' not supported between instances of 'str' and 'int'"
          ]
        }
      ]
    },
    {
      "cell_type": "code",
      "metadata": {
        "id": "wKdhNAo7VX78"
      },
      "source": [
        "t3 = (23,343,45,454,54)"
      ],
      "execution_count": null,
      "outputs": []
    },
    {
      "cell_type": "code",
      "metadata": {
        "id": "9FO9-LRmVX78",
        "outputId": "0358a4cd-bb21-4527-8d16-51fc0dd8b7c5"
      },
      "source": [
        "max(t3)"
      ],
      "execution_count": null,
      "outputs": [
        {
          "output_type": "execute_result",
          "data": {
            "text/plain": [
              "454"
            ]
          },
          "metadata": {
            "tags": []
          },
          "execution_count": 29
        }
      ]
    },
    {
      "cell_type": "code",
      "metadata": {
        "id": "JIN5KAn7VX79"
      },
      "source": [
        "t4 = (\"fsdf\",\"Fsdf\",\"fsd\")"
      ],
      "execution_count": null,
      "outputs": []
    },
    {
      "cell_type": "code",
      "metadata": {
        "id": "Gc57M5SBVX79",
        "outputId": "caeba037-7f89-401c-bdaf-b82e2b2b2494"
      },
      "source": [
        "max(t4)"
      ],
      "execution_count": null,
      "outputs": [
        {
          "output_type": "execute_result",
          "data": {
            "text/plain": [
              "'fsdf'"
            ]
          },
          "metadata": {
            "tags": []
          },
          "execution_count": 31
        }
      ]
    },
    {
      "cell_type": "code",
      "metadata": {
        "id": "ZPpWv9rMVX79"
      },
      "source": [
        "t1 =(234, 34, 'sudh', 3.45,34,34,34, True)"
      ],
      "execution_count": null,
      "outputs": []
    },
    {
      "cell_type": "code",
      "metadata": {
        "id": "1njP-VcpVX79",
        "outputId": "87442665-38c2-4746-c8d0-672a74ecf6f5"
      },
      "source": [
        "t1.index(34)"
      ],
      "execution_count": null,
      "outputs": [
        {
          "output_type": "execute_result",
          "data": {
            "text/plain": [
              "1"
            ]
          },
          "metadata": {
            "tags": []
          },
          "execution_count": 38
        }
      ]
    },
    {
      "cell_type": "code",
      "metadata": {
        "id": "7ciMqCHDVX79",
        "outputId": "b22dfd5b-3138-4bb4-9a82-f5ccb170a6c0"
      },
      "source": [
        "t1.count(34)"
      ],
      "execution_count": null,
      "outputs": [
        {
          "output_type": "execute_result",
          "data": {
            "text/plain": [
              "4"
            ]
          },
          "metadata": {
            "tags": []
          },
          "execution_count": 39
        }
      ]
    },
    {
      "cell_type": "code",
      "metadata": {
        "id": "t9u4pBzdVX7-",
        "outputId": "137b7881-a68e-44c5-8551-cd327b3534e6"
      },
      "source": [
        "l1"
      ],
      "execution_count": null,
      "outputs": [
        {
          "output_type": "execute_result",
          "data": {
            "text/plain": [
              "['kumar', 34, 'sudh', 3.45, True]"
            ]
          },
          "metadata": {
            "tags": []
          },
          "execution_count": 33
        }
      ]
    },
    {
      "cell_type": "code",
      "metadata": {
        "id": "dgNayzsmVX7-",
        "outputId": "4f6fd165-1a9a-4c86-ef06-339750c81630"
      },
      "source": [
        "l1.index(6)"
      ],
      "execution_count": null,
      "outputs": [
        {
          "output_type": "error",
          "ename": "ValueError",
          "evalue": "6 is not in list",
          "traceback": [
            "\u001b[1;31m---------------------------------------------------------------------------\u001b[0m",
            "\u001b[1;31mValueError\u001b[0m                                Traceback (most recent call last)",
            "\u001b[1;32m<ipython-input-36-6ca79050144f>\u001b[0m in \u001b[0;36m<module>\u001b[1;34m\u001b[0m\n\u001b[1;32m----> 1\u001b[1;33m \u001b[0ml1\u001b[0m\u001b[1;33m.\u001b[0m\u001b[0mindex\u001b[0m\u001b[1;33m(\u001b[0m\u001b[1;36m6\u001b[0m\u001b[1;33m)\u001b[0m\u001b[1;33m\u001b[0m\u001b[1;33m\u001b[0m\u001b[0m\n\u001b[0m",
            "\u001b[1;31mValueError\u001b[0m: 6 is not in list"
          ]
        }
      ]
    },
    {
      "cell_type": "code",
      "metadata": {
        "id": "tBw-BF3hVX7-",
        "outputId": "fa1cd907-1789-4231-a56e-aeb909d87325"
      },
      "source": [
        "t1"
      ],
      "execution_count": null,
      "outputs": [
        {
          "output_type": "execute_result",
          "data": {
            "text/plain": [
              "(234, 34, 'sudh', 3.45, 34, 34, 34, True)"
            ]
          },
          "metadata": {
            "tags": []
          },
          "execution_count": 40
        }
      ]
    },
    {
      "cell_type": "code",
      "metadata": {
        "id": "Y3FUgmsUVX7-",
        "outputId": "6a7e2f39-75cd-4b93-9636-f50942ff2826"
      },
      "source": [
        "min(t1)"
      ],
      "execution_count": null,
      "outputs": [
        {
          "output_type": "error",
          "ename": "TypeError",
          "evalue": "'<' not supported between instances of 'str' and 'int'",
          "traceback": [
            "\u001b[1;31m---------------------------------------------------------------------------\u001b[0m",
            "\u001b[1;31mTypeError\u001b[0m                                 Traceback (most recent call last)",
            "\u001b[1;32m<ipython-input-41-e8166676ab5b>\u001b[0m in \u001b[0;36m<module>\u001b[1;34m\u001b[0m\n\u001b[1;32m----> 1\u001b[1;33m \u001b[0mmin\u001b[0m\u001b[1;33m(\u001b[0m\u001b[0mt1\u001b[0m\u001b[1;33m)\u001b[0m\u001b[1;33m\u001b[0m\u001b[1;33m\u001b[0m\u001b[0m\n\u001b[0m",
            "\u001b[1;31mTypeError\u001b[0m: '<' not supported between instances of 'str' and 'int'"
          ]
        }
      ]
    },
    {
      "cell_type": "code",
      "metadata": {
        "id": "0HMrg_I9VX7-",
        "outputId": "57958441-7abe-4ae5-be49-3b375e98f7a6"
      },
      "source": [
        "t3"
      ],
      "execution_count": null,
      "outputs": [
        {
          "output_type": "execute_result",
          "data": {
            "text/plain": [
              "(23, 343, 45, 454, 54)"
            ]
          },
          "metadata": {
            "tags": []
          },
          "execution_count": 42
        }
      ]
    },
    {
      "cell_type": "code",
      "metadata": {
        "id": "MXXg0gWkVX7_",
        "outputId": "b752166d-1925-42e3-f84a-c732f6587e09"
      },
      "source": [
        "min(t3)"
      ],
      "execution_count": null,
      "outputs": [
        {
          "output_type": "execute_result",
          "data": {
            "text/plain": [
              "23"
            ]
          },
          "metadata": {
            "tags": []
          },
          "execution_count": 43
        }
      ]
    },
    {
      "cell_type": "code",
      "metadata": {
        "id": "SZ6Yb7VmVX7_",
        "outputId": "990f600b-b5a8-4a17-9be7-bd5a54d77797"
      },
      "source": [
        "min(t4)"
      ],
      "execution_count": null,
      "outputs": [
        {
          "output_type": "execute_result",
          "data": {
            "text/plain": [
              "'Fsdf'"
            ]
          },
          "metadata": {
            "tags": []
          },
          "execution_count": 44
        }
      ]
    },
    {
      "cell_type": "code",
      "metadata": {
        "id": "pRi5oogrVX7_",
        "outputId": "d9298e62-5005-4f9e-85b5-c5561e6b3787"
      },
      "source": [
        "t"
      ],
      "execution_count": null,
      "outputs": [
        {
          "output_type": "execute_result",
          "data": {
            "text/plain": [
              "()"
            ]
          },
          "metadata": {
            "tags": []
          },
          "execution_count": 45
        }
      ]
    },
    {
      "cell_type": "code",
      "metadata": {
        "id": "PrR9tW66VX7_",
        "outputId": "fab04b9d-af12-4228-8b50-90747dbf0dec"
      },
      "source": [
        "t1"
      ],
      "execution_count": null,
      "outputs": [
        {
          "output_type": "execute_result",
          "data": {
            "text/plain": [
              "(234, 34, 'sudh', 3.45, 34, 34, 34, True)"
            ]
          },
          "metadata": {
            "tags": []
          },
          "execution_count": 46
        }
      ]
    },
    {
      "cell_type": "code",
      "metadata": {
        "id": "2vjtbvd2VX8A"
      },
      "source": [
        "t5 =(90,45)"
      ],
      "execution_count": null,
      "outputs": []
    },
    {
      "cell_type": "code",
      "metadata": {
        "id": "9AhBU0pfVX8A",
        "outputId": "5ca92b9e-a7ce-47f5-e01f-c249f9e60434"
      },
      "source": [
        "t1+t5"
      ],
      "execution_count": null,
      "outputs": [
        {
          "output_type": "execute_result",
          "data": {
            "text/plain": [
              "(234, 34, 'sudh', 3.45, 34, 34, 34, True, 90, 45)"
            ]
          },
          "metadata": {
            "tags": []
          },
          "execution_count": 50
        }
      ]
    },
    {
      "cell_type": "code",
      "metadata": {
        "id": "5FwhiBifVX8A"
      },
      "source": [
        "t6= 56"
      ],
      "execution_count": null,
      "outputs": []
    },
    {
      "cell_type": "code",
      "metadata": {
        "id": "UYICuaSkVX8A"
      },
      "source": [
        "l5 = list(t1)"
      ],
      "execution_count": null,
      "outputs": []
    },
    {
      "cell_type": "code",
      "metadata": {
        "id": "Vs5Yp50zVX8A"
      },
      "source": [
        "l5.insert(3,t6)"
      ],
      "execution_count": null,
      "outputs": []
    },
    {
      "cell_type": "code",
      "metadata": {
        "id": "RTHuxL60VX8A",
        "outputId": "a59eef89-1a56-454b-9097-bbe2e4849277"
      },
      "source": [
        "l5"
      ],
      "execution_count": null,
      "outputs": [
        {
          "output_type": "execute_result",
          "data": {
            "text/plain": [
              "[234, 34, 'sudh', 56, 3.45, 34, 34, 34, True]"
            ]
          },
          "metadata": {
            "tags": []
          },
          "execution_count": 56
        }
      ]
    },
    {
      "cell_type": "code",
      "metadata": {
        "id": "DNZHs2DOVX8B",
        "outputId": "b8e6629e-3fcf-4194-8caa-260b89982691"
      },
      "source": [
        "tuple(l5)"
      ],
      "execution_count": null,
      "outputs": [
        {
          "output_type": "execute_result",
          "data": {
            "text/plain": [
              "(234, 34, 'sudh', 56, 3.45, 34, 34, 34, True)"
            ]
          },
          "metadata": {
            "tags": []
          },
          "execution_count": 57
        }
      ]
    },
    {
      "cell_type": "code",
      "metadata": {
        "id": "1uJL1ErBVX8B"
      },
      "source": [
        "t = ((3,4,5,6,7) , (\"sdfsd\",45,45) , (\"454\",54) , 45,454,67 , [4,5,6,7,7])"
      ],
      "execution_count": null,
      "outputs": []
    },
    {
      "cell_type": "code",
      "metadata": {
        "id": "di3GZ1CxVX8B",
        "outputId": "a0a48e94-16e0-4dd1-a382-15478e9a1280"
      },
      "source": [
        "t[6][1:4]"
      ],
      "execution_count": null,
      "outputs": [
        {
          "output_type": "execute_result",
          "data": {
            "text/plain": [
              "[5, 6, 7]"
            ]
          },
          "metadata": {
            "tags": []
          },
          "execution_count": 65
        }
      ]
    },
    {
      "cell_type": "code",
      "metadata": {
        "id": "o2kQrtoPVX8B",
        "outputId": "eb6d800c-b97a-4c21-cce4-a3e1ceeec11f"
      },
      "source": [
        "t[1][0]"
      ],
      "execution_count": null,
      "outputs": [
        {
          "output_type": "execute_result",
          "data": {
            "text/plain": [
              "'sdfsd'"
            ]
          },
          "metadata": {
            "tags": []
          },
          "execution_count": 67
        }
      ]
    },
    {
      "cell_type": "code",
      "metadata": {
        "id": "DnWaF-GgVX8B",
        "outputId": "955bd87d-9bd7-4158-887e-d5c7b13a1a4f"
      },
      "source": [
        "for i in t :\n",
        "    print(i)"
      ],
      "execution_count": null,
      "outputs": [
        {
          "output_type": "stream",
          "text": [
            "(3, 4, 5, 6, 7)\n",
            "('sdfsd', 45, 45)\n",
            "('454', 54)\n",
            "45\n",
            "454\n",
            "67\n",
            "[4, 5, 6, 7, 7]\n"
          ],
          "name": "stdout"
        }
      ]
    },
    {
      "cell_type": "code",
      "metadata": {
        "id": "OUWmky45VX8C",
        "outputId": "58778d75-eca0-4689-ffad-0855a31cd5da"
      },
      "source": [
        "for i in t :\n",
        "    if type(i)==tuple :\n",
        "        print(i[0])"
      ],
      "execution_count": null,
      "outputs": [
        {
          "output_type": "stream",
          "text": [
            "3\n",
            "sdfsd\n",
            "454\n"
          ],
          "name": "stdout"
        }
      ]
    },
    {
      "cell_type": "code",
      "metadata": {
        "id": "wtMbWGIaVX8C",
        "outputId": "1783ad4a-1dde-4918-f30a-77c18bee6a4a"
      },
      "source": [
        "t1 "
      ],
      "execution_count": null,
      "outputs": [
        {
          "output_type": "execute_result",
          "data": {
            "text/plain": [
              "(234, 34, 'sudh', 3.45, 34, 34, 34, True)"
            ]
          },
          "metadata": {
            "tags": []
          },
          "execution_count": 70
        }
      ]
    },
    {
      "cell_type": "code",
      "metadata": {
        "id": "mOPobrq4VX8C",
        "outputId": "36ff429c-3822-48a3-8a47-69bf1473c8c6"
      },
      "source": [
        "t2"
      ],
      "execution_count": null,
      "outputs": [
        {
          "output_type": "execute_result",
          "data": {
            "text/plain": [
              "(234, 54, 565)"
            ]
          },
          "metadata": {
            "tags": []
          },
          "execution_count": 71
        }
      ]
    },
    {
      "cell_type": "code",
      "metadata": {
        "id": "LwXt8UHFVX8C",
        "outputId": "cf263435-55f3-49ed-a266-c490fe1b327a"
      },
      "source": [
        "if len(t1) == len(t2):\n",
        "    print(\"its same \")\n",
        "else :\n",
        "    print(\"not same \")"
      ],
      "execution_count": null,
      "outputs": [
        {
          "output_type": "stream",
          "text": [
            "not same \n"
          ],
          "name": "stdout"
        }
      ]
    },
    {
      "cell_type": "code",
      "metadata": {
        "id": "S0-yLwofVX8D"
      },
      "source": [
        "t = (234, 34, 'sudh', 3.45, 34, 34, 34, True , \"kumar\")\n",
        "\n"
      ],
      "execution_count": null,
      "outputs": []
    },
    {
      "cell_type": "code",
      "metadata": {
        "id": "_WLfUBIzVX8D",
        "outputId": "1565f553-ea86-462c-f7f0-82a78f61ff5b"
      },
      "source": [
        "i = input(\"take a user input\")\n",
        "\n",
        "if i in t :\n",
        "    print(\"yet s your name is available \")\n",
        "else :\n",
        "    print(\"your name is not available \")"
      ],
      "execution_count": null,
      "outputs": [
        {
          "output_type": "stream",
          "text": [
            "take a user input34\n",
            "your name is not available \n"
          ],
          "name": "stdout"
        }
      ]
    },
    {
      "cell_type": "code",
      "metadata": {
        "id": "FSu0lRLfVX8D",
        "outputId": "2b088cab-a220-43c5-fa60-c19a3d23896a"
      },
      "source": [
        "t"
      ],
      "execution_count": null,
      "outputs": [
        {
          "output_type": "execute_result",
          "data": {
            "text/plain": [
              "(234, 34, 'sudh', 3.45, 34, 34, 34, True, 'kumar')"
            ]
          },
          "metadata": {
            "tags": []
          },
          "execution_count": 78
        }
      ]
    },
    {
      "cell_type": "code",
      "metadata": {
        "id": "Ne00j3qOVX8D",
        "outputId": "78af4d09-cf05-4f2e-c400-a7ee2d92a229"
      },
      "source": [
        "l1"
      ],
      "execution_count": null,
      "outputs": [
        {
          "output_type": "execute_result",
          "data": {
            "text/plain": [
              "['kumar', 34, 'sudh', 3.45, True]"
            ]
          },
          "metadata": {
            "tags": []
          },
          "execution_count": 80
        }
      ]
    },
    {
      "cell_type": "code",
      "metadata": {
        "id": "sMZXlNdgVX8D"
      },
      "source": [
        "t1  = (34)"
      ],
      "execution_count": null,
      "outputs": []
    },
    {
      "cell_type": "code",
      "metadata": {
        "id": "ND5d5wMWVX8E"
      },
      "source": [
        "del(t)"
      ],
      "execution_count": null,
      "outputs": []
    },
    {
      "cell_type": "code",
      "metadata": {
        "id": "-p5gAjgvVX8E",
        "outputId": "71c89064-7431-4bf0-8236-cb5647374916"
      },
      "source": [
        "t"
      ],
      "execution_count": null,
      "outputs": [
        {
          "output_type": "error",
          "ename": "NameError",
          "evalue": "name 't' is not defined",
          "traceback": [
            "\u001b[1;31m---------------------------------------------------------------------------\u001b[0m",
            "\u001b[1;31mNameError\u001b[0m                                 Traceback (most recent call last)",
            "\u001b[1;32m<ipython-input-87-34fc7a11cb38>\u001b[0m in \u001b[0;36m<module>\u001b[1;34m\u001b[0m\n\u001b[1;32m----> 1\u001b[1;33m \u001b[0mt\u001b[0m\u001b[1;33m\u001b[0m\u001b[1;33m\u001b[0m\u001b[0m\n\u001b[0m",
            "\u001b[1;31mNameError\u001b[0m: name 't' is not defined"
          ]
        }
      ]
    },
    {
      "cell_type": "code",
      "metadata": {
        "id": "vGV-dRX1VX8E"
      },
      "source": [
        "del(l1)"
      ],
      "execution_count": null,
      "outputs": []
    },
    {
      "cell_type": "code",
      "metadata": {
        "id": "2kvD6TEXVX8E",
        "outputId": "52f5d7d7-c7ec-4893-fd51-8bd78e13d4a3"
      },
      "source": [
        "l1"
      ],
      "execution_count": null,
      "outputs": [
        {
          "output_type": "error",
          "ename": "NameError",
          "evalue": "name 'l1' is not defined",
          "traceback": [
            "\u001b[1;31m---------------------------------------------------------------------------\u001b[0m",
            "\u001b[1;31mNameError\u001b[0m                                 Traceback (most recent call last)",
            "\u001b[1;32m<ipython-input-89-6cf485bc2797>\u001b[0m in \u001b[0;36m<module>\u001b[1;34m\u001b[0m\n\u001b[1;32m----> 1\u001b[1;33m \u001b[0ml1\u001b[0m\u001b[1;33m\u001b[0m\u001b[1;33m\u001b[0m\u001b[0m\n\u001b[0m",
            "\u001b[1;31mNameError\u001b[0m: name 'l1' is not defined"
          ]
        }
      ]
    },
    {
      "cell_type": "code",
      "metadata": {
        "id": "9LKWpJMZVX8F"
      },
      "source": [
        "l = [324,343,343,34]"
      ],
      "execution_count": null,
      "outputs": []
    },
    {
      "cell_type": "code",
      "metadata": {
        "id": "YJ_z9hgmVX8F",
        "outputId": "125bbc4e-3625-4c88-e544-563122e88ef8"
      },
      "source": [
        "t2"
      ],
      "execution_count": null,
      "outputs": [
        {
          "output_type": "execute_result",
          "data": {
            "text/plain": [
              "(234, 54, 565)"
            ]
          },
          "metadata": {
            "tags": []
          },
          "execution_count": 92
        }
      ]
    },
    {
      "cell_type": "code",
      "metadata": {
        "id": "JaUIwqZjVX8F"
      },
      "source": [
        "x = set()"
      ],
      "execution_count": null,
      "outputs": []
    },
    {
      "cell_type": "code",
      "metadata": {
        "id": "udWVFZ5qVX8F",
        "outputId": "e17da309-7256-444a-b1cf-13e124b1388b"
      },
      "source": [
        "type(x)"
      ],
      "execution_count": null,
      "outputs": [
        {
          "output_type": "execute_result",
          "data": {
            "text/plain": [
              "set"
            ]
          },
          "metadata": {
            "tags": []
          },
          "execution_count": 94
        }
      ]
    },
    {
      "cell_type": "code",
      "metadata": {
        "id": "7wgtpwS4VX8F"
      },
      "source": [
        "l = [34,45,45,45,45,67,34,56,78,\"sudh\",\"sudh\",\"Sudh\",\"kumar\" ,45,454545454,545,4545,545 , [3,45,6]]"
      ],
      "execution_count": null,
      "outputs": []
    },
    {
      "cell_type": "code",
      "metadata": {
        "id": "hl540DiBVX8G",
        "outputId": "79ae9323-2874-4662-896d-a65ad11a65f2"
      },
      "source": [
        "s = set(l)"
      ],
      "execution_count": null,
      "outputs": [
        {
          "output_type": "error",
          "ename": "TypeError",
          "evalue": "unhashable type: 'list'",
          "traceback": [
            "\u001b[1;31m---------------------------------------------------------------------------\u001b[0m",
            "\u001b[1;31mTypeError\u001b[0m                                 Traceback (most recent call last)",
            "\u001b[1;32m<ipython-input-124-3c7060e5ad20>\u001b[0m in \u001b[0;36m<module>\u001b[1;34m\u001b[0m\n\u001b[1;32m----> 1\u001b[1;33m \u001b[0ms\u001b[0m \u001b[1;33m=\u001b[0m \u001b[0mset\u001b[0m\u001b[1;33m(\u001b[0m\u001b[0ml\u001b[0m\u001b[1;33m)\u001b[0m\u001b[1;33m\u001b[0m\u001b[1;33m\u001b[0m\u001b[0m\n\u001b[0m",
            "\u001b[1;31mTypeError\u001b[0m: unhashable type: 'list'"
          ]
        }
      ]
    },
    {
      "cell_type": "code",
      "metadata": {
        "id": "WBMH7AgmVX8G",
        "outputId": "1561a8b0-8386-45f8-a851-d882180ce993"
      },
      "source": [
        "s"
      ],
      "execution_count": null,
      "outputs": [
        {
          "output_type": "execute_result",
          "data": {
            "text/plain": [
              "{34, 45, 4545, 454545454, 545, 56, 67, 78, 'Sudh', 'kumar', 'sudh'}"
            ]
          },
          "metadata": {
            "tags": []
          },
          "execution_count": 115
        }
      ]
    },
    {
      "cell_type": "code",
      "metadata": {
        "id": "YeYdklR_VX8G",
        "outputId": "6a7ec94a-715a-475f-c8bc-1d2535833c4c"
      },
      "source": [
        "for i in s :\n",
        "    print(i)"
      ],
      "execution_count": null,
      "outputs": [
        {
          "output_type": "stream",
          "text": [
            "34\n",
            "67\n",
            "45\n",
            "78\n",
            "Sudh\n",
            "kumar\n",
            "56\n",
            "sudh\n"
          ],
          "name": "stdout"
        }
      ]
    },
    {
      "cell_type": "code",
      "metadata": {
        "id": "WR-LLi0AVX8G",
        "outputId": "fbb20a9d-de41-4450-ce19-44207eaa0b3d"
      },
      "source": [
        "34 in s "
      ],
      "execution_count": null,
      "outputs": [
        {
          "output_type": "execute_result",
          "data": {
            "text/plain": [
              "True"
            ]
          },
          "metadata": {
            "tags": []
          },
          "execution_count": 102
        }
      ]
    },
    {
      "cell_type": "code",
      "metadata": {
        "id": "Apeh-D62VX8G",
        "outputId": "33a4bfe7-9c19-4af5-81cb-1609a4869357"
      },
      "source": [
        "s[0]"
      ],
      "execution_count": null,
      "outputs": [
        {
          "output_type": "error",
          "ename": "TypeError",
          "evalue": "'set' object is not subscriptable",
          "traceback": [
            "\u001b[1;31m---------------------------------------------------------------------------\u001b[0m",
            "\u001b[1;31mTypeError\u001b[0m                                 Traceback (most recent call last)",
            "\u001b[1;32m<ipython-input-106-c9c96910e542>\u001b[0m in \u001b[0;36m<module>\u001b[1;34m\u001b[0m\n\u001b[1;32m----> 1\u001b[1;33m \u001b[0ms\u001b[0m\u001b[1;33m[\u001b[0m\u001b[1;36m0\u001b[0m\u001b[1;33m]\u001b[0m\u001b[1;33m\u001b[0m\u001b[1;33m\u001b[0m\u001b[0m\n\u001b[0m",
            "\u001b[1;31mTypeError\u001b[0m: 'set' object is not subscriptable"
          ]
        }
      ]
    },
    {
      "cell_type": "code",
      "metadata": {
        "id": "2-w6-pgdVX8H",
        "outputId": "ce28718d-e8fb-4474-c236-a108cbbfb758"
      },
      "source": [
        "s = set()\n",
        "s"
      ],
      "execution_count": null,
      "outputs": [
        {
          "output_type": "execute_result",
          "data": {
            "text/plain": [
              "set()"
            ]
          },
          "metadata": {
            "tags": []
          },
          "execution_count": 117
        }
      ]
    },
    {
      "cell_type": "code",
      "metadata": {
        "id": "QCbPiTH6VX8H"
      },
      "source": [
        "s.add(45)"
      ],
      "execution_count": null,
      "outputs": []
    },
    {
      "cell_type": "code",
      "metadata": {
        "id": "HL2dAuMxVX8H",
        "outputId": "126e0fc9-0384-4a49-83cb-10e1f78de058"
      },
      "source": [
        "s"
      ],
      "execution_count": null,
      "outputs": [
        {
          "output_type": "execute_result",
          "data": {
            "text/plain": [
              "{45}"
            ]
          },
          "metadata": {
            "tags": []
          },
          "execution_count": 119
        }
      ]
    },
    {
      "cell_type": "code",
      "metadata": {
        "id": "GkB3X_zpVX8H"
      },
      "source": [
        "s.add(\"sudh\")"
      ],
      "execution_count": null,
      "outputs": []
    },
    {
      "cell_type": "code",
      "metadata": {
        "id": "eulfd2nOVX8H"
      },
      "source": [
        "s.add(\"fsdfsfs\")"
      ],
      "execution_count": null,
      "outputs": []
    },
    {
      "cell_type": "code",
      "metadata": {
        "id": "uMs8-6t2VX8H",
        "outputId": "c5b97479-3050-4d75-de42-acbcc7581794"
      },
      "source": [
        "s.add([2344455,454])"
      ],
      "execution_count": null,
      "outputs": [
        {
          "output_type": "error",
          "ename": "TypeError",
          "evalue": "unhashable type: 'list'",
          "traceback": [
            "\u001b[1;31m---------------------------------------------------------------------------\u001b[0m",
            "\u001b[1;31mTypeError\u001b[0m                                 Traceback (most recent call last)",
            "\u001b[1;32m<ipython-input-122-27fd4cc9406d>\u001b[0m in \u001b[0;36m<module>\u001b[1;34m\u001b[0m\n\u001b[1;32m----> 1\u001b[1;33m \u001b[0ms\u001b[0m\u001b[1;33m.\u001b[0m\u001b[0madd\u001b[0m\u001b[1;33m(\u001b[0m\u001b[1;33m[\u001b[0m\u001b[1;36m2344455\u001b[0m\u001b[1;33m,\u001b[0m\u001b[1;36m454\u001b[0m\u001b[1;33m]\u001b[0m\u001b[1;33m)\u001b[0m\u001b[1;33m\u001b[0m\u001b[1;33m\u001b[0m\u001b[0m\n\u001b[0m",
            "\u001b[1;31mTypeError\u001b[0m: unhashable type: 'list'"
          ]
        }
      ]
    },
    {
      "cell_type": "code",
      "metadata": {
        "id": "cQOGOF4VVX8I",
        "outputId": "bb33402f-f3cb-4c4e-c645-9c14965bdc73"
      },
      "source": [
        "s"
      ],
      "execution_count": null,
      "outputs": [
        {
          "output_type": "execute_result",
          "data": {
            "text/plain": [
              "{45, 'fsdfsfs', 'sudh'}"
            ]
          },
          "metadata": {
            "tags": []
          },
          "execution_count": 125
        }
      ]
    },
    {
      "cell_type": "code",
      "metadata": {
        "id": "o_nAqF9_VX8I"
      },
      "source": [
        "s.add(45)"
      ],
      "execution_count": null,
      "outputs": []
    },
    {
      "cell_type": "code",
      "metadata": {
        "id": "jJ4r8yTxVX8I",
        "outputId": "36eb0ced-d2f4-47d7-ee60-0645f25b6556"
      },
      "source": [
        "s"
      ],
      "execution_count": null,
      "outputs": [
        {
          "output_type": "execute_result",
          "data": {
            "text/plain": [
              "{45, 'fsdfsfs', 'sudh'}"
            ]
          },
          "metadata": {
            "tags": []
          },
          "execution_count": 127
        }
      ]
    },
    {
      "cell_type": "code",
      "metadata": {
        "id": "Uum3nm21VX8I",
        "outputId": "cc30751e-d363-45d1-d386-f1014c301aa7"
      },
      "source": [
        "s"
      ],
      "execution_count": null,
      "outputs": [
        {
          "output_type": "execute_result",
          "data": {
            "text/plain": [
              "{45, 'fsdfsfs', 'sudh'}"
            ]
          },
          "metadata": {
            "tags": []
          },
          "execution_count": 128
        }
      ]
    },
    {
      "cell_type": "code",
      "metadata": {
        "id": "QMib73-RVX8I",
        "outputId": "167b7848-5d47-4523-f45c-9bf792164c27"
      },
      "source": [
        "s.remove(45)"
      ],
      "execution_count": null,
      "outputs": [
        {
          "output_type": "error",
          "ename": "KeyError",
          "evalue": "45",
          "traceback": [
            "\u001b[1;31m---------------------------------------------------------------------------\u001b[0m",
            "\u001b[1;31mKeyError\u001b[0m                                  Traceback (most recent call last)",
            "\u001b[1;32m<ipython-input-131-30b5ee21a9a0>\u001b[0m in \u001b[0;36m<module>\u001b[1;34m\u001b[0m\n\u001b[1;32m----> 1\u001b[1;33m \u001b[0ms\u001b[0m\u001b[1;33m.\u001b[0m\u001b[0mremove\u001b[0m\u001b[1;33m(\u001b[0m\u001b[1;36m45\u001b[0m\u001b[1;33m)\u001b[0m\u001b[1;33m\u001b[0m\u001b[1;33m\u001b[0m\u001b[0m\n\u001b[0m",
            "\u001b[1;31mKeyError\u001b[0m: 45"
          ]
        }
      ]
    },
    {
      "cell_type": "code",
      "metadata": {
        "id": "RofgeCQPVX8J",
        "outputId": "807742c3-79fd-423e-af7d-bf878e4ef51f"
      },
      "source": [
        "s"
      ],
      "execution_count": null,
      "outputs": [
        {
          "output_type": "execute_result",
          "data": {
            "text/plain": [
              "{'fsdfsfs', 'sudh'}"
            ]
          },
          "metadata": {
            "tags": []
          },
          "execution_count": 130
        }
      ]
    },
    {
      "cell_type": "code",
      "metadata": {
        "id": "BR2_HOUsVX8J",
        "outputId": "f98a6707-177f-4f64-913f-26db4e52d23a"
      },
      "source": [
        "45 in s"
      ],
      "execution_count": null,
      "outputs": [
        {
          "output_type": "execute_result",
          "data": {
            "text/plain": [
              "False"
            ]
          },
          "metadata": {
            "tags": []
          },
          "execution_count": 132
        }
      ]
    },
    {
      "cell_type": "code",
      "metadata": {
        "id": "TwoeB2NmVX8J"
      },
      "source": [
        "s.clear()"
      ],
      "execution_count": null,
      "outputs": []
    },
    {
      "cell_type": "code",
      "metadata": {
        "id": "6mBeJjsgVX8J",
        "outputId": "841d7cc5-6e78-47d7-c963-fb2880183c3d"
      },
      "source": [
        "s"
      ],
      "execution_count": null,
      "outputs": [
        {
          "output_type": "execute_result",
          "data": {
            "text/plain": [
              "set()"
            ]
          },
          "metadata": {
            "tags": []
          },
          "execution_count": 134
        }
      ]
    },
    {
      "cell_type": "code",
      "metadata": {
        "id": "qFevYbsiVX8K",
        "outputId": "e745352a-a45e-4813-8050-954f7b43adf9"
      },
      "source": [
        "s "
      ],
      "execution_count": null,
      "outputs": [
        {
          "output_type": "execute_result",
          "data": {
            "text/plain": [
              "set()"
            ]
          },
          "metadata": {
            "tags": []
          },
          "execution_count": 135
        }
      ]
    },
    {
      "cell_type": "code",
      "metadata": {
        "id": "PCH_l07hVX8K",
        "outputId": "6fd27094-81aa-4c0c-a5c6-13bdcb6d8305"
      },
      "source": [
        "s "
      ],
      "execution_count": null,
      "outputs": [
        {
          "output_type": "execute_result",
          "data": {
            "text/plain": [
              "set()"
            ]
          },
          "metadata": {
            "tags": []
          },
          "execution_count": 137
        }
      ]
    },
    {
      "cell_type": "code",
      "metadata": {
        "id": "MW0fel69VX8K"
      },
      "source": [
        "s.add(\"sdfsd\")"
      ],
      "execution_count": null,
      "outputs": []
    },
    {
      "cell_type": "code",
      "metadata": {
        "id": "q21j0f7PVX8K"
      },
      "source": [
        "s.add(234)"
      ],
      "execution_count": null,
      "outputs": []
    },
    {
      "cell_type": "code",
      "metadata": {
        "id": "SsirTqTOVX8K"
      },
      "source": [
        "s.add(345)"
      ],
      "execution_count": null,
      "outputs": []
    },
    {
      "cell_type": "code",
      "metadata": {
        "id": "pV9CT0Z2VX8K"
      },
      "source": [
        "s.add(\"wer\")"
      ],
      "execution_count": null,
      "outputs": []
    },
    {
      "cell_type": "code",
      "metadata": {
        "id": "rG6HZeePVX8L",
        "outputId": "eeb5f222-3b7a-4e2d-a6aa-95606982ae1a"
      },
      "source": [
        "s"
      ],
      "execution_count": null,
      "outputs": [
        {
          "output_type": "execute_result",
          "data": {
            "text/plain": [
              "{234, 345, 'sdfsd', 'wer'}"
            ]
          },
          "metadata": {
            "tags": []
          },
          "execution_count": 142
        }
      ]
    },
    {
      "cell_type": "code",
      "metadata": {
        "id": "r6Ehf5cWVX8L"
      },
      "source": [
        "s1 = set(l)"
      ],
      "execution_count": null,
      "outputs": []
    },
    {
      "cell_type": "code",
      "metadata": {
        "id": "NikXMj3HVX8L"
      },
      "source": [
        "l = [345,5464566,54645,6546,4654,654,6]"
      ],
      "execution_count": null,
      "outputs": []
    },
    {
      "cell_type": "code",
      "metadata": {
        "id": "rvizDFQ1VX8L",
        "outputId": "eb503d66-8dd0-4bf3-bdf0-dcb1c2d0d9e4"
      },
      "source": [
        "s1"
      ],
      "execution_count": null,
      "outputs": [
        {
          "output_type": "execute_result",
          "data": {
            "text/plain": [
              "{6, 345, 654, 4654, 6546, 54645, 5464566}"
            ]
          },
          "metadata": {
            "tags": []
          },
          "execution_count": 147
        }
      ]
    },
    {
      "cell_type": "code",
      "metadata": {
        "id": "ENdEDUKuVX8L",
        "outputId": "cfd5296e-b2ae-4b05-e5b9-78006bbc06a8"
      },
      "source": [
        "s + s1"
      ],
      "execution_count": null,
      "outputs": [
        {
          "output_type": "error",
          "ename": "TypeError",
          "evalue": "unsupported operand type(s) for +: 'set' and 'set'",
          "traceback": [
            "\u001b[1;31m---------------------------------------------------------------------------\u001b[0m",
            "\u001b[1;31mTypeError\u001b[0m                                 Traceback (most recent call last)",
            "\u001b[1;32m<ipython-input-148-e53cb767b11d>\u001b[0m in \u001b[0;36m<module>\u001b[1;34m\u001b[0m\n\u001b[1;32m----> 1\u001b[1;33m \u001b[0ms\u001b[0m \u001b[1;33m+\u001b[0m \u001b[0ms1\u001b[0m\u001b[1;33m\u001b[0m\u001b[1;33m\u001b[0m\u001b[0m\n\u001b[0m",
            "\u001b[1;31mTypeError\u001b[0m: unsupported operand type(s) for +: 'set' and 'set'"
          ]
        }
      ]
    },
    {
      "cell_type": "code",
      "metadata": {
        "id": "sMEZsF4gVX8M",
        "outputId": "46ea0b64-dfc2-4385-dfaf-343d3e36bcf4"
      },
      "source": [
        "s * 4"
      ],
      "execution_count": null,
      "outputs": [
        {
          "output_type": "error",
          "ename": "TypeError",
          "evalue": "unsupported operand type(s) for *: 'set' and 'int'",
          "traceback": [
            "\u001b[1;31m---------------------------------------------------------------------------\u001b[0m",
            "\u001b[1;31mTypeError\u001b[0m                                 Traceback (most recent call last)",
            "\u001b[1;32m<ipython-input-149-bfe08a66835a>\u001b[0m in \u001b[0;36m<module>\u001b[1;34m\u001b[0m\n\u001b[1;32m----> 1\u001b[1;33m \u001b[0ms\u001b[0m \u001b[1;33m*\u001b[0m \u001b[1;36m4\u001b[0m\u001b[1;33m\u001b[0m\u001b[1;33m\u001b[0m\u001b[0m\n\u001b[0m",
            "\u001b[1;31mTypeError\u001b[0m: unsupported operand type(s) for *: 'set' and 'int'"
          ]
        }
      ]
    },
    {
      "cell_type": "code",
      "metadata": {
        "id": "7r5MeDuaVX8M",
        "outputId": "e4236984-7905-46a3-dc5c-cb9efffa7805"
      },
      "source": [
        "s "
      ],
      "execution_count": null,
      "outputs": [
        {
          "output_type": "execute_result",
          "data": {
            "text/plain": [
              "{234, 345, 'sdfsd', 'wer'}"
            ]
          },
          "metadata": {
            "tags": []
          },
          "execution_count": 150
        }
      ]
    },
    {
      "cell_type": "code",
      "metadata": {
        "id": "Umt5mv39VX8M"
      },
      "source": [
        "l4 = list(s)"
      ],
      "execution_count": null,
      "outputs": []
    },
    {
      "cell_type": "code",
      "metadata": {
        "id": "xYUO8M6fVX8M"
      },
      "source": [
        "l4.append(345)"
      ],
      "execution_count": null,
      "outputs": []
    },
    {
      "cell_type": "markdown",
      "metadata": {
        "id": "MPfhO7-0VX8M"
      },
      "source": [
        "#### "
      ]
    },
    {
      "cell_type": "code",
      "metadata": {
        "id": "JJKtsP67VX8M",
        "outputId": "c6da52d3-cc52-4b76-b872-6f578f26cc1e"
      },
      "source": [
        "l4"
      ],
      "execution_count": null,
      "outputs": [
        {
          "output_type": "execute_result",
          "data": {
            "text/plain": [
              "['sdfsd', 345, 234, 'wer', 454, 345]"
            ]
          },
          "metadata": {
            "tags": []
          },
          "execution_count": 156
        }
      ]
    },
    {
      "cell_type": "code",
      "metadata": {
        "id": "ruIHPBQJVX8N"
      },
      "source": [
        " t4 = tuple(s)"
      ],
      "execution_count": null,
      "outputs": []
    },
    {
      "cell_type": "code",
      "metadata": {
        "id": "sq6z16IkVX8N",
        "outputId": "36601f31-22d4-4208-fe7a-6ab95339910f"
      },
      "source": [
        "set(t4)"
      ],
      "execution_count": null,
      "outputs": [
        {
          "output_type": "execute_result",
          "data": {
            "text/plain": [
              "{234, 345, 'sdfsd', 'wer'}"
            ]
          },
          "metadata": {
            "tags": []
          },
          "execution_count": 159
        }
      ]
    },
    {
      "cell_type": "code",
      "metadata": {
        "id": "uBTHQeR5VX8N",
        "outputId": "a22db577-45fa-4382-84c4-4ca3f514e078"
      },
      "source": [
        "s "
      ],
      "execution_count": null,
      "outputs": [
        {
          "output_type": "execute_result",
          "data": {
            "text/plain": [
              "{234, 345, 'sdfsd', 'wer'}"
            ]
          },
          "metadata": {
            "tags": []
          },
          "execution_count": 160
        }
      ]
    },
    {
      "cell_type": "code",
      "metadata": {
        "id": "hluUBCrDVX8N",
        "outputId": "485fc688-f0de-459a-f296-b89eda83d8f5"
      },
      "source": [
        "s[0] = \"fsdfs\""
      ],
      "execution_count": null,
      "outputs": [
        {
          "output_type": "error",
          "ename": "TypeError",
          "evalue": "'set' object does not support item assignment",
          "traceback": [
            "\u001b[1;31m---------------------------------------------------------------------------\u001b[0m",
            "\u001b[1;31mTypeError\u001b[0m                                 Traceback (most recent call last)",
            "\u001b[1;32m<ipython-input-162-0b3feb6a5a72>\u001b[0m in \u001b[0;36m<module>\u001b[1;34m\u001b[0m\n\u001b[1;32m----> 1\u001b[1;33m \u001b[0ms\u001b[0m\u001b[1;33m[\u001b[0m\u001b[1;36m0\u001b[0m\u001b[1;33m]\u001b[0m \u001b[1;33m=\u001b[0m \u001b[1;34m\"fsdfs\"\u001b[0m\u001b[1;33m\u001b[0m\u001b[1;33m\u001b[0m\u001b[0m\n\u001b[0m",
            "\u001b[1;31mTypeError\u001b[0m: 'set' object does not support item assignment"
          ]
        }
      ]
    },
    {
      "cell_type": "code",
      "metadata": {
        "id": "wIqYNmRuVX8O"
      },
      "source": [
        "x = {}"
      ],
      "execution_count": null,
      "outputs": []
    },
    {
      "cell_type": "code",
      "metadata": {
        "id": "j6MxXE3hVX8O",
        "outputId": "5a9d4e08-dd47-467c-8037-67f2d387fd5e"
      },
      "source": [
        "type(x)"
      ],
      "execution_count": null,
      "outputs": [
        {
          "output_type": "execute_result",
          "data": {
            "text/plain": [
              "dict"
            ]
          },
          "metadata": {
            "tags": []
          },
          "execution_count": 164
        }
      ]
    },
    {
      "cell_type": "code",
      "metadata": {
        "id": "v0jn71JlVX8O"
      },
      "source": [
        "x1 = {34,56}"
      ],
      "execution_count": null,
      "outputs": []
    },
    {
      "cell_type": "code",
      "metadata": {
        "id": "fqOxpIBeVX8O",
        "outputId": "b10c7933-d061-421c-ff95-6bc4325c7d08"
      },
      "source": [
        "type(x1)"
      ],
      "execution_count": null,
      "outputs": [
        {
          "output_type": "execute_result",
          "data": {
            "text/plain": [
              "set"
            ]
          },
          "metadata": {
            "tags": []
          },
          "execution_count": 166
        }
      ]
    },
    {
      "cell_type": "code",
      "metadata": {
        "id": "SNiWnIkCVX8O"
      },
      "source": [
        "x = {\"name \" :\"sudh\"  , \"age\": 3455}"
      ],
      "execution_count": null,
      "outputs": []
    },
    {
      "cell_type": "code",
      "metadata": {
        "id": "EDmA-TV4VX8O",
        "outputId": "e93c0df7-835c-482f-ecb1-ac707b00cb28"
      },
      "source": [
        "type(x)"
      ],
      "execution_count": null,
      "outputs": [
        {
          "output_type": "execute_result",
          "data": {
            "text/plain": [
              "dict"
            ]
          },
          "metadata": {
            "tags": []
          },
          "execution_count": 168
        }
      ]
    },
    {
      "cell_type": "code",
      "metadata": {
        "id": "gRLcPoBsVX8P"
      },
      "source": [
        "x1 = {\"name \" :\"sudh\"  , \"age\": 3455 ,True : {45,34545,454,54}, \"key\" : False , 34554:(45,45,45,45) , \"_sfsdf\" : [34,45,454,54,545]}"
      ],
      "execution_count": null,
      "outputs": []
    },
    {
      "cell_type": "code",
      "metadata": {
        "id": "I8md2pq9VX8P",
        "outputId": "1ba7de35-b543-4df4-94a7-d916dca6552c"
      },
      "source": [
        "x1"
      ],
      "execution_count": null,
      "outputs": [
        {
          "output_type": "execute_result",
          "data": {
            "text/plain": [
              "{'name ': 'sudh',\n",
              " 'age': 3455,\n",
              " True: {45, 54, 454, 34545},\n",
              " 'key': False,\n",
              " 34554: (45, 45, 45, 45),\n",
              " '_sfsdf': [34, 45, 454, 54, 545]}"
            ]
          },
          "metadata": {
            "tags": []
          },
          "execution_count": 184
        }
      ]
    },
    {
      "cell_type": "code",
      "metadata": {
        "id": "m5r4OZ5zVX8P"
      },
      "source": [
        "x2 = {\"name \" :{\"k1\":\"wer\",'k4' :[345,534535,534,]} , \"age\": 3455 ,True : {45,34545,454,54}, \"key\" : False , 34554:(45,45,45,45) , \"_sfsdf\" : [34,45,454,54,545]}"
      ],
      "execution_count": null,
      "outputs": []
    },
    {
      "cell_type": "code",
      "metadata": {
        "id": "-viAX5MDVX8P",
        "outputId": "d40ca7be-0f70-42d5-9cd0-edcb10f5f64b"
      },
      "source": [
        "x2"
      ],
      "execution_count": null,
      "outputs": [
        {
          "output_type": "execute_result",
          "data": {
            "text/plain": [
              "{'name ': {'k1': 'wer', 'k4': [345, 534535, 534]},\n",
              " 'age': 3455,\n",
              " True: {45, 54, 454, 34545},\n",
              " 'key': False,\n",
              " 34554: (45, 45, 45, 45),\n",
              " '_sfsdf': [34, 45, 454, 54, 545]}"
            ]
          },
          "metadata": {
            "tags": []
          },
          "execution_count": 186
        }
      ]
    },
    {
      "cell_type": "code",
      "metadata": {
        "id": "5DMuKGgNVX8P"
      },
      "source": [
        "x3 = {5:\"wer\",'k4' :[345,534535,534,]} "
      ],
      "execution_count": null,
      "outputs": []
    },
    {
      "cell_type": "code",
      "metadata": {
        "id": "FUJMAUYYVX8Q",
        "outputId": "903315c5-ecea-4960-eee3-f2b302244597"
      },
      "source": [
        "l = [34,45,4,54]\n",
        "l[2]"
      ],
      "execution_count": null,
      "outputs": [
        {
          "output_type": "execute_result",
          "data": {
            "text/plain": [
              "4"
            ]
          },
          "metadata": {
            "tags": []
          },
          "execution_count": 194
        }
      ]
    },
    {
      "cell_type": "code",
      "metadata": {
        "id": "BxKRg_e_VX8Q",
        "outputId": "c625ef95-5850-4c5e-db20-abb62425183d"
      },
      "source": [
        "x2[\"key\"]"
      ],
      "execution_count": null,
      "outputs": [
        {
          "output_type": "execute_result",
          "data": {
            "text/plain": [
              "False"
            ]
          },
          "metadata": {
            "tags": []
          },
          "execution_count": 195
        }
      ]
    },
    {
      "cell_type": "code",
      "metadata": {
        "id": "yXpHyD2OVX8Q",
        "outputId": "772806a5-d796-46fb-c440-98233a4520f9"
      },
      "source": [
        "x2[34554]"
      ],
      "execution_count": null,
      "outputs": [
        {
          "output_type": "execute_result",
          "data": {
            "text/plain": [
              "(45, 45, 45, 45)"
            ]
          },
          "metadata": {
            "tags": []
          },
          "execution_count": 196
        }
      ]
    },
    {
      "cell_type": "code",
      "metadata": {
        "id": "Du8jQo0rVX8Q",
        "outputId": "f608d769-291c-4305-86db-7fc0d29c47a9"
      },
      "source": [
        "x2[\"_sfsdf\"][3]"
      ],
      "execution_count": null,
      "outputs": [
        {
          "output_type": "execute_result",
          "data": {
            "text/plain": [
              "54"
            ]
          },
          "metadata": {
            "tags": []
          },
          "execution_count": 200
        }
      ]
    },
    {
      "cell_type": "code",
      "metadata": {
        "id": "PQHbYttkVX8R",
        "outputId": "3ce90a7f-0be2-4fe8-a640-bded5f33bdc4"
      },
      "source": [
        "x2[\"name \"]['k4'][2]"
      ],
      "execution_count": null,
      "outputs": [
        {
          "output_type": "execute_result",
          "data": {
            "text/plain": [
              "534"
            ]
          },
          "metadata": {
            "tags": []
          },
          "execution_count": 205
        }
      ]
    },
    {
      "cell_type": "code",
      "metadata": {
        "id": "fh_mzkZ8VX8R"
      },
      "source": [
        "x3 = {5:\"wer\",'k4' :[345,534535,534,]} "
      ],
      "execution_count": null,
      "outputs": []
    },
    {
      "cell_type": "code",
      "metadata": {
        "id": "8H6acw1wVX8R"
      },
      "source": [
        "x4 = {\"k4\" :\"Fsdfs\"}"
      ],
      "execution_count": null,
      "outputs": []
    },
    {
      "cell_type": "code",
      "metadata": {
        "id": "ECJjhxh5VX8R",
        "outputId": "35364e40-875a-4dd6-9ff7-e1b76c2f72a5"
      },
      "source": [
        "x3+x4"
      ],
      "execution_count": null,
      "outputs": [
        {
          "output_type": "error",
          "ename": "TypeError",
          "evalue": "unsupported operand type(s) for +: 'dict' and 'dict'",
          "traceback": [
            "\u001b[1;31m---------------------------------------------------------------------------\u001b[0m",
            "\u001b[1;31mTypeError\u001b[0m                                 Traceback (most recent call last)",
            "\u001b[1;32m<ipython-input-208-6b27f76da613>\u001b[0m in \u001b[0;36m<module>\u001b[1;34m\u001b[0m\n\u001b[1;32m----> 1\u001b[1;33m \u001b[0mx3\u001b[0m\u001b[1;33m+\u001b[0m\u001b[0mx4\u001b[0m\u001b[1;33m\u001b[0m\u001b[1;33m\u001b[0m\u001b[0m\n\u001b[0m",
            "\u001b[1;31mTypeError\u001b[0m: unsupported operand type(s) for +: 'dict' and 'dict'"
          ]
        }
      ]
    },
    {
      "cell_type": "code",
      "metadata": {
        "id": "XZGiin_aVX8R",
        "outputId": "2babd482-a2a9-4875-e42c-05dc0bbdfb30"
      },
      "source": [
        "x3 * 3"
      ],
      "execution_count": null,
      "outputs": [
        {
          "output_type": "error",
          "ename": "TypeError",
          "evalue": "unsupported operand type(s) for *: 'dict' and 'int'",
          "traceback": [
            "\u001b[1;31m---------------------------------------------------------------------------\u001b[0m",
            "\u001b[1;31mTypeError\u001b[0m                                 Traceback (most recent call last)",
            "\u001b[1;32m<ipython-input-211-25847429fcd3>\u001b[0m in \u001b[0;36m<module>\u001b[1;34m\u001b[0m\n\u001b[1;32m----> 1\u001b[1;33m \u001b[0mx3\u001b[0m \u001b[1;33m*\u001b[0m \u001b[1;36m3\u001b[0m\u001b[1;33m\u001b[0m\u001b[1;33m\u001b[0m\u001b[0m\n\u001b[0m",
            "\u001b[1;31mTypeError\u001b[0m: unsupported operand type(s) for *: 'dict' and 'int'"
          ]
        }
      ]
    },
    {
      "cell_type": "code",
      "metadata": {
        "id": "-hP5ZywoVX8S",
        "outputId": "2f092dcc-d54b-4e50-e563-f8f30d10b45c"
      },
      "source": [
        "x3 "
      ],
      "execution_count": null,
      "outputs": [
        {
          "output_type": "execute_result",
          "data": {
            "text/plain": [
              "{5: 'wer', 'k4': [345, 534535, 534]}"
            ]
          },
          "metadata": {
            "tags": []
          },
          "execution_count": 212
        }
      ]
    },
    {
      "cell_type": "code",
      "metadata": {
        "id": "vB3THZ-bVX8S"
      },
      "source": [
        "x3['k4'] = 456"
      ],
      "execution_count": null,
      "outputs": []
    },
    {
      "cell_type": "code",
      "metadata": {
        "id": "dsEWh_BUVX8S",
        "outputId": "5b6d5a59-4afd-4282-ce59-416722fc41bf"
      },
      "source": [
        "x3"
      ],
      "execution_count": null,
      "outputs": [
        {
          "output_type": "execute_result",
          "data": {
            "text/plain": [
              "{5: 'wer', 'k4': 456}"
            ]
          },
          "metadata": {
            "tags": []
          },
          "execution_count": 217
        }
      ]
    },
    {
      "cell_type": "code",
      "metadata": {
        "id": "TttyHG7EVX8S"
      },
      "source": [
        "x3['k4'] -= 10"
      ],
      "execution_count": null,
      "outputs": []
    },
    {
      "cell_type": "code",
      "metadata": {
        "id": "1htgSTpYVX8S"
      },
      "source": [
        "x3['k4'] = x3['k4'] -10"
      ],
      "execution_count": null,
      "outputs": []
    },
    {
      "cell_type": "code",
      "metadata": {
        "id": "lg9bPINBVX8T",
        "outputId": "0c670ae4-2256-42e9-c810-0f68f1380c7b"
      },
      "source": [
        "x3"
      ],
      "execution_count": null,
      "outputs": [
        {
          "output_type": "execute_result",
          "data": {
            "text/plain": [
              "{5: 'wer', 'k4': 446}"
            ]
          },
          "metadata": {
            "tags": []
          },
          "execution_count": 219
        }
      ]
    },
    {
      "cell_type": "code",
      "metadata": {
        "id": "N5DNApPdVX8T",
        "outputId": "6f061d2e-b467-416d-fb3d-75e51d2ce543"
      },
      "source": [
        "'k4' in x3.keys()"
      ],
      "execution_count": null,
      "outputs": [
        {
          "output_type": "execute_result",
          "data": {
            "text/plain": [
              "True"
            ]
          },
          "metadata": {
            "tags": []
          },
          "execution_count": 222
        }
      ]
    },
    {
      "cell_type": "code",
      "metadata": {
        "id": "Mcp9kxrPVX8T",
        "outputId": "06fc83da-c050-423e-f7ca-182e8803e4f6"
      },
      "source": [
        "x3.keys()"
      ],
      "execution_count": null,
      "outputs": [
        {
          "output_type": "execute_result",
          "data": {
            "text/plain": [
              "dict_keys([5, 'k4'])"
            ]
          },
          "metadata": {
            "tags": []
          },
          "execution_count": 223
        }
      ]
    },
    {
      "cell_type": "code",
      "metadata": {
        "id": "1998RR_jVX8T",
        "outputId": "0ef4f824-b4e8-441b-f882-5a0f0c70513a"
      },
      "source": [
        "for i in x3.keys() :\n",
        "    print(x3[i])"
      ],
      "execution_count": null,
      "outputs": [
        {
          "output_type": "stream",
          "text": [
            "wer\n",
            "446\n"
          ],
          "name": "stdout"
        }
      ]
    },
    {
      "cell_type": "code",
      "metadata": {
        "id": "twHuZ6QHVX8U",
        "outputId": "be921362-aad6-4c29-dde9-85717ff89a8a"
      },
      "source": [
        "x3"
      ],
      "execution_count": null,
      "outputs": [
        {
          "output_type": "execute_result",
          "data": {
            "text/plain": [
              "{5: 'wer', 'k4': 446}"
            ]
          },
          "metadata": {
            "tags": []
          },
          "execution_count": 225
        }
      ]
    },
    {
      "cell_type": "code",
      "metadata": {
        "id": "j-WZK1AQVX8U",
        "outputId": "9094af60-1e30-4e90-a6bc-983a7b4b2497"
      },
      "source": [
        "x2 "
      ],
      "execution_count": null,
      "outputs": [
        {
          "output_type": "execute_result",
          "data": {
            "text/plain": [
              "{'name ': {'k1': 'wer', 'k4': [345, 534535, 534]},\n",
              " 'age': 3455,\n",
              " True: {45, 54, 454, 34545},\n",
              " 'key': False,\n",
              " 34554: (45, 45, 45, 45),\n",
              " '_sfsdf': [34, 45, 454, 54, 545]}"
            ]
          },
          "metadata": {
            "tags": []
          },
          "execution_count": 227
        }
      ]
    },
    {
      "cell_type": "code",
      "metadata": {
        "id": "xsUJzi5UVX8U",
        "outputId": "dadf7132-cdc7-409c-c4b5-82d73020d050"
      },
      "source": [
        "x2.keys()"
      ],
      "execution_count": null,
      "outputs": [
        {
          "output_type": "execute_result",
          "data": {
            "text/plain": [
              "dict_keys(['name ', 'age', True, 'key', 34554, '_sfsdf'])"
            ]
          },
          "metadata": {
            "tags": []
          },
          "execution_count": 228
        }
      ]
    },
    {
      "cell_type": "code",
      "metadata": {
        "id": "jpyqoh3tVX8U",
        "outputId": "d2183034-23f7-47c8-93da-fb44eb4d17f5"
      },
      "source": [
        "for i in x2.keys():\n",
        "    print(type(x2[i]))"
      ],
      "execution_count": null,
      "outputs": [
        {
          "output_type": "stream",
          "text": [
            "<class 'dict'>\n",
            "<class 'int'>\n",
            "<class 'set'>\n",
            "<class 'bool'>\n",
            "<class 'tuple'>\n",
            "<class 'list'>\n"
          ],
          "name": "stdout"
        }
      ]
    },
    {
      "cell_type": "code",
      "metadata": {
        "id": "G1yqWNFoVX8V",
        "outputId": "8fa7207b-f8ce-41ce-8543-db8da002dced"
      },
      "source": [
        "x2.items()"
      ],
      "execution_count": null,
      "outputs": [
        {
          "output_type": "execute_result",
          "data": {
            "text/plain": [
              "dict_items([('name ', {'k1': 'wer', 'k4': [345, 534535, 534]}), ('age', 3455), (True, {54, 34545, 45, 454}), ('key', False), (34554, (45, 45, 45, 45)), ('_sfsdf', [34, 45, 454, 54, 545])])"
            ]
          },
          "metadata": {
            "tags": []
          },
          "execution_count": 232
        }
      ]
    },
    {
      "cell_type": "code",
      "metadata": {
        "scrolled": true,
        "id": "9ab1nKLWVX8V",
        "outputId": "87e66c9d-3806-42bd-d634-01a077841ac4"
      },
      "source": [
        "for i in x2.items():\n",
        "    print(i[1])"
      ],
      "execution_count": null,
      "outputs": [
        {
          "output_type": "stream",
          "text": [
            "{'k1': 'wer', 'k4': [345, 534535, 534]}\n",
            "3455\n",
            "{54, 34545, 45, 454}\n",
            "False\n",
            "(45, 45, 45, 45)\n",
            "[34, 45, 454, 54, 545]\n"
          ],
          "name": "stdout"
        }
      ]
    },
    {
      "cell_type": "code",
      "metadata": {
        "id": "jq09s-pLVX8V"
      },
      "source": [
        "x5 = {(34,56,56) : \"Fsdfsfsd\"}"
      ],
      "execution_count": null,
      "outputs": []
    },
    {
      "cell_type": "code",
      "metadata": {
        "id": "5s2Dh3vKVX8V",
        "outputId": "0e068248-80e1-4396-bddf-44f2bdc31001"
      },
      "source": [
        "x5[(34,56,56) ]"
      ],
      "execution_count": null,
      "outputs": [
        {
          "output_type": "execute_result",
          "data": {
            "text/plain": [
              "'Fsdfsfsd'"
            ]
          },
          "metadata": {
            "tags": []
          },
          "execution_count": 239
        }
      ]
    },
    {
      "cell_type": "code",
      "metadata": {
        "id": "pwiIube-VX8V",
        "outputId": "1de3c304-4641-42be-c777-266c64e2a334"
      },
      "source": [
        "x2"
      ],
      "execution_count": null,
      "outputs": [
        {
          "output_type": "execute_result",
          "data": {
            "text/plain": [
              "{'name ': {'k1': 'wer', 'k4': [345, 534535, 534]},\n",
              " 'age': 3455,\n",
              " True: {45, 54, 454, 34545},\n",
              " 'key': False,\n",
              " 34554: (45, 45, 45, 45),\n",
              " '_sfsdf': [34, 45, 454, 54, 545]}"
            ]
          },
          "metadata": {
            "tags": []
          },
          "execution_count": 240
        }
      ]
    },
    {
      "cell_type": "code",
      "metadata": {
        "id": "RZX29W3nVX8W",
        "outputId": "a43b44b3-5c4c-4f24-cb54-1365e6a48a5e"
      },
      "source": [
        "len(x2)"
      ],
      "execution_count": null,
      "outputs": [
        {
          "output_type": "execute_result",
          "data": {
            "text/plain": [
              "6"
            ]
          },
          "metadata": {
            "tags": []
          },
          "execution_count": 241
        }
      ]
    },
    {
      "cell_type": "code",
      "metadata": {
        "id": "urYBTzPQVX8W",
        "outputId": "7538e995-1334-400e-8bb6-4ec9f4edfd5f"
      },
      "source": [
        "e = {56: {45, 78, 89}}\n",
        "e[56]\n"
      ],
      "execution_count": null,
      "outputs": [
        {
          "output_type": "execute_result",
          "data": {
            "text/plain": [
              "{45, 78, 89}"
            ]
          },
          "metadata": {
            "tags": []
          },
          "execution_count": 242
        }
      ]
    },
    {
      "cell_type": "code",
      "metadata": {
        "id": "O5F3Qo-NVX8W",
        "outputId": "f5617528-f032-4dbb-afb9-04936a7e9b33"
      },
      "source": [
        "list(e[56])[0]\n"
      ],
      "execution_count": null,
      "outputs": [
        {
          "output_type": "execute_result",
          "data": {
            "text/plain": [
              "89"
            ]
          },
          "metadata": {
            "tags": []
          },
          "execution_count": 243
        }
      ]
    },
    {
      "cell_type": "code",
      "metadata": {
        "id": "Aae3irsgVX8W"
      },
      "source": [
        "data=input(\"Enter the paragraph-->> \")\n",
        "\n",
        "# Q1\n",
        "data_list= data.split(\" \")\n",
        "\n",
        "# Q2\n",
        "no_duplicate=set(data_list)\n",
        "\n",
        "# Q3\n",
        "my_dict={}\n",
        "for i in no_duplicate:\n",
        "    my_dict[i]=\"akshat\"\n",
        "# my_dict\n",
        "\n",
        "# Q4\n",
        "tup_list=[]\n",
        "for i in my_dict.keys():\n",
        "    tup_list.append(my_dict[i])\n",
        "\n",
        "print(\"Tuple List-->> \",tuple(tup_list))\n",
        "\n",
        "\n",
        "    \n",
        "# Q5\n",
        "list_keys=[]\n",
        "for i in my_dict.keys():\n",
        "    list_keys.append(i)\n",
        "\n",
        "print(\"List Keys-->> \",list_keys)\n"
      ],
      "execution_count": null,
      "outputs": []
    },
    {
      "cell_type": "code",
      "metadata": {
        "id": "YsFzCj1-VX8X",
        "outputId": "dab613b8-ad36-4b5e-a6ff-fc9fdcf7301b"
      },
      "source": [
        "paragph = input(\"Enter the para:\")\n",
        "lst1=paragph.split(\" \")\n",
        "s1=set(lst1)\n",
        "dic1=dict.fromkeys(s1,'db')\n",
        "t1=tuple(dic1.keys())\n",
        "l2=list(dic1.values())\n"
      ],
      "execution_count": null,
      "outputs": [
        {
          "output_type": "stream",
          "text": [
            "Enter the para:dfsafs fds adfas fsdfas dfasfd asdfdsfsa sfa\n"
          ],
          "name": "stdout"
        }
      ]
    },
    {
      "cell_type": "code",
      "metadata": {
        "id": "1qkWCevkVX8X",
        "outputId": "df77518d-a5f0-4084-dedf-03fa397dc2a1"
      },
      "source": [
        "s1"
      ],
      "execution_count": null,
      "outputs": [
        {
          "output_type": "execute_result",
          "data": {
            "text/plain": [
              "{'adfas', 'asdfdsfsa', 'dfasfd', 'dfsafs', 'fds', 'fsdfas', 'sfa'}"
            ]
          },
          "metadata": {
            "tags": []
          },
          "execution_count": 245
        }
      ]
    },
    {
      "cell_type": "code",
      "metadata": {
        "id": "G2AkxtmeVX8X",
        "outputId": "59b44f37-0bd1-47d9-d2da-2880c6c7bc72"
      },
      "source": [
        "dic1"
      ],
      "execution_count": null,
      "outputs": [
        {
          "output_type": "execute_result",
          "data": {
            "text/plain": [
              "{'sfa': 'db',\n",
              " 'dfsafs': 'db',\n",
              " 'adfas': 'db',\n",
              " 'dfasfd': 'db',\n",
              " 'fsdfas': 'db',\n",
              " 'asdfdsfsa': 'db',\n",
              " 'fds': 'db'}"
            ]
          },
          "metadata": {
            "tags": []
          },
          "execution_count": 246
        }
      ]
    },
    {
      "cell_type": "code",
      "metadata": {
        "id": "M5_4LP8zVX8X",
        "outputId": "c6969b10-589d-4d2e-e6f2-0f0f2ffc900a"
      },
      "source": [
        "t1"
      ],
      "execution_count": null,
      "outputs": [
        {
          "output_type": "execute_result",
          "data": {
            "text/plain": [
              "('sfa', 'dfsafs', 'adfas', 'dfasfd', 'fsdfas', 'asdfdsfsa', 'fds')"
            ]
          },
          "metadata": {
            "tags": []
          },
          "execution_count": 247
        }
      ]
    },
    {
      "cell_type": "code",
      "metadata": {
        "id": "fncjjPRFVX8Y",
        "outputId": "31bc6954-2bde-4662-e67b-452b8221f0ad"
      },
      "source": [
        "l2"
      ],
      "execution_count": null,
      "outputs": [
        {
          "output_type": "execute_result",
          "data": {
            "text/plain": [
              "['db', 'db', 'db', 'db', 'db', 'db', 'db']"
            ]
          },
          "metadata": {
            "tags": []
          },
          "execution_count": 248
        }
      ]
    },
    {
      "cell_type": "code",
      "metadata": {
        "id": "1fjkMsqXVX8Y"
      },
      "source": [
        "d = {\"company\":\"ineuron\" ,\"course\": \"full stack data science\" , \"year\" : 2021}"
      ],
      "execution_count": null,
      "outputs": []
    },
    {
      "cell_type": "code",
      "metadata": {
        "id": "cAdMrtHoVX8Y",
        "outputId": "7522ffdc-8f77-4008-98c3-df76312136bc"
      },
      "source": [
        "for i in d :\n",
        "    print(\" print a key  : \" ,i  , \" ; \", \"value wise :  \" , d[i])"
      ],
      "execution_count": null,
      "outputs": [
        {
          "output_type": "stream",
          "text": [
            " print a key  :  company  ;  value wise :   ineuron\n",
            " print a key  :  course  ;  value wise :   full stack data science\n",
            " print a key  :  year  ;  value wise :   2021\n"
          ],
          "name": "stdout"
        }
      ]
    },
    {
      "cell_type": "code",
      "metadata": {
        "id": "OGUYDa1vVX8Y",
        "outputId": "1cad9299-fb44-4572-9bcd-fd8f7a9d29b5"
      },
      "source": [
        "\"course\" in d "
      ],
      "execution_count": null,
      "outputs": [
        {
          "output_type": "execute_result",
          "data": {
            "text/plain": [
              "True"
            ]
          },
          "metadata": {
            "tags": []
          },
          "execution_count": 254
        }
      ]
    },
    {
      "cell_type": "code",
      "metadata": {
        "id": "XKvVCV-cVX8Z",
        "outputId": "abd6c887-0787-498e-fb6c-49293ab0277c"
      },
      "source": [
        "for i in d :\n",
        "    if i == 'year':\n",
        "        if d[i] > 2021:\n",
        "            print(\"year is fine \")\n",
        "        else :\n",
        "            d[i] = 2022"
      ],
      "execution_count": null,
      "outputs": [
        {
          "output_type": "stream",
          "text": [
            "year is fine \n"
          ],
          "name": "stdout"
        }
      ]
    },
    {
      "cell_type": "code",
      "metadata": {
        "id": "egcqb4WYVX8Z",
        "outputId": "e32e67d4-90db-4598-d317-2f95bbdd4e0c"
      },
      "source": [
        "d"
      ],
      "execution_count": null,
      "outputs": [
        {
          "output_type": "execute_result",
          "data": {
            "text/plain": [
              "{'company': 'ineuron', 'course': 'full stack data science', 'year': 2022}"
            ]
          },
          "metadata": {
            "tags": []
          },
          "execution_count": 259
        }
      ]
    },
    {
      "cell_type": "code",
      "metadata": {
        "id": "4NVMonJdVX8Z"
      },
      "source": [
        "my_dict = {}\n",
        "for i in range(10):\n",
        "    my_dict[i] = i *i"
      ],
      "execution_count": null,
      "outputs": []
    },
    {
      "cell_type": "code",
      "metadata": {
        "id": "CQ9M6KK9VX8Z",
        "outputId": "c30be7eb-74d1-43e9-f2da-d2b4faf820d3"
      },
      "source": [
        "my_dict"
      ],
      "execution_count": null,
      "outputs": [
        {
          "output_type": "execute_result",
          "data": {
            "text/plain": [
              "{0: 0, 1: 1, 2: 4, 3: 9, 4: 16, 5: 25, 6: 36, 7: 49, 8: 64, 9: 81}"
            ]
          },
          "metadata": {
            "tags": []
          },
          "execution_count": 261
        }
      ]
    },
    {
      "cell_type": "code",
      "metadata": {
        "id": "e8tNjtwRVX8Z",
        "outputId": "f7218f7d-a914-43c9-c429-3f7e4e9f48f9"
      },
      "source": [
        "{i:i*i for i in range(0,10,3)}"
      ],
      "execution_count": null,
      "outputs": [
        {
          "output_type": "execute_result",
          "data": {
            "text/plain": [
              "{0: 0, 3: 9, 6: 36, 9: 81}"
            ]
          },
          "metadata": {
            "tags": []
          },
          "execution_count": 264
        }
      ]
    },
    {
      "cell_type": "code",
      "metadata": {
        "id": "YQGm8bZSVX8a"
      },
      "source": [
        ""
      ],
      "execution_count": null,
      "outputs": []
    }
  ]
}