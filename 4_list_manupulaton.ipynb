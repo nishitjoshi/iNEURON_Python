{
  "nbformat": 4,
  "nbformat_minor": 0,
  "metadata": {
    "kernelspec": {
      "display_name": "Python 3",
      "language": "python",
      "name": "python3"
    },
    "language_info": {
      "codemirror_mode": {
        "name": "ipython",
        "version": 3
      },
      "file_extension": ".py",
      "mimetype": "text/x-python",
      "name": "python",
      "nbconvert_exporter": "python",
      "pygments_lexer": "ipython3",
      "version": "3.8.3"
    },
    "colab": {
      "name": "list manupulaton.ipynb",
      "provenance": [],
      "include_colab_link": true
    }
  },
  "cells": [
    {
      "cell_type": "markdown",
      "metadata": {
        "id": "view-in-github",
        "colab_type": "text"
      },
      "source": [
        "<a href=\"https://colab.research.google.com/github/nishitjoshi/iNEURON_Python/blob/main/4_list_manupulaton.ipynb\" target=\"_parent\"><img src=\"https://colab.research.google.com/assets/colab-badge.svg\" alt=\"Open In Colab\"/></a>"
      ]
    },
    {
      "cell_type": "code",
      "metadata": {
        "id": "p65UYcSRUfuq"
      },
      "source": [
        "l  = [\"sudh\" , 234,45.56, [45,56,6,\"c\"] , True]"
      ],
      "execution_count": null,
      "outputs": []
    },
    {
      "cell_type": "code",
      "metadata": {
        "id": "7nKYLjACUfut",
        "outputId": "cee3800a-e669-4d75-a3ba-34b6b9cd2d16"
      },
      "source": [
        "for i in l :\n",
        "    print(i)"
      ],
      "execution_count": null,
      "outputs": [
        {
          "output_type": "stream",
          "text": [
            "sudh\n",
            "234\n",
            "45.56\n",
            "[45, 56, 6, 'c']\n",
            "True\n"
          ],
          "name": "stdout"
        }
      ]
    },
    {
      "cell_type": "code",
      "metadata": {
        "id": "ktgXDurdUfuu",
        "outputId": "a2521a12-f38c-45a5-c974-3c9c627af8a2"
      },
      "source": [
        "l[0]"
      ],
      "execution_count": null,
      "outputs": [
        {
          "output_type": "execute_result",
          "data": {
            "text/plain": [
              "'sudh'"
            ]
          },
          "metadata": {
            "tags": []
          },
          "execution_count": 4
        }
      ]
    },
    {
      "cell_type": "code",
      "metadata": {
        "id": "1CFFQBl7Ufuu",
        "outputId": "fa1ece22-097a-41a1-b162-bf994e0e49b3"
      },
      "source": [
        "l[::-1]"
      ],
      "execution_count": null,
      "outputs": [
        {
          "output_type": "execute_result",
          "data": {
            "text/plain": [
              "[True, [45, 56, 6, 'c'], 45.56, 234, 'sudh']"
            ]
          },
          "metadata": {
            "tags": []
          },
          "execution_count": 5
        }
      ]
    },
    {
      "cell_type": "code",
      "metadata": {
        "id": "zFigPCpCUfuu",
        "outputId": "61a842e7-a7f6-4355-9e46-ffff672b8ce0"
      },
      "source": [
        "for i in l :\n",
        "    if type(i)== list :\n",
        "        print(\"this is a list \" ,i)\n",
        "    else :\n",
        "        print(\"no element is not a list \", i)"
      ],
      "execution_count": null,
      "outputs": [
        {
          "output_type": "stream",
          "text": [
            "no element is not a list  sudh\n",
            "no element is not a list  234\n",
            "no element is not a list  45.56\n",
            "this is a list  [45, 56, 6, 'c']\n",
            "no element is not a list  True\n"
          ],
          "name": "stdout"
        }
      ]
    },
    {
      "cell_type": "code",
      "metadata": {
        "id": "qcWuBpjWUfuv",
        "outputId": "f09fdd5a-0392-4e62-ee4b-c9c2c53a595d"
      },
      "source": [
        "l "
      ],
      "execution_count": null,
      "outputs": [
        {
          "output_type": "execute_result",
          "data": {
            "text/plain": [
              "['sudh', 234, 45.56, [45, 56, 6, 'c'], True]"
            ]
          },
          "metadata": {
            "tags": []
          },
          "execution_count": 7
        }
      ]
    },
    {
      "cell_type": "code",
      "metadata": {
        "id": "jdmfk5jaUfuv"
      },
      "source": [
        "l1= [345,2345, \"ineuron\" , \"tech \"]"
      ],
      "execution_count": null,
      "outputs": []
    },
    {
      "cell_type": "code",
      "metadata": {
        "id": "5RvN65JnUfuw",
        "outputId": "50883ac0-d680-4c39-b48e-ec178ba1e3a4"
      },
      "source": [
        "l + l1"
      ],
      "execution_count": null,
      "outputs": [
        {
          "output_type": "execute_result",
          "data": {
            "text/plain": [
              "['sudh', 234, 45.56, [45, 56, 6, 'c'], True, 345, 2345, 'ineuron', 'tech ']"
            ]
          },
          "metadata": {
            "tags": []
          },
          "execution_count": 9
        }
      ]
    },
    {
      "cell_type": "code",
      "metadata": {
        "id": "zE4rg5-gUfuw",
        "outputId": "33851d3c-0798-42b1-9a3b-fdf9cd982092"
      },
      "source": [
        "l * 2"
      ],
      "execution_count": null,
      "outputs": [
        {
          "output_type": "execute_result",
          "data": {
            "text/plain": [
              "['sudh',\n",
              " 234,\n",
              " 45.56,\n",
              " [45, 56, 6, 'c'],\n",
              " True,\n",
              " 'sudh',\n",
              " 234,\n",
              " 45.56,\n",
              " [45, 56, 6, 'c'],\n",
              " True]"
            ]
          },
          "metadata": {
            "tags": []
          },
          "execution_count": 10
        }
      ]
    },
    {
      "cell_type": "code",
      "metadata": {
        "id": "BNqagLJLUfuw",
        "outputId": "53bdadce-aef5-4449-e533-3ef398cbe707"
      },
      "source": [
        "len(l)"
      ],
      "execution_count": null,
      "outputs": [
        {
          "output_type": "execute_result",
          "data": {
            "text/plain": [
              "5"
            ]
          },
          "metadata": {
            "tags": []
          },
          "execution_count": 11
        }
      ]
    },
    {
      "cell_type": "code",
      "metadata": {
        "id": "Sfqv-lPRUfux",
        "outputId": "e12363b1-e457-4af4-d9e8-ecaa931a9e02"
      },
      "source": [
        "234  in l"
      ],
      "execution_count": null,
      "outputs": [
        {
          "output_type": "execute_result",
          "data": {
            "text/plain": [
              "True"
            ]
          },
          "metadata": {
            "tags": []
          },
          "execution_count": 14
        }
      ]
    },
    {
      "cell_type": "code",
      "metadata": {
        "id": "IB0_TjrlUfux",
        "outputId": "2d79babc-c125-42cd-99fd-58cd263aea67"
      },
      "source": [
        "print(max([2,3,4,5,45.56]))"
      ],
      "execution_count": null,
      "outputs": [
        {
          "output_type": "stream",
          "text": [
            "45.56\n"
          ],
          "name": "stdout"
        }
      ]
    },
    {
      "cell_type": "code",
      "metadata": {
        "id": "XCHzhQiKUfuy",
        "outputId": "d76f557d-efc5-4aef-c1fb-c579957ea424"
      },
      "source": [
        "max([\"sdfs\",\"sdfs\" , 234])"
      ],
      "execution_count": null,
      "outputs": [
        {
          "output_type": "error",
          "ename": "TypeError",
          "evalue": "'>' not supported between instances of 'int' and 'str'",
          "traceback": [
            "\u001b[1;31m---------------------------------------------------------------------------\u001b[0m",
            "\u001b[1;31mTypeError\u001b[0m                                 Traceback (most recent call last)",
            "\u001b[1;32m<ipython-input-19-738f7be65a3a>\u001b[0m in \u001b[0;36m<module>\u001b[1;34m\u001b[0m\n\u001b[1;32m----> 1\u001b[1;33m \u001b[0mmax\u001b[0m\u001b[1;33m(\u001b[0m\u001b[1;33m[\u001b[0m\u001b[1;34m\"sdfs\"\u001b[0m\u001b[1;33m,\u001b[0m\u001b[1;34m\"sdfs\"\u001b[0m \u001b[1;33m,\u001b[0m \u001b[1;36m234\u001b[0m\u001b[1;33m]\u001b[0m\u001b[1;33m)\u001b[0m\u001b[1;33m\u001b[0m\u001b[1;33m\u001b[0m\u001b[0m\n\u001b[0m",
            "\u001b[1;31mTypeError\u001b[0m: '>' not supported between instances of 'int' and 'str'"
          ]
        }
      ]
    },
    {
      "cell_type": "code",
      "metadata": {
        "id": "yWwNDMJsUfuy",
        "outputId": "db4c0dae-48ad-4f2a-cd49-659fc55570e0"
      },
      "source": [
        "max([\"sudh\" , \"ineruon\" , \"AI\",\"z\"])"
      ],
      "execution_count": null,
      "outputs": [
        {
          "output_type": "execute_result",
          "data": {
            "text/plain": [
              "'z'"
            ]
          },
          "metadata": {
            "tags": []
          },
          "execution_count": 22
        }
      ]
    },
    {
      "cell_type": "code",
      "metadata": {
        "id": "0L-SUuscUfuy",
        "outputId": "ca27a361-2073-4826-eadc-27a24fa12c70"
      },
      "source": [
        "min([\"fsdfa3434\",\"fsd\",\"fsdfaaaaaaaaa\",\"a\" , \"A\"])"
      ],
      "execution_count": null,
      "outputs": [
        {
          "output_type": "execute_result",
          "data": {
            "text/plain": [
              "'A'"
            ]
          },
          "metadata": {
            "tags": []
          },
          "execution_count": 33
        }
      ]
    },
    {
      "cell_type": "code",
      "metadata": {
        "id": "oONP9kCWUfuy",
        "outputId": "0084b775-348b-4ef5-e6de-4a3b4bf6e22a"
      },
      "source": [
        "min([2,3,4,5,0])"
      ],
      "execution_count": null,
      "outputs": [
        {
          "output_type": "execute_result",
          "data": {
            "text/plain": [
              "0"
            ]
          },
          "metadata": {
            "tags": []
          },
          "execution_count": 25
        }
      ]
    },
    {
      "cell_type": "code",
      "metadata": {
        "id": "Zurphhu9Ufuz",
        "outputId": "3b9be64d-17b5-4830-ec73-8e6bce44a4c5"
      },
      "source": [
        "min(\"34345\",234,234.345,\"344\")"
      ],
      "execution_count": null,
      "outputs": [
        {
          "output_type": "error",
          "ename": "TypeError",
          "evalue": "'<' not supported between instances of 'int' and 'str'",
          "traceback": [
            "\u001b[1;31m---------------------------------------------------------------------------\u001b[0m",
            "\u001b[1;31mTypeError\u001b[0m                                 Traceback (most recent call last)",
            "\u001b[1;32m<ipython-input-27-3877a0cf8210>\u001b[0m in \u001b[0;36m<module>\u001b[1;34m\u001b[0m\n\u001b[1;32m----> 1\u001b[1;33m \u001b[0mmin\u001b[0m\u001b[1;33m(\u001b[0m\u001b[1;34m\"34345\"\u001b[0m\u001b[1;33m,\u001b[0m\u001b[1;36m234\u001b[0m\u001b[1;33m,\u001b[0m\u001b[1;36m234.345\u001b[0m\u001b[1;33m,\u001b[0m\u001b[1;34m\"344\"\u001b[0m\u001b[1;33m)\u001b[0m\u001b[1;33m\u001b[0m\u001b[1;33m\u001b[0m\u001b[0m\n\u001b[0m",
            "\u001b[1;31mTypeError\u001b[0m: '<' not supported between instances of 'int' and 'str'"
          ]
        }
      ]
    },
    {
      "cell_type": "code",
      "metadata": {
        "id": "qe2hIG_OUfuz"
      },
      "source": [
        "l = [1,2,3,4]"
      ],
      "execution_count": null,
      "outputs": []
    },
    {
      "cell_type": "code",
      "metadata": {
        "id": "S__J6yPzUfuz"
      },
      "source": [
        "l.append(6+6j)"
      ],
      "execution_count": null,
      "outputs": []
    },
    {
      "cell_type": "code",
      "metadata": {
        "id": "8_0PDLQHUfuz",
        "outputId": "c37b438b-f210-499c-8baf-5ca343d5cf8a"
      },
      "source": [
        "l"
      ],
      "execution_count": null,
      "outputs": [
        {
          "output_type": "execute_result",
          "data": {
            "text/plain": [
              "[1, 2, 3, 4, 'sudh', [1, 2, 3, 4, 4], (6+6j)]"
            ]
          },
          "metadata": {
            "tags": []
          },
          "execution_count": 40
        }
      ]
    },
    {
      "cell_type": "code",
      "metadata": {
        "id": "wxMPbr8FUfu0",
        "outputId": "da77bad0-0935-49cc-b7fa-f7f808203d5c"
      },
      "source": [
        "l"
      ],
      "execution_count": null,
      "outputs": [
        {
          "output_type": "execute_result",
          "data": {
            "text/plain": [
              "[1, 2, 3, 4, 'sudh', [1, 2, 3, 4, 4], (6+6j)]"
            ]
          },
          "metadata": {
            "tags": []
          },
          "execution_count": 41
        }
      ]
    },
    {
      "cell_type": "code",
      "metadata": {
        "id": "gtfl34PqUfu0",
        "outputId": "70c0a47f-6ab5-4833-a3ee-bd9ede8622c9"
      },
      "source": [
        "l + \"sudh\""
      ],
      "execution_count": null,
      "outputs": [
        {
          "output_type": "error",
          "ename": "TypeError",
          "evalue": "can only concatenate list (not \"str\") to list",
          "traceback": [
            "\u001b[1;31m---------------------------------------------------------------------------\u001b[0m",
            "\u001b[1;31mTypeError\u001b[0m                                 Traceback (most recent call last)",
            "\u001b[1;32m<ipython-input-43-c2dbfee94b38>\u001b[0m in \u001b[0;36m<module>\u001b[1;34m\u001b[0m\n\u001b[1;32m----> 1\u001b[1;33m \u001b[0ml\u001b[0m \u001b[1;33m+\u001b[0m \u001b[1;34m\"sudh\"\u001b[0m\u001b[1;33m\u001b[0m\u001b[1;33m\u001b[0m\u001b[0m\n\u001b[0m",
            "\u001b[1;31mTypeError\u001b[0m: can only concatenate list (not \"str\") to list"
          ]
        }
      ]
    },
    {
      "cell_type": "code",
      "metadata": {
        "id": "v2BMRd6CUfu0"
      },
      "source": [
        "l.append(\"sudh\")"
      ],
      "execution_count": null,
      "outputs": []
    },
    {
      "cell_type": "code",
      "metadata": {
        "id": "kVcy0kBjUfu0",
        "outputId": "6a35481b-5338-47bb-93eb-a90e2b523987"
      },
      "source": [
        "l"
      ],
      "execution_count": null,
      "outputs": [
        {
          "output_type": "execute_result",
          "data": {
            "text/plain": [
              "[1, 2, 3, 4, 'sudh', [1, 2, 3, 4, 4], (6+6j), 'sudh']"
            ]
          },
          "metadata": {
            "tags": []
          },
          "execution_count": 46
        }
      ]
    },
    {
      "cell_type": "code",
      "metadata": {
        "id": "_V76O_qQUfu1"
      },
      "source": [
        "l = [1,2,3,4,5]"
      ],
      "execution_count": null,
      "outputs": []
    },
    {
      "cell_type": "code",
      "metadata": {
        "id": "JygjIlRMUfu1"
      },
      "source": [
        "l.append(\"sudh\")"
      ],
      "execution_count": null,
      "outputs": []
    },
    {
      "cell_type": "code",
      "metadata": {
        "id": "OFBP8ZA0Ufu1",
        "outputId": "011a3a35-4d12-42d0-cf8e-37f20be291c9"
      },
      "source": [
        "l"
      ],
      "execution_count": null,
      "outputs": [
        {
          "output_type": "execute_result",
          "data": {
            "text/plain": [
              "[1, 2, 3, 4, 5, 'sudh']"
            ]
          },
          "metadata": {
            "tags": []
          },
          "execution_count": 49
        }
      ]
    },
    {
      "cell_type": "code",
      "metadata": {
        "id": "0gp_Kjl0Ufu1"
      },
      "source": [
        "l.insert(3,\"ineuron\")"
      ],
      "execution_count": null,
      "outputs": []
    },
    {
      "cell_type": "code",
      "metadata": {
        "id": "s9rHHAblUfu1",
        "outputId": "a30acffd-8b46-4870-d78c-938575618522"
      },
      "source": [
        "l"
      ],
      "execution_count": null,
      "outputs": [
        {
          "output_type": "execute_result",
          "data": {
            "text/plain": [
              "[1, 2, 3, 'ineuron', 4, 5, 'sudh']"
            ]
          },
          "metadata": {
            "tags": []
          },
          "execution_count": 51
        }
      ]
    },
    {
      "cell_type": "code",
      "metadata": {
        "id": "EsEP6kMLUfu2"
      },
      "source": [
        "l.insert(-1 , \"test\")"
      ],
      "execution_count": null,
      "outputs": []
    },
    {
      "cell_type": "code",
      "metadata": {
        "id": "FCtGg9cBUfu2",
        "outputId": "f391f4b0-4c2e-4f4d-d7e6-0f72597014c1"
      },
      "source": [
        "l"
      ],
      "execution_count": null,
      "outputs": [
        {
          "output_type": "execute_result",
          "data": {
            "text/plain": [
              "['test', 1, 2, 3, 'ineuron', 4, 5, 'test', 'test', 'sudh']"
            ]
          },
          "metadata": {
            "tags": []
          },
          "execution_count": 57
        }
      ]
    },
    {
      "cell_type": "code",
      "metadata": {
        "id": "5YYBnlkaUfu2",
        "outputId": "89f2b76c-6032-43eb-cd7f-b1f0e8ddeea4"
      },
      "source": [
        "l"
      ],
      "execution_count": null,
      "outputs": [
        {
          "output_type": "execute_result",
          "data": {
            "text/plain": [
              "['test', 1, 2, 3, 'ineuron', 4, 5, 'test', 'test', 'sudh']"
            ]
          },
          "metadata": {
            "tags": []
          },
          "execution_count": 58
        }
      ]
    },
    {
      "cell_type": "code",
      "metadata": {
        "id": "ad0HM7ijUfu2"
      },
      "source": [
        "l.insert(-1 , \"test2\")"
      ],
      "execution_count": null,
      "outputs": []
    },
    {
      "cell_type": "code",
      "metadata": {
        "id": "zi9oMQEdUfu2",
        "outputId": "d7460550-15c6-4c6c-cc4b-38988f773a75"
      },
      "source": [
        "l"
      ],
      "execution_count": null,
      "outputs": [
        {
          "output_type": "execute_result",
          "data": {
            "text/plain": [
              "['test', 1, 2, 3, 'ineuron', 4, 5, 'test', 'test', 'test2', 'sudh']"
            ]
          },
          "metadata": {
            "tags": []
          },
          "execution_count": 60
        }
      ]
    },
    {
      "cell_type": "code",
      "metadata": {
        "id": "cfDtvZ8uUfu3",
        "outputId": "4fade721-a68b-4dd2-e322-bbea9e559c96"
      },
      "source": [
        "l"
      ],
      "execution_count": null,
      "outputs": [
        {
          "output_type": "execute_result",
          "data": {
            "text/plain": [
              "['test', 1, 2, 3, 'ineuron', 4, 5, 'test', 'test', 'test2', 'sudh']"
            ]
          },
          "metadata": {
            "tags": []
          },
          "execution_count": 61
        }
      ]
    },
    {
      "cell_type": "code",
      "metadata": {
        "id": "5v05-YS2Ufu3",
        "outputId": "b925ff04-816b-49c3-d6d6-5d4266858e8c"
      },
      "source": [
        "l.count(\"test\")"
      ],
      "execution_count": null,
      "outputs": [
        {
          "output_type": "execute_result",
          "data": {
            "text/plain": [
              "3"
            ]
          },
          "metadata": {
            "tags": []
          },
          "execution_count": 63
        }
      ]
    },
    {
      "cell_type": "code",
      "metadata": {
        "id": "0I9XEshRUfu3"
      },
      "source": [
        "l = [1,2,3,4]"
      ],
      "execution_count": null,
      "outputs": []
    },
    {
      "cell_type": "code",
      "metadata": {
        "id": "8DpZ4PFYUfu4"
      },
      "source": [
        "l.append([3,4,7,89])"
      ],
      "execution_count": null,
      "outputs": []
    },
    {
      "cell_type": "code",
      "metadata": {
        "id": "rVBINyTAUfu4",
        "outputId": "c91aad6e-7456-4368-f688-d7a72e12ab19"
      },
      "source": [
        "l"
      ],
      "execution_count": null,
      "outputs": [
        {
          "output_type": "execute_result",
          "data": {
            "text/plain": [
              "[1, 2, 3, 4, 'sudh', [1, 2, 4, 56], 't', 'e', 's', 't', '1', 67, [3, 4, 7, 89]]"
            ]
          },
          "metadata": {
            "tags": []
          },
          "execution_count": 76
        }
      ]
    },
    {
      "cell_type": "code",
      "metadata": {
        "id": "ME1CPq-uUfu4"
      },
      "source": [
        "l.append([1,2,4,56])"
      ],
      "execution_count": null,
      "outputs": []
    },
    {
      "cell_type": "code",
      "metadata": {
        "id": "ZYceZ8c_Ufu4",
        "outputId": "14646b83-6122-496f-b34a-71939821c5a0"
      },
      "source": [
        "l"
      ],
      "execution_count": null,
      "outputs": [
        {
          "output_type": "execute_result",
          "data": {
            "text/plain": [
              "[1, 2, 3, 4]"
            ]
          },
          "metadata": {
            "tags": []
          },
          "execution_count": 80
        }
      ]
    },
    {
      "cell_type": "code",
      "metadata": {
        "id": "TKU8MAuHUfu4"
      },
      "source": [
        "l.extend([3,4,7,89,[\"sdfusdf\",4,5]])"
      ],
      "execution_count": null,
      "outputs": []
    },
    {
      "cell_type": "code",
      "metadata": {
        "id": "qwZRsC30Ufu5",
        "outputId": "3f05d041-bf05-42f2-ffc4-3a702e90688c"
      },
      "source": [
        "l"
      ],
      "execution_count": null,
      "outputs": [
        {
          "output_type": "execute_result",
          "data": {
            "text/plain": [
              "[1, 2, 3, 4, 3, 4, 7, 89, 3, 4, 7, 89, ['sdfusdf', 4, 5]]"
            ]
          },
          "metadata": {
            "tags": []
          },
          "execution_count": 84
        }
      ]
    },
    {
      "cell_type": "code",
      "metadata": {
        "id": "_f0vlEvpUfu5",
        "outputId": "b6801522-ee4d-46b2-d00c-74d097871e6f"
      },
      "source": [
        "s = \"test\"\n",
        "list(s)"
      ],
      "execution_count": null,
      "outputs": [
        {
          "output_type": "execute_result",
          "data": {
            "text/plain": [
              "['t', 'e', 's', 't']"
            ]
          },
          "metadata": {
            "tags": []
          },
          "execution_count": 71
        }
      ]
    },
    {
      "cell_type": "code",
      "metadata": {
        "id": "0Bre7__bUfu5",
        "outputId": "b16622db-149f-438c-93af-aa849cc2994f"
      },
      "source": [
        "l "
      ],
      "execution_count": null,
      "outputs": [
        {
          "output_type": "execute_result",
          "data": {
            "text/plain": [
              "[1, 2, 3, 4, 3, 4, 7, 89, 3, 4, 7, 89, ['sdfusdf', 4, 5]]"
            ]
          },
          "metadata": {
            "tags": []
          },
          "execution_count": 85
        }
      ]
    },
    {
      "cell_type": "code",
      "metadata": {
        "id": "Ip1a-dTPUfu5",
        "outputId": "80eba8b4-7584-4099-f962-ca67a9cad773"
      },
      "source": [
        "l.index(3)"
      ],
      "execution_count": null,
      "outputs": [
        {
          "output_type": "execute_result",
          "data": {
            "text/plain": [
              "2"
            ]
          },
          "metadata": {
            "tags": []
          },
          "execution_count": 86
        }
      ]
    },
    {
      "cell_type": "code",
      "metadata": {
        "id": "-uVbgJvuUfu6"
      },
      "source": [
        "l = [2,3,4,5,6,7]"
      ],
      "execution_count": null,
      "outputs": []
    },
    {
      "cell_type": "code",
      "metadata": {
        "id": "zaII6iWjUfu6",
        "outputId": "454249a4-476d-4c73-9cc6-f68dc5569564"
      },
      "source": [
        "l.pop(0)"
      ],
      "execution_count": null,
      "outputs": [
        {
          "output_type": "execute_result",
          "data": {
            "text/plain": [
              "2"
            ]
          },
          "metadata": {
            "tags": []
          },
          "execution_count": 90
        }
      ]
    },
    {
      "cell_type": "code",
      "metadata": {
        "id": "7npwllJWUfu6",
        "outputId": "08887a60-2a1a-4b57-8f2e-943a1975ea2c"
      },
      "source": [
        "l"
      ],
      "execution_count": null,
      "outputs": [
        {
          "output_type": "execute_result",
          "data": {
            "text/plain": [
              "[3, 4, 5, 6]"
            ]
          },
          "metadata": {
            "tags": []
          },
          "execution_count": 91
        }
      ]
    },
    {
      "cell_type": "code",
      "metadata": {
        "id": "BAmK0_FdUfu6"
      },
      "source": [
        "l = [4,5,6,6,6,6,6,7,8,9]\n"
      ],
      "execution_count": null,
      "outputs": []
    },
    {
      "cell_type": "code",
      "metadata": {
        "id": "lDGphRzGUfu6"
      },
      "source": [
        "l.remove(6)"
      ],
      "execution_count": null,
      "outputs": []
    },
    {
      "cell_type": "code",
      "metadata": {
        "id": "JaXW-QGkUfu7",
        "outputId": "4097d8c2-5195-4e93-e616-af3a69f9cd88"
      },
      "source": [
        "l"
      ],
      "execution_count": null,
      "outputs": [
        {
          "output_type": "execute_result",
          "data": {
            "text/plain": [
              "[4, 5, 7, 8, 9]"
            ]
          },
          "metadata": {
            "tags": []
          },
          "execution_count": 106
        }
      ]
    },
    {
      "cell_type": "code",
      "metadata": {
        "id": "TsqwsvAtUfu7",
        "outputId": "487b2275-15e1-412f-e0fd-49c9d5aa6e19"
      },
      "source": [
        "l "
      ],
      "execution_count": null,
      "outputs": [
        {
          "output_type": "execute_result",
          "data": {
            "text/plain": [
              "[4, 5, 7, 8, 9]"
            ]
          },
          "metadata": {
            "tags": []
          },
          "execution_count": 107
        }
      ]
    },
    {
      "cell_type": "code",
      "metadata": {
        "id": "AOFAL3YdUfu7"
      },
      "source": [
        "l.reverse()"
      ],
      "execution_count": null,
      "outputs": []
    },
    {
      "cell_type": "code",
      "metadata": {
        "id": "2fsbzZxHUfu7",
        "outputId": "a09abd30-9301-4dfb-891b-024b9afd1ce6"
      },
      "source": [
        "l"
      ],
      "execution_count": null,
      "outputs": [
        {
          "output_type": "execute_result",
          "data": {
            "text/plain": [
              "[9, 8, 7, 5, 4]"
            ]
          },
          "metadata": {
            "tags": []
          },
          "execution_count": 109
        }
      ]
    },
    {
      "cell_type": "code",
      "metadata": {
        "id": "cgO3VpYwUfu7"
      },
      "source": [
        "l.sort()"
      ],
      "execution_count": null,
      "outputs": []
    },
    {
      "cell_type": "code",
      "metadata": {
        "id": "sjkcRfA6Ufu8",
        "outputId": "c9a2bb99-ec03-4447-f5ea-6576d405efe6"
      },
      "source": [
        "l"
      ],
      "execution_count": null,
      "outputs": [
        {
          "output_type": "execute_result",
          "data": {
            "text/plain": [
              "[4, 5, 7, 8, 9]"
            ]
          },
          "metadata": {
            "tags": []
          },
          "execution_count": 111
        }
      ]
    },
    {
      "cell_type": "code",
      "metadata": {
        "id": "XxF-qHOFUfu8"
      },
      "source": [
        "l = [3,4,5,6,78,\"sudh\" , \"ineuron\" , 45.67]"
      ],
      "execution_count": null,
      "outputs": []
    },
    {
      "cell_type": "code",
      "metadata": {
        "id": "T4hZdIrEUfu8",
        "outputId": "bc812f91-32f4-4b93-ff4f-f0eadc08fd80"
      },
      "source": [
        "l.sort()"
      ],
      "execution_count": null,
      "outputs": [
        {
          "output_type": "error",
          "ename": "TypeError",
          "evalue": "'<' not supported between instances of 'str' and 'int'",
          "traceback": [
            "\u001b[1;31m---------------------------------------------------------------------------\u001b[0m",
            "\u001b[1;31mTypeError\u001b[0m                                 Traceback (most recent call last)",
            "\u001b[1;32m<ipython-input-113-fb07ac7c73ab>\u001b[0m in \u001b[0;36m<module>\u001b[1;34m\u001b[0m\n\u001b[1;32m----> 1\u001b[1;33m \u001b[0ml\u001b[0m\u001b[1;33m.\u001b[0m\u001b[0msort\u001b[0m\u001b[1;33m(\u001b[0m\u001b[1;33m)\u001b[0m\u001b[1;33m\u001b[0m\u001b[1;33m\u001b[0m\u001b[0m\n\u001b[0m",
            "\u001b[1;31mTypeError\u001b[0m: '<' not supported between instances of 'str' and 'int'"
          ]
        }
      ]
    },
    {
      "cell_type": "code",
      "metadata": {
        "id": "KvzTQTPwUfu8"
      },
      "source": [
        "l = [3,4,5,6,78 , 45.67]"
      ],
      "execution_count": null,
      "outputs": []
    },
    {
      "cell_type": "code",
      "metadata": {
        "id": "KvLHBjFjUfu8"
      },
      "source": [
        "l.sort()"
      ],
      "execution_count": null,
      "outputs": []
    },
    {
      "cell_type": "code",
      "metadata": {
        "id": "AVYXH63UUfu9",
        "outputId": "2c2042ab-d5c1-42a8-9bb0-ab167e5908dd"
      },
      "source": [
        "l"
      ],
      "execution_count": null,
      "outputs": [
        {
          "output_type": "execute_result",
          "data": {
            "text/plain": [
              "[3, 4, 5, 6, 45.67, 78]"
            ]
          },
          "metadata": {
            "tags": []
          },
          "execution_count": 116
        }
      ]
    },
    {
      "cell_type": "code",
      "metadata": {
        "id": "zJ4Q_c9gUfu9",
        "outputId": "27c01a43-d8e3-426a-acc2-d76f3d9ba8ad"
      },
      "source": [
        "l = [[1,2,3,4],[5,6,7,\"hello\",8],[8,7,66],2,6]\n",
        "l.append([2,3,4])\n",
        "l.append(8+6j)\n",
        "l.append([5,6,7])\n",
        "for i in l:\n",
        "\n",
        "  if type(i) == list:\n",
        "    for j,v in enumerate(i):\n",
        "      \n",
        "      if type(v) == str:\n",
        "        print(\"index of string: \",j)\n",
        "        i[j]=\"hi\"\n",
        "    print(i[1])\n",
        "print(l)\n"
      ],
      "execution_count": null,
      "outputs": [
        {
          "output_type": "stream",
          "text": [
            "2\n",
            "index of string:  3\n",
            "6\n",
            "7\n",
            "3\n",
            "6\n",
            "[[1, 2, 3, 4], [5, 6, 7, 'hi', 8], [8, 7, 66], 2, 6, [2, 3, 4], (8+6j), [5, 6, 7]]\n"
          ],
          "name": "stdout"
        }
      ]
    },
    {
      "cell_type": "code",
      "metadata": {
        "id": "AszxYMzZUfu9"
      },
      "source": [
        "l=[[1,2,3],[4,5,6],[7,8,9,'xyz','xyz','xyz'],10, 'vishal', True]\n",
        "# part1\n",
        "l.insert(2,[11,12])\n",
        "l.insert(-1,[13,14])\n",
        "l.append(12+3j)"
      ],
      "execution_count": null,
      "outputs": []
    },
    {
      "cell_type": "code",
      "metadata": {
        "id": "Pt1f7nALUfu9",
        "outputId": "35573153-06cb-4302-e60f-e97be41de8ac"
      },
      "source": [
        "for i in l:\n",
        "    if type(i) == list:\n",
        "        for j in i:\n",
        "            if type(j) == str:\n",
        "                print(l.index(i))"
      ],
      "execution_count": null,
      "outputs": [
        {
          "output_type": "stream",
          "text": [
            "3\n",
            "3\n",
            "3\n"
          ],
          "name": "stdout"
        }
      ]
    },
    {
      "cell_type": "code",
      "metadata": {
        "id": "z6_62J8hUfu-",
        "outputId": "585f77da-7f6f-4fcb-be75-2a8bf6070c1b"
      },
      "source": [
        "l"
      ],
      "execution_count": null,
      "outputs": [
        {
          "output_type": "execute_result",
          "data": {
            "text/plain": [
              "[[1, 2, 3],\n",
              " [4, 5, 6],\n",
              " [11, 12],\n",
              " [7, 8, 9, 'xyz'],\n",
              " 10,\n",
              " 'vishal',\n",
              " [13, 14],\n",
              " True,\n",
              " (12+3j)]"
            ]
          },
          "metadata": {
            "tags": []
          },
          "execution_count": 122
        }
      ]
    },
    {
      "cell_type": "code",
      "metadata": {
        "id": "mE4o9PX1Ufu-"
      },
      "source": [
        "l=[[1,2,3],[4,5,6],[7,8,9,'xyz'],10, 'vishal', True]\n",
        "# part1\n",
        "l.insert(2,[11,12])\n",
        "l.insert(-1,[13,14])\n",
        "l.append(12+3j)\n",
        "print(l)\n",
        "# part2\n",
        "for i in l:\n",
        "    if type(i) == list:\n",
        "        for j in i:\n",
        "            if type(j) == str:\n",
        "                print(l.index(i))\n",
        "#part3\n",
        "for i in l:\n",
        "    if type(i)==list:\n",
        "        print(i.pop(2))\n"
      ],
      "execution_count": null,
      "outputs": []
    },
    {
      "cell_type": "code",
      "metadata": {
        "id": "DY7Dv7v-Ufu-",
        "outputId": "00114cf7-32d8-4af8-a0f7-e7dcbdaf92bd"
      },
      "source": [
        "l = [[23,45],[6,7,'78S'],'ABC','REV']\n",
        "\n",
        "#Q1\n",
        "\n",
        "l.insert(2,['sdf','sdf'])\n",
        "print(l)\n",
        "l.insert(3,[11,12])\n",
        "print(l)\n",
        "l.insert(1,(2+3j))\n",
        "print('After complex number- ',l)\n",
        "l"
      ],
      "execution_count": null,
      "outputs": [
        {
          "output_type": "stream",
          "text": [
            "[[23, 45], [6, 7, '78S'], ['sdf', 'sdf'], 'ABC', 'REV']\n",
            "[[23, 45], [6, 7, '78S'], ['sdf', 'sdf'], [11, 12], 'ABC', 'REV']\n",
            "After complex number-  [[23, 45], (2+3j), [6, 7, '78S'], ['sdf', 'sdf'], [11, 12], 'ABC', 'REV']\n"
          ],
          "name": "stdout"
        },
        {
          "output_type": "execute_result",
          "data": {
            "text/plain": [
              "[[23, 45], (2+3j), [6, 7, '78S'], ['sdf', 'sdf'], [11, 12], 'ABC', 'REV']"
            ]
          },
          "metadata": {
            "tags": []
          },
          "execution_count": 129
        }
      ]
    },
    {
      "cell_type": "code",
      "metadata": {
        "id": "_8IyfrncUfu-",
        "outputId": "ff142055-2478-4527-e4af-5896b0c12f13"
      },
      "source": [
        "#Q2\n",
        "for i in l:\n",
        "    if type(i) == list:\n",
        "        for j in i:\n",
        "            if type(j) == str:\n",
        "                print('Found String in Neasted List at index={} : {}'.format(i,j))\n",
        "                print('Removed',j)\n",
        "                i.remove(j)\n",
        "\n",
        "print('List after remove ',l)"
      ],
      "execution_count": null,
      "outputs": [
        {
          "output_type": "stream",
          "text": [
            "Found String in Neasted List at index=[6, 7, '78S'] : 78S\n",
            "Removed 78S\n",
            "Found String in Neasted List at index=['sdf', 'sdf'] : sdf\n",
            "Removed sdf\n",
            "List after remove  [[23, 45], (2+3j), [6, 7], ['sdf'], [11, 12], 'ABC', 'REV']\n"
          ],
          "name": "stdout"
        }
      ]
    },
    {
      "cell_type": "code",
      "metadata": {
        "id": "2brH98RGUfu_",
        "outputId": "829f5e90-cd81-4972-a1b2-071b40cc91d7"
      },
      "source": [
        "l=[[1,'2'],[10,11],[20,21],'3',4,5]\n",
        "c=[1+2j,3+5j]\n",
        "\n",
        "# question 1\n",
        "l.insert(1,c)\n",
        "print(f'Updated list: {l}')\n",
        "\n",
        "print()\n",
        "print()"
      ],
      "execution_count": null,
      "outputs": [
        {
          "output_type": "stream",
          "text": [
            "Updated list: [[1, '2'], [(1+2j), (3+5j)], [10, 11], [20, 21], '3', 4, 5]\n",
            "\n",
            "\n"
          ],
          "name": "stdout"
        }
      ]
    },
    {
      "cell_type": "code",
      "metadata": {
        "id": "dg-nH0kgUfu_"
      },
      "source": [
        "l=[[1,'2'],[10,11],[20,21],'3',4,5]\n",
        "c=[1+2j,3+5j]\n",
        "\n",
        "# question 1\n",
        "l.insert(1,c)\n",
        "print(f'Updated list: {l}')\n",
        "\n",
        "print()\n",
        "print()\n",
        "\n",
        "# question 2\n",
        "for i in l:\n",
        "    if type(i)==str:\n",
        "        print(f'String exist is {i}')\n",
        "        a=l.index(i)\n",
        "        print(f'Its position is: {a}')\n",
        "print()\n",
        "l.remove('3')\n",
        "print(f'After removing {a} the new list is:\\n {l}')\n",
        "\n",
        "print()\n",
        "print()\n",
        "\n",
        "# question 3\n",
        "print('The every second elemnt is:')\n",
        "for i in l:\n",
        "    if type(i)==list:\n",
        "        \n",
        "        print(i[1])\n"
      ],
      "execution_count": null,
      "outputs": []
    },
    {
      "cell_type": "code",
      "metadata": {
        "id": "nSqJG-YQUfu_"
      },
      "source": [
        ""
      ],
      "execution_count": null,
      "outputs": []
    },
    {
      "cell_type": "code",
      "metadata": {
        "id": "fjM3FdbCUfu_"
      },
      "source": [
        "l = [[23,45],[6,7,'78S'],'ABC','REV']\n",
        "\n",
        "#Q1\n",
        "\n",
        "l.insert(2,['sdf','sdf'])\n",
        "print(l)\n",
        "l.insert(3,[11,12])\n",
        "print(l)\n",
        "l.insert(1,(2+3j))\n",
        "print('After complex number- ',l)\n",
        "\n",
        "#Q2\n",
        "for i in l:\n",
        "    if type(i) == list:\n",
        "        for j in i:\n",
        "            if type(j) == str:\n",
        "                print('Found String in Neasted List at index={} : {}'.format(i,j))\n",
        "                print('Removed',j)\n",
        "                i.remove(j)\n",
        "\n",
        "print('List after remove ',l)\n",
        "\n",
        "#Q3\n",
        "k=1\n",
        "for i in l:\n",
        "    if type(i) == list and len(i) >=2:\n",
        "        print('Neasted List ',k)\n",
        "        print('2nd element of it is=',i[1])\n",
        "        k+=1\n"
      ],
      "execution_count": null,
      "outputs": []
    },
    {
      "cell_type": "code",
      "metadata": {
        "id": "rRyqDWwEUfvA"
      },
      "source": [
        "l = [[1,'a'],[3,4],[5,'b'],1,3,4,5,6]\n",
        "# Append 2 more list and 1 complex number in between\n",
        "l.insert(3,6j)\n",
        "l.insert(4,[7,8])\n",
        "l.insert(5,[9,0])\n",
        "print (l)\n",
        "for i in l:\n",
        "    if type(i) == list:\n",
        "        for t in i:\n",
        "            if type(t) == str:\n",
        "                print(t)\n"
      ],
      "execution_count": null,
      "outputs": []
    },
    {
      "cell_type": "code",
      "metadata": {
        "id": "Tf_nZPcxUfvA",
        "outputId": "c3934670-574e-4528-d0ce-ed903f63e25d"
      },
      "source": [
        "l1 = [[22,\"mahendra\",55,22.4],[\"dhoni\",77,11,55,78.9],[77,88,99],2,5,8]\n",
        "\n",
        "l1.insert(2,[2,5,6])\n",
        "l1.insert(4,[99,\"pravin\",88,True])\n",
        "l1.insert(-1,6+4j)\n",
        "l1"
      ],
      "execution_count": null,
      "outputs": [
        {
          "output_type": "execute_result",
          "data": {
            "text/plain": [
              "[[22, 'mahendra', 55, 22.4],\n",
              " ['dhoni', 77, 11, 55, 78.9],\n",
              " [2, 5, 6],\n",
              " [77, 88, 99],\n",
              " [99, 'pravin', 88, True],\n",
              " 2,\n",
              " 5,\n",
              " (6+4j),\n",
              " 8]"
            ]
          },
          "metadata": {
            "tags": []
          },
          "execution_count": 133
        }
      ]
    },
    {
      "cell_type": "code",
      "metadata": {
        "id": "wD8uWWqFUfvA",
        "outputId": "e7b04eb6-0650-41b5-cbec-ff538097efce"
      },
      "source": [
        "for i in l1:\n",
        "    if type(i) == list :\n",
        "        for j in i:\n",
        "            if type(j) == str :\n",
        "                print(i.index(j))\n",
        "                i.remove(j)"
      ],
      "execution_count": null,
      "outputs": [
        {
          "output_type": "stream",
          "text": [
            "1\n",
            "0\n",
            "1\n"
          ],
          "name": "stdout"
        }
      ]
    },
    {
      "cell_type": "code",
      "metadata": {
        "id": "B88OMPzKUfvA"
      },
      "source": [
        "l=[[\"gh\",56],[89,\"yhg\"],[\"90\",98],78,90.0]"
      ],
      "execution_count": null,
      "outputs": []
    },
    {
      "cell_type": "code",
      "metadata": {
        "id": "11awryt0UfvB",
        "outputId": "777ec603-ad18-4979-ef1e-a9a8d068b97d"
      },
      "source": [
        "for e in l:\n",
        "    if type(e)==list:\n",
        "        l.insert(l.index(e)+1,[78,90])\n",
        "        l.insert(l.index(e)+2,[89,\"90\",\"90\",\"90\"])\n",
        "        l.insert(l.index(e)+3,6+7j)\n",
        "        break\n",
        "print(l)"
      ],
      "execution_count": null,
      "outputs": [
        {
          "output_type": "stream",
          "text": [
            "[[56], [78, 90], [89, '90', '90', '90'], (6+7j), [78, 90], [89], (6+7j), [89], [98], 78, 90.0]\n"
          ],
          "name": "stdout"
        }
      ]
    },
    {
      "cell_type": "code",
      "metadata": {
        "id": "8jA6cCcjUfvB",
        "outputId": "0f299ee9-d756-469e-bb6c-b0bac4f8a7e5"
      },
      "source": [
        "for i in l:\n",
        "    if type(i)==list:\n",
        "        for e in i:\n",
        "            if type(e)==str:\n",
        "                print(f\"index of string in nested list of index number {l.index(i)} is {i.index(e)}\")\n",
        "                i.remove(e)\n",
        "print(\"new list\",l)"
      ],
      "execution_count": null,
      "outputs": [
        {
          "output_type": "stream",
          "text": [
            "index of string in nested list of index number 2 is 1\n",
            "index of string in nested list of index number 2 is 1\n",
            "new list [[56], [78, 90], [89, '90'], (6+7j), [78, 90], [89], (6+7j), [89], [98], 78, 90.0]\n"
          ],
          "name": "stdout"
        }
      ]
    },
    {
      "cell_type": "code",
      "metadata": {
        "id": "MbWz1eMAUfvC"
      },
      "source": [
        "l=[[\"gh\",56],[89,\"yhg\"],[\"90\",98],78,90.0]\n",
        "for e in l:\n",
        "    if type(e)==list:\n",
        "        l.insert(l.index(e)+1,[78,90])\n",
        "        l.insert(l.index(e)+2,[89,\"90\"])\n",
        "        l.insert(l.index(e)+3,6+7j)\n",
        "        break\n",
        "print(l)\n",
        "for i in l:\n",
        "    if type(i)==list:\n",
        "        for e in i:\n",
        "            if type(e)==str:\n",
        "                print(f\"index of string in nested list of index number {l.index(i)} is {i.index(e)}\")\n",
        "                i.remove(e)\n",
        "print(\"new list\",l)\n",
        "for i in l:\n",
        "    if type(i)==list:\n",
        "        for e in i:\n",
        "            if len(i)>1:\n",
        "                i.pop(1)\n",
        "print(\"final list\",l)\n"
      ],
      "execution_count": null,
      "outputs": []
    },
    {
      "cell_type": "code",
      "metadata": {
        "id": "YPDihwfoUfvC"
      },
      "source": [
        ""
      ],
      "execution_count": null,
      "outputs": []
    },
    {
      "cell_type": "code",
      "metadata": {
        "id": "1ZXUMtfNUfvC"
      },
      "source": [
        "l1 = [[22,\"mahendra\",55,22.4],[\"dhoni\",77,11,55,78.9],[77,88,99],2,5,8]\n",
        "\n",
        "l1.insert(2,[2,5,6])\n",
        "l1.insert(4,[99,\"pravin\",88,True])\n",
        "l1.insert(-1,6+4j)\n",
        "\n",
        "print(l1)\n",
        "\n",
        "for i in l1:\n",
        "    if type(i) == list :\n",
        "        for j in i:\n",
        "            if type(j) == str :\n",
        "                print(i.index(j))\n",
        "                i.remove(j)\n",
        "\n",
        "\n",
        "print(l1)\n",
        "\n",
        "for i in l1 :\n",
        "    if type(i) == list :\n",
        "        print(i[2], end = \",\")\n"
      ],
      "execution_count": null,
      "outputs": []
    },
    {
      "cell_type": "code",
      "metadata": {
        "id": "vhhD5aJpUfvC",
        "outputId": "c84e41b4-40f4-49d4-b347-dc42b711cc33"
      },
      "source": [
        "l = [[1,2,3],[4,5,6],[7,8,9],12,\"Santosh\"]\n",
        "l.insert(2,[3,2,1,\"test\",\"test\",\"test\"])\n",
        "l.insert(2,[6,5,4])\n",
        "l.insert(0, 5 + 6j)\n",
        "print(\"Q1\")\n",
        "print(l)"
      ],
      "execution_count": null,
      "outputs": [
        {
          "output_type": "stream",
          "text": [
            "Q1\n",
            "[(5+6j), [1, 2, 3], [4, 5, 6], [6, 5, 4], [3, 2, 1, 'test', 'test', 'test'], [7, 8, 9], 12, 'Santosh']\n"
          ],
          "name": "stdout"
        }
      ]
    },
    {
      "cell_type": "code",
      "metadata": {
        "id": "S_6-Y5w1UfvD",
        "outputId": "1ac76cb9-91d2-4d87-e884-d323cd5b2d0f"
      },
      "source": [
        "for i in range(len(l)):\n",
        "    if type(l[i]) == list:\n",
        "        for j in range(len(l[i])):\n",
        "            if type(l[i][j]) == str:\n",
        "                print(j)\n",
        "                del l[i][j]\n",
        "    if(type(l[i]) == str):\n",
        "        print(j)\n",
        "        del l[i]\n",
        "print(\"Q2\")\n",
        "print(l)\n",
        "print(\"Q3\")\n",
        "for i in range(len(l)):\n",
        "    if type(l[i]) == list:\n",
        "        print(l[i][1])\n"
      ],
      "execution_count": null,
      "outputs": [
        {
          "output_type": "stream",
          "text": [
            "3\n",
            "4\n"
          ],
          "name": "stdout"
        },
        {
          "output_type": "error",
          "ename": "IndexError",
          "evalue": "list index out of range",
          "traceback": [
            "\u001b[1;31m---------------------------------------------------------------------------\u001b[0m",
            "\u001b[1;31mIndexError\u001b[0m                                Traceback (most recent call last)",
            "\u001b[1;32m<ipython-input-143-d0066ee02aec>\u001b[0m in \u001b[0;36m<module>\u001b[1;34m\u001b[0m\n\u001b[0;32m      2\u001b[0m     \u001b[1;32mif\u001b[0m \u001b[0mtype\u001b[0m\u001b[1;33m(\u001b[0m\u001b[0ml\u001b[0m\u001b[1;33m[\u001b[0m\u001b[0mi\u001b[0m\u001b[1;33m]\u001b[0m\u001b[1;33m)\u001b[0m \u001b[1;33m==\u001b[0m \u001b[0mlist\u001b[0m\u001b[1;33m:\u001b[0m\u001b[1;33m\u001b[0m\u001b[1;33m\u001b[0m\u001b[0m\n\u001b[0;32m      3\u001b[0m         \u001b[1;32mfor\u001b[0m \u001b[0mj\u001b[0m \u001b[1;32min\u001b[0m \u001b[0mrange\u001b[0m\u001b[1;33m(\u001b[0m\u001b[0mlen\u001b[0m\u001b[1;33m(\u001b[0m\u001b[0ml\u001b[0m\u001b[1;33m[\u001b[0m\u001b[0mi\u001b[0m\u001b[1;33m]\u001b[0m\u001b[1;33m)\u001b[0m\u001b[1;33m)\u001b[0m\u001b[1;33m:\u001b[0m\u001b[1;33m\u001b[0m\u001b[1;33m\u001b[0m\u001b[0m\n\u001b[1;32m----> 4\u001b[1;33m             \u001b[1;32mif\u001b[0m \u001b[0mtype\u001b[0m\u001b[1;33m(\u001b[0m\u001b[0ml\u001b[0m\u001b[1;33m[\u001b[0m\u001b[0mi\u001b[0m\u001b[1;33m]\u001b[0m\u001b[1;33m[\u001b[0m\u001b[0mj\u001b[0m\u001b[1;33m]\u001b[0m\u001b[1;33m)\u001b[0m \u001b[1;33m==\u001b[0m \u001b[0mstr\u001b[0m\u001b[1;33m:\u001b[0m\u001b[1;33m\u001b[0m\u001b[1;33m\u001b[0m\u001b[0m\n\u001b[0m\u001b[0;32m      5\u001b[0m                 \u001b[0mprint\u001b[0m\u001b[1;33m(\u001b[0m\u001b[0mj\u001b[0m\u001b[1;33m)\u001b[0m\u001b[1;33m\u001b[0m\u001b[1;33m\u001b[0m\u001b[0m\n\u001b[0;32m      6\u001b[0m                 \u001b[1;32mdel\u001b[0m \u001b[0ml\u001b[0m\u001b[1;33m[\u001b[0m\u001b[0mi\u001b[0m\u001b[1;33m]\u001b[0m\u001b[1;33m[\u001b[0m\u001b[0mj\u001b[0m\u001b[1;33m]\u001b[0m\u001b[1;33m\u001b[0m\u001b[1;33m\u001b[0m\u001b[0m\n",
            "\u001b[1;31mIndexError\u001b[0m: list index out of range"
          ]
        }
      ]
    },
    {
      "cell_type": "code",
      "metadata": {
        "id": "GoCRCtMVUfvD",
        "outputId": "a1615a51-37b8-4013-fff1-4f49ea6f1e4f"
      },
      "source": [
        "l=[[4,5,\"Sameer\",\"Sameer\",\"Sameer\"],[346,7,3426,76],[34657,\"Jadhav\",74557,45,6],23095,'ineuron']\n",
        "l.append([67,67])\n",
        "l.append([55,55])\n",
        "l.insert(3,3+6j)\n",
        "l"
      ],
      "execution_count": null,
      "outputs": [
        {
          "output_type": "execute_result",
          "data": {
            "text/plain": [
              "[[4, 5, 'Sameer', 'Sameer', 'Sameer'],\n",
              " [346, 7, 3426, 76],\n",
              " [34657, 'Jadhav', 74557, 45, 6],\n",
              " (3+6j),\n",
              " 23095,\n",
              " 'ineuron',\n",
              " [67, 67],\n",
              " [55, 55]]"
            ]
          },
          "metadata": {
            "tags": []
          },
          "execution_count": 146
        }
      ]
    },
    {
      "cell_type": "code",
      "metadata": {
        "id": "ID2_mwaPUfvD",
        "outputId": "88f8e3b3-230f-4225-9dbd-06695e4631e1"
      },
      "source": [
        "l=[[4,5,\"Sameer\",\"Sameer\",\"Sameer\"],[346,7,3426,76],[34657,\"Jadhav\",74557,45,6],23095,'ineuron']\n",
        "l.append([67,67])\n",
        "l.append([55,55])\n",
        "l.insert(3,3+6j)\n",
        "l\n",
        "\n",
        "for i in l:\n",
        "    if type(i)==list:\n",
        "        for j in i:\n",
        "            if type(j)== str:\n",
        "                print (\" got {} string at {} location\".format(j,i))\n",
        "                i.remove(j)\n",
        "                print(i)\n"
      ],
      "execution_count": null,
      "outputs": [
        {
          "output_type": "stream",
          "text": [
            " got Sameer string at [4, 5, 'Sameer', 'Sameer', 'Sameer'] location\n",
            "[4, 5, 'Sameer', 'Sameer']\n",
            " got Sameer string at [4, 5, 'Sameer', 'Sameer'] location\n",
            "[4, 5, 'Sameer']\n",
            " got Jadhav string at [34657, 'Jadhav', 74557, 45, 6] location\n",
            "[34657, 74557, 45, 6]\n"
          ],
          "name": "stdout"
        }
      ]
    },
    {
      "cell_type": "code",
      "metadata": {
        "id": "ThlnDxvXUfvD",
        "outputId": "6ee7fae0-6980-45bf-a43c-76045a4a21ac"
      },
      "source": [
        "# This is 100% working \n",
        "\n",
        "l1 = [[1,2,3],[4,5,6],[7,8,9],'demo',12.5]\n",
        "l2 = [11,12,'b','b','b']\n",
        "l3 = [21,'t',223]\n",
        "# 1)\n",
        "l1.insert(1,l2)\n",
        "l1.insert(2,l3)\n",
        "print(\"Main List : \",l1)\n",
        "# 2)\n",
        "\n",
        "for i in l1:\n",
        "    if type(i)== list:\n",
        "        for j in i:\n",
        "            if type(j) == str:\n",
        "                print(\"Index : \",i.index(j))\n",
        "                i.remove(j)\n",
        "                \n",
        "# 3) \n",
        "for i in l1:\n",
        "    if type(i)== list:\n",
        "        print(\"Second Element : \",i[1])\n"
      ],
      "execution_count": null,
      "outputs": [
        {
          "output_type": "stream",
          "text": [
            "Main List :  [[1, 2, 3], [11, 12, 'b', 'b', 'b'], [21, 't', 223], [4, 5, 6], [7, 8, 9], 'demo', 12.5]\n",
            "Index :  2\n",
            "Index :  2\n",
            "Index :  1\n",
            "Second Element :  2\n",
            "Second Element :  12\n",
            "Second Element :  223\n",
            "Second Element :  5\n",
            "Second Element :  8\n"
          ],
          "name": "stdout"
        }
      ]
    },
    {
      "cell_type": "code",
      "metadata": {
        "id": "0sConQ9CUfvE",
        "outputId": "013ca480-84eb-4ac0-c605-fa2ddb17364e"
      },
      "source": [
        "l1"
      ],
      "execution_count": null,
      "outputs": [
        {
          "output_type": "execute_result",
          "data": {
            "text/plain": [
              "[[1, 2, 3], [11, 12, 'b'], [21, 223], [4, 5, 6], [7, 8, 9], 'demo', 12.5]"
            ]
          },
          "metadata": {
            "tags": []
          },
          "execution_count": 149
        }
      ]
    },
    {
      "cell_type": "code",
      "metadata": {
        "id": "epq0oWNKUfvE",
        "outputId": "3a984ab4-b70e-47ad-86d9-900872564198"
      },
      "source": [
        "\n",
        "l1 = [[1,2,3],[4,5,6],[7,8,9],'demo',12.5]\n",
        "l2 = [11,12,'b','b','b']\n",
        "l3 = [21,'t',223]\n",
        "# 1)\n",
        "l1.insert(1,l2)\n",
        "l1.insert(2,l3)\n",
        "l1"
      ],
      "execution_count": null,
      "outputs": [
        {
          "output_type": "execute_result",
          "data": {
            "text/plain": [
              "[[1, 2, 3],\n",
              " [11, 12, 'b', 'b', 'b'],\n",
              " [21, 't', 223],\n",
              " [4, 5, 6],\n",
              " [7, 8, 9],\n",
              " 'demo',\n",
              " 12.5]"
            ]
          },
          "metadata": {
            "tags": []
          },
          "execution_count": 150
        }
      ]
    },
    {
      "cell_type": "code",
      "metadata": {
        "id": "ISTy6epNUfvE"
      },
      "source": [
        "l = [[1, 2, 3],\n",
        " [11, 12, 'b', 'b', 'b'],\n",
        " [21, 't', 223],\n",
        " [4, 5, 6],\n",
        " [7, 8, 9],\n",
        " 'demo',\n",
        " 12.5]"
      ],
      "execution_count": null,
      "outputs": []
    },
    {
      "cell_type": "code",
      "metadata": {
        "id": "qH9A27BfUfvE",
        "outputId": "df83d73a-f5c3-4cd2-9b78-048124667ad5"
      },
      "source": [
        "l = [[1, 2, 3],\n",
        " [11, 12, 'b', 'b', 'b'],\n",
        " [21, 't', 223],\n",
        " [4, 5, 6],\n",
        " [7, 8, 9],\n",
        " 'demo',\n",
        " 12.5]\n",
        "\n",
        "\n",
        "for i in l:\n",
        "    if type(i)==str:\n",
        "        print(\"Ans 2: \",l.index(i))\n",
        "        l.pop(l.index(i))\n",
        "        print(l)\n",
        "        print(\"string:\",i)\n",
        "#3\n",
        "\n",
        "b = [el[1] for el in l]\n",
        "print(b)\n"
      ],
      "execution_count": null,
      "outputs": [
        {
          "output_type": "stream",
          "text": [
            "Ans 2:  5\n",
            "[[1, 2, 3], [11, 12, 'b', 'b', 'b'], [21, 't', 223], [4, 5, 6], [7, 8, 9], 12.5]\n",
            "string: demo\n"
          ],
          "name": "stdout"
        },
        {
          "output_type": "error",
          "ename": "TypeError",
          "evalue": "'float' object is not subscriptable",
          "traceback": [
            "\u001b[1;31m---------------------------------------------------------------------------\u001b[0m",
            "\u001b[1;31mTypeError\u001b[0m                                 Traceback (most recent call last)",
            "\u001b[1;32m<ipython-input-154-d4bc60cb68ba>\u001b[0m in \u001b[0;36m<module>\u001b[1;34m\u001b[0m\n\u001b[0;32m     16\u001b[0m \u001b[1;31m#3\u001b[0m\u001b[1;33m\u001b[0m\u001b[1;33m\u001b[0m\u001b[1;33m\u001b[0m\u001b[0m\n\u001b[0;32m     17\u001b[0m \u001b[1;33m\u001b[0m\u001b[0m\n\u001b[1;32m---> 18\u001b[1;33m \u001b[0mb\u001b[0m \u001b[1;33m=\u001b[0m \u001b[1;33m[\u001b[0m\u001b[0mel\u001b[0m\u001b[1;33m[\u001b[0m\u001b[1;36m1\u001b[0m\u001b[1;33m]\u001b[0m \u001b[1;32mfor\u001b[0m \u001b[0mel\u001b[0m \u001b[1;32min\u001b[0m \u001b[0ml\u001b[0m\u001b[1;33m]\u001b[0m\u001b[1;33m\u001b[0m\u001b[1;33m\u001b[0m\u001b[0m\n\u001b[0m\u001b[0;32m     19\u001b[0m \u001b[0mprint\u001b[0m\u001b[1;33m(\u001b[0m\u001b[0mb\u001b[0m\u001b[1;33m)\u001b[0m\u001b[1;33m\u001b[0m\u001b[1;33m\u001b[0m\u001b[0m\n",
            "\u001b[1;32m<ipython-input-154-d4bc60cb68ba>\u001b[0m in \u001b[0;36m<listcomp>\u001b[1;34m(.0)\u001b[0m\n\u001b[0;32m     16\u001b[0m \u001b[1;31m#3\u001b[0m\u001b[1;33m\u001b[0m\u001b[1;33m\u001b[0m\u001b[1;33m\u001b[0m\u001b[0m\n\u001b[0;32m     17\u001b[0m \u001b[1;33m\u001b[0m\u001b[0m\n\u001b[1;32m---> 18\u001b[1;33m \u001b[0mb\u001b[0m \u001b[1;33m=\u001b[0m \u001b[1;33m[\u001b[0m\u001b[0mel\u001b[0m\u001b[1;33m[\u001b[0m\u001b[1;36m1\u001b[0m\u001b[1;33m]\u001b[0m \u001b[1;32mfor\u001b[0m \u001b[0mel\u001b[0m \u001b[1;32min\u001b[0m \u001b[0ml\u001b[0m\u001b[1;33m]\u001b[0m\u001b[1;33m\u001b[0m\u001b[1;33m\u001b[0m\u001b[0m\n\u001b[0m\u001b[0;32m     19\u001b[0m \u001b[0mprint\u001b[0m\u001b[1;33m(\u001b[0m\u001b[0mb\u001b[0m\u001b[1;33m)\u001b[0m\u001b[1;33m\u001b[0m\u001b[1;33m\u001b[0m\u001b[0m\n",
            "\u001b[1;31mTypeError\u001b[0m: 'float' object is not subscriptable"
          ]
        }
      ]
    },
    {
      "cell_type": "code",
      "metadata": {
        "id": "6nTYJFQdUfvF",
        "outputId": "12f9bf4a-37b2-4e4b-9a89-d072ed35632e"
      },
      "source": [
        "l = [[1, 2, 3],\n",
        " [11, 12, 'b', 'b', 'b'],\n",
        " [21, 't', 223],\n",
        " [4, 5, 6],\n",
        " [7, 8, 9],\n",
        " 'demo',\n",
        " 12.5]\n",
        "\n",
        "li=[]\n",
        "for i,j in enumerate(l):\n",
        "    if type(j) == list:\n",
        "        for k,d in enumerate(j):\n",
        "            if type(d) == str:\n",
        "                print('index of string in the list is ',k)\n",
        "                l[i][k] = 'ccc'\n",
        "            if k == 1:\n",
        "                li.append(j[k])\n",
        "print(l)\n",
        "li\n"
      ],
      "execution_count": null,
      "outputs": [
        {
          "output_type": "stream",
          "text": [
            "index of string in the list is  2\n",
            "index of string in the list is  3\n",
            "index of string in the list is  4\n",
            "index of string in the list is  1\n",
            "[[1, 2, 3], [11, 12, 'ccc', 'ccc', 'ccc'], [21, 'ccc', 223], [4, 5, 6], [7, 8, 9], 'demo', 12.5]\n"
          ],
          "name": "stdout"
        },
        {
          "output_type": "execute_result",
          "data": {
            "text/plain": [
              "[2, 12, 'ccc', 5, 8]"
            ]
          },
          "metadata": {
            "tags": []
          },
          "execution_count": 155
        }
      ]
    },
    {
      "cell_type": "code",
      "metadata": {
        "id": "iLVvEF1xUfvF",
        "outputId": "7b72daab-7cf1-481f-e31c-fadc0bb67d61"
      },
      "source": [
        "l"
      ],
      "execution_count": null,
      "outputs": [
        {
          "output_type": "execute_result",
          "data": {
            "text/plain": [
              "[[1, 2, 3],\n",
              " [11, 12, 'ccc', 'ccc', 'ccc'],\n",
              " [21, 'ccc', 223],\n",
              " [4, 5, 6],\n",
              " [7, 8, 9],\n",
              " 'demo',\n",
              " 12.5]"
            ]
          },
          "metadata": {
            "tags": []
          },
          "execution_count": 156
        }
      ]
    },
    {
      "cell_type": "code",
      "metadata": {
        "id": "IzoedXAgUfvF",
        "outputId": "97860619-84d8-4a4c-f127-43e2c2d4c923"
      },
      "source": [
        "l = [[1, 2, 3],[11, 12, 'b', 'b', 'b'],[21, 't', 223],[4, 5, 6],[7, 8, 9],'demo',12.5]\n",
        "for i in l:\n",
        "    b=False\n",
        "    if type(i) == list:\n",
        "        a=False\n",
        "        for j in i:\n",
        "            if type(j)==str:\n",
        "                i.remove(j)\n",
        "                a=True\n",
        "                break\n",
        "        if a :\n",
        "            print(l.index(i))\n",
        "            l.remove(i)"
      ],
      "execution_count": null,
      "outputs": [
        {
          "output_type": "stream",
          "text": [
            "1\n"
          ],
          "name": "stdout"
        }
      ]
    },
    {
      "cell_type": "code",
      "metadata": {
        "id": "cBNM14yAUfvF",
        "outputId": "29736813-63fc-46a7-a89f-ff790c1a48cd"
      },
      "source": [
        "l"
      ],
      "execution_count": null,
      "outputs": [
        {
          "output_type": "execute_result",
          "data": {
            "text/plain": [
              "[[1, 2, 3], [21, 't', 223], [4, 5, 6], [7, 8, 9], 'demo', 12.5]"
            ]
          },
          "metadata": {
            "tags": []
          },
          "execution_count": 158
        }
      ]
    },
    {
      "cell_type": "code",
      "metadata": {
        "id": "9Mli4Wj5UfvG",
        "outputId": "801aeb51-db96-451c-faa6-64c46ffbe515"
      },
      "source": [
        "\n",
        "l = [[1, 2, 3],\n",
        " [11, 12, 'b', 'b', 'b'],\n",
        " [21, 't', 223,44],\n",
        " [4, 5, 6],\n",
        " [7, 8, 9],\n",
        " 'demo',\n",
        " 12.5]\n",
        "\n",
        "#part 2\n",
        "for sublist in l:\n",
        "    if isinstance(sublist,list):\n",
        "           for obj in sublist:\n",
        "                if isinstance(obj,str):\n",
        "                    print('Occurance found in sublist',sublist ,' at ',sublist.index(obj))\n",
        "                    sublist.remove(obj)\n",
        "                 \n",
        "    print(sublist)\n",
        "\n",
        "#part 3\n",
        "\n",
        "for i in l:\n",
        "    if type(i)== list:\n",
        "        print(i[2])\n"
      ],
      "execution_count": null,
      "outputs": [
        {
          "output_type": "stream",
          "text": [
            "[1, 2, 3]\n",
            "Occurance found in sublist [11, 12, 'b', 'b', 'b']  at  2\n",
            "Occurance found in sublist [11, 12, 'b', 'b']  at  2\n",
            "[11, 12, 'b']\n",
            "Occurance found in sublist [21, 't', 223, 44]  at  1\n",
            "[21, 223, 44]\n",
            "[4, 5, 6]\n",
            "[7, 8, 9]\n",
            "demo\n",
            "12.5\n",
            "3\n",
            "b\n",
            "44\n",
            "6\n",
            "9\n"
          ],
          "name": "stdout"
        }
      ]
    },
    {
      "cell_type": "code",
      "metadata": {
        "id": "R6h2PEDTUfvG",
        "outputId": "bfc0e47f-3bd2-4c3f-a528-04b456145d93"
      },
      "source": [
        "l"
      ],
      "execution_count": null,
      "outputs": [
        {
          "output_type": "execute_result",
          "data": {
            "text/plain": [
              "[[1, 2, 3], [11, 12, 'b'], [21, 223, 44], [4, 5, 6], [7, 8, 9], 'demo', 12.5]"
            ]
          },
          "metadata": {
            "tags": []
          },
          "execution_count": 161
        }
      ]
    },
    {
      "cell_type": "code",
      "metadata": {
        "id": "fJkyA5KWUfvG",
        "outputId": "a0b86287-c16a-4017-93b0-b5be62c8b5c3"
      },
      "source": [
        "l = []\n",
        "for i in range(5):\n",
        "    l.append(int(input()))\n",
        "print(l)"
      ],
      "execution_count": null,
      "outputs": [
        {
          "output_type": "stream",
          "text": [
            "67\n",
            "43\n",
            "3453\n",
            "5654\n",
            "6\n",
            "[67, 43, 3453, 5654, 6]\n"
          ],
          "name": "stdout"
        }
      ]
    },
    {
      "cell_type": "markdown",
      "metadata": {
        "id": "bwip3yguUfvG"
      },
      "source": [
        "input()"
      ]
    },
    {
      "cell_type": "code",
      "metadata": {
        "id": "YAR_q0c0UfvH",
        "outputId": "251b465a-5f4b-4a56-ee8d-87177f8ef533"
      },
      "source": [
        "input()"
      ],
      "execution_count": null,
      "outputs": [
        {
          "output_type": "stream",
          "text": [
            "[345,54,45,45]\n"
          ],
          "name": "stdout"
        },
        {
          "output_type": "execute_result",
          "data": {
            "text/plain": [
              "'[345,54,45,45]'"
            ]
          },
          "metadata": {
            "tags": []
          },
          "execution_count": 164
        }
      ]
    },
    {
      "cell_type": "code",
      "metadata": {
        "id": "-jJiM-nxUfvH",
        "outputId": "8f3f22b8-4607-4522-9736-6d1daae63d96"
      },
      "source": [
        "list(input())"
      ],
      "execution_count": null,
      "outputs": [
        {
          "output_type": "stream",
          "text": [
            "[345,544,454]\n"
          ],
          "name": "stdout"
        },
        {
          "output_type": "execute_result",
          "data": {
            "text/plain": [
              "['[', '3', '4', '5', ',', '5', '4', '4', ',', '4', '5', '4', ']']"
            ]
          },
          "metadata": {
            "tags": []
          },
          "execution_count": 165
        }
      ]
    },
    {
      "cell_type": "code",
      "metadata": {
        "id": "ENrxnYBTUfvH",
        "outputId": "d54f4f66-0f52-4191-a338-2e875d3c34e5"
      },
      "source": [
        "\n",
        "#2. Find the index of string element in the nested list and remove the string\n",
        "l = [[1, 2, 3],\n",
        " [11, 12, 'b', 'b', 'b'],\n",
        " [21, 't', 223],\n",
        " [4, 5, 6],\n",
        " [7, 8, 9],\n",
        " 'demo',\n",
        " 12.5]\n",
        "\n",
        "for i in l:\n",
        "    if type(i) == list:\n",
        "        j=0\n",
        "        while j < len(i):\n",
        "            if type(i[j]) is str:\n",
        "                print(\"Index of string {} is :\".format(i[j]),j)\n",
        "            j = j +1\n",
        "        j=0\n",
        "        while j < len(i):\n",
        "            if type(i[j]) is str:\n",
        "                print(\"The string in the nested list is '{}'\".format(i[j]))\n",
        "                i.remove(i[j])\n",
        "                continue\n",
        "            j = j +1\n",
        "print(\"List after removal of string from nested list is\\r\",l,'\\n')\n"
      ],
      "execution_count": null,
      "outputs": [
        {
          "output_type": "stream",
          "text": [
            "Index of string b is : 2\n",
            "Index of string b is : 3\n",
            "Index of string b is : 4\n",
            "The string in the nested list is 'b'\n",
            "The string in the nested list is 'b'\n",
            "The string in the nested list is 'b'\n",
            "Index of string t is : 1\n",
            "The string in the nested list is 't'\n",
            " [[1, 2, 3], [11, 12], [21, 223], [4, 5, 6], [7, 8, 9], 'demo', 12.5] \n",
            "\n"
          ],
          "name": "stdout"
        }
      ]
    },
    {
      "cell_type": "code",
      "metadata": {
        "id": "7XWoMcRLUfvI"
      },
      "source": [
        "l = [1,2,3,4,5]"
      ],
      "execution_count": null,
      "outputs": []
    },
    {
      "cell_type": "code",
      "metadata": {
        "id": "mEbmm8mVUfvI"
      },
      "source": [
        "l1 = []"
      ],
      "execution_count": null,
      "outputs": []
    },
    {
      "cell_type": "code",
      "metadata": {
        "id": "77Yom2ElUfvI"
      },
      "source": [
        "for i in \"sudh\":\n",
        "    l1.append(i)\n",
        "    "
      ],
      "execution_count": null,
      "outputs": []
    },
    {
      "cell_type": "code",
      "metadata": {
        "id": "2ngbB5nkUfvI",
        "outputId": "4778b541-83a1-4a42-b6f5-b934d666f954"
      },
      "source": [
        "l1"
      ],
      "execution_count": null,
      "outputs": [
        {
          "output_type": "execute_result",
          "data": {
            "text/plain": [
              "['s', 'u', 'd', 'h']"
            ]
          },
          "metadata": {
            "tags": []
          },
          "execution_count": 171
        }
      ]
    },
    {
      "cell_type": "code",
      "metadata": {
        "id": "RzJojtPGUfvJ",
        "outputId": "41abb8e3-09fa-4cc4-e0b2-8e988c8363e1"
      },
      "source": [
        "[[i] for i in \"sudh\"]"
      ],
      "execution_count": null,
      "outputs": [
        {
          "output_type": "execute_result",
          "data": {
            "text/plain": [
              "[['s'], ['u'], ['d'], ['h']]"
            ]
          },
          "metadata": {
            "tags": []
          },
          "execution_count": 173
        }
      ]
    },
    {
      "cell_type": "code",
      "metadata": {
        "id": "b0nG-gAoUfvJ"
      },
      "source": [
        "l = []\n",
        "for i in range(10) :\n",
        "    if i%2 ==0:\n",
        "        l.append(i)"
      ],
      "execution_count": null,
      "outputs": []
    },
    {
      "cell_type": "code",
      "metadata": {
        "id": "QaxjVyEzUfvJ",
        "outputId": "4833aa8e-8876-4685-e86c-3f6a7a9311a2"
      },
      "source": [
        "l"
      ],
      "execution_count": null,
      "outputs": [
        {
          "output_type": "execute_result",
          "data": {
            "text/plain": [
              "[0, 2, 4, 6, 8]"
            ]
          },
          "metadata": {
            "tags": []
          },
          "execution_count": 176
        }
      ]
    },
    {
      "cell_type": "code",
      "metadata": {
        "id": "Q2YYkfYiUfvJ",
        "outputId": "994f27b9-b52e-40ae-baf1-d7a5646e0ab1"
      },
      "source": [
        "[i for i in range(10) if i %2 == 0 ]"
      ],
      "execution_count": null,
      "outputs": [
        {
          "output_type": "execute_result",
          "data": {
            "text/plain": [
              "[0, 2, 4, 6, 8]"
            ]
          },
          "metadata": {
            "tags": []
          },
          "execution_count": 180
        }
      ]
    },
    {
      "cell_type": "code",
      "metadata": {
        "id": "raXaTjZlUfvK",
        "outputId": "9d3d9d3c-fa5c-4200-dddb-9171068b3cc2"
      },
      "source": [
        "8%3"
      ],
      "execution_count": null,
      "outputs": [
        {
          "output_type": "execute_result",
          "data": {
            "text/plain": [
              "2"
            ]
          },
          "metadata": {
            "tags": []
          },
          "execution_count": 178
        }
      ]
    },
    {
      "cell_type": "code",
      "metadata": {
        "id": "iJJAD3uMUfvK",
        "outputId": "01ba265f-b3ea-4a70-dc38-eebeb187fa29"
      },
      "source": [
        "8%2"
      ],
      "execution_count": null,
      "outputs": [
        {
          "output_type": "execute_result",
          "data": {
            "text/plain": [
              "0"
            ]
          },
          "metadata": {
            "tags": []
          },
          "execution_count": 179
        }
      ]
    },
    {
      "cell_type": "code",
      "metadata": {
        "id": "jZpGjdp_UfvK"
      },
      "source": [
        "l = []\n",
        "for i in range(10):\n",
        "    if i % 2 != 0:\n",
        "        l.append(\"odd\")\n",
        "    else :\n",
        "        l.append(\"even\")"
      ],
      "execution_count": null,
      "outputs": []
    },
    {
      "cell_type": "code",
      "metadata": {
        "id": "AdTC2tVjUfvK",
        "outputId": "c44b6044-b650-4388-86fa-995690c3dde4"
      },
      "source": [
        "l"
      ],
      "execution_count": null,
      "outputs": [
        {
          "output_type": "execute_result",
          "data": {
            "text/plain": [
              "['even', 'odd', 'even', 'odd', 'even', 'odd', 'even', 'odd', 'even', 'odd']"
            ]
          },
          "metadata": {
            "tags": []
          },
          "execution_count": 182
        }
      ]
    },
    {
      "cell_type": "code",
      "metadata": {
        "id": "jdxElG6GUfvK",
        "outputId": "e10610f3-9588-44fd-d327-f08a1f52ee38"
      },
      "source": [
        "[\"odd\" if i%2 != 0 else \"even\" for i in range(10)]"
      ],
      "execution_count": null,
      "outputs": [
        {
          "output_type": "execute_result",
          "data": {
            "text/plain": [
              "['even', 'odd', 'even', 'odd', 'even', 'odd', 'even', 'odd', 'even', 'odd']"
            ]
          },
          "metadata": {
            "tags": []
          },
          "execution_count": 184
        }
      ]
    },
    {
      "cell_type": "code",
      "metadata": {
        "id": "nUKiN5QyUfvL",
        "outputId": "d14c2e7f-a460-4008-9eac-c9b1c86bcdfc"
      },
      "source": [
        "mat = []\n",
        "for i in range(3):\n",
        "    mat.append([])\n",
        "    for j in range(3):\n",
        "        mat[i].append(j)\n",
        "mat"
      ],
      "execution_count": null,
      "outputs": [
        {
          "output_type": "execute_result",
          "data": {
            "text/plain": [
              "[[0, 1, 2], [0, 1, 2], [0, 1, 2]]"
            ]
          },
          "metadata": {
            "tags": []
          },
          "execution_count": 185
        }
      ]
    },
    {
      "cell_type": "code",
      "metadata": {
        "id": "Tk2NRmzgUfvL",
        "outputId": "4b8354de-b5db-48ad-a451-cd7fb767f3e9"
      },
      "source": [
        "[[j for j in range(3)]for i in range(3)]"
      ],
      "execution_count": null,
      "outputs": [
        {
          "output_type": "execute_result",
          "data": {
            "text/plain": [
              "[[0, 1, 2], [0, 1, 2], [0, 1, 2]]"
            ]
          },
          "metadata": {
            "tags": []
          },
          "execution_count": 186
        }
      ]
    },
    {
      "cell_type": "code",
      "metadata": {
        "id": "e4vVLOPbUfvL",
        "outputId": "be47b94e-1242-4ca7-9c3f-6d80fc30a851"
      },
      "source": [
        "[i for i in range(8) if i % 2 == 0 if i % 3 == 0  ]"
      ],
      "execution_count": null,
      "outputs": [
        {
          "output_type": "execute_result",
          "data": {
            "text/plain": [
              "[0, 6]"
            ]
          },
          "metadata": {
            "tags": []
          },
          "execution_count": 191
        }
      ]
    },
    {
      "cell_type": "code",
      "metadata": {
        "id": "sH5WFiHUUfvL"
      },
      "source": [
        "l = []\n",
        "for i in range(8):\n",
        "    if i % 2 == 0 :\n",
        "        if i % 3 == 0 :\n",
        "            l.append(i)"
      ],
      "execution_count": null,
      "outputs": []
    },
    {
      "cell_type": "code",
      "metadata": {
        "id": "y0wfn1vlUfvM",
        "outputId": "9a7204fc-9566-4ca3-bf21-729b3dfbc653"
      },
      "source": [
        "l"
      ],
      "execution_count": null,
      "outputs": [
        {
          "output_type": "execute_result",
          "data": {
            "text/plain": [
              "[0, 6]"
            ]
          },
          "metadata": {
            "tags": []
          },
          "execution_count": 193
        }
      ]
    },
    {
      "cell_type": "code",
      "metadata": {
        "id": "T1ZzXgFjUfvM"
      },
      "source": [
        "l = []\n",
        "for i in range(10):\n",
        "    l.append(i)"
      ],
      "execution_count": null,
      "outputs": []
    },
    {
      "cell_type": "code",
      "metadata": {
        "id": "V37TnBodUfvM",
        "outputId": "29d00ab4-054d-4499-ab03-962c1a76e47b"
      },
      "source": [
        "l"
      ],
      "execution_count": null,
      "outputs": [
        {
          "output_type": "execute_result",
          "data": {
            "text/plain": [
              "[0, 1, 2, 3, 4, 5, 6, 7, 8, 9]"
            ]
          },
          "metadata": {
            "tags": []
          },
          "execution_count": 195
        }
      ]
    },
    {
      "cell_type": "code",
      "metadata": {
        "id": "aVnz-R3yUfvM",
        "outputId": "bfe909ff-b032-49a3-b4d8-f866223cd94a"
      },
      "source": [
        "[\"yes \" if i == 1  else \"no\" if i == 2 else \"test \" for i in l]"
      ],
      "execution_count": null,
      "outputs": [
        {
          "output_type": "execute_result",
          "data": {
            "text/plain": [
              "['test ',\n",
              " 'yes ',\n",
              " 'no',\n",
              " 'test ',\n",
              " 'test ',\n",
              " 'test ',\n",
              " 'test ',\n",
              " 'test ',\n",
              " 'test ',\n",
              " 'test ']"
            ]
          },
          "metadata": {
            "tags": []
          },
          "execution_count": 201
        }
      ]
    },
    {
      "cell_type": "code",
      "metadata": {
        "id": "FHdwlk4RUfvM",
        "outputId": "f3976d57-1512-4d16-b69c-a0d3f796618c"
      },
      "source": [
        " l "
      ],
      "execution_count": null,
      "outputs": [
        {
          "output_type": "execute_result",
          "data": {
            "text/plain": [
              "[0, 1, 2, 3, 4, 5, 6, 7, 8, 9]"
            ]
          },
          "metadata": {
            "tags": []
          },
          "execution_count": 197
        }
      ]
    },
    {
      "cell_type": "code",
      "metadata": {
        "id": "HVaA4N0LUfvN"
      },
      "source": [
        "res = []\n",
        "for i in l :\n",
        "    if i == 1 :\n",
        "        res.append(\"yes\")\n",
        "    elif i ==2 :\n",
        "        res.append(\"no\")\n",
        "    else :\n",
        "        res.append(\"test\")"
      ],
      "execution_count": null,
      "outputs": []
    },
    {
      "cell_type": "code",
      "metadata": {
        "id": "ATHlgayUUfvN",
        "outputId": "7fc6065d-1195-42a1-8954-1e22e9c2c399"
      },
      "source": [
        "res"
      ],
      "execution_count": null,
      "outputs": [
        {
          "output_type": "execute_result",
          "data": {
            "text/plain": [
              "['test', 'yes', 'no', 'test', 'test', 'test', 'test', 'test', 'test', 'test']"
            ]
          },
          "metadata": {
            "tags": []
          },
          "execution_count": 199
        }
      ]
    },
    {
      "cell_type": "code",
      "metadata": {
        "id": "mylXeihbUfvN"
      },
      "source": [
        ""
      ],
      "execution_count": null,
      "outputs": []
    }
  ]
}