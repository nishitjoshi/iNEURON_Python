{
  "nbformat": 4,
  "nbformat_minor": 0,
  "metadata": {
    "kernelspec": {
      "display_name": "Python 3",
      "language": "python",
      "name": "python3"
    },
    "language_info": {
      "codemirror_mode": {
        "name": "ipython",
        "version": 3
      },
      "file_extension": ".py",
      "mimetype": "text/x-python",
      "name": "python",
      "nbconvert_exporter": "python",
      "pygments_lexer": "ipython3",
      "version": "3.8.3"
    },
    "colab": {
      "name": "7th march live class notebook for loop while and range function  (1).ipynb",
      "provenance": [],
      "include_colab_link": true
    }
  },
  "cells": [
    {
      "cell_type": "markdown",
      "metadata": {
        "id": "view-in-github",
        "colab_type": "text"
      },
      "source": [
        "<a href=\"https://colab.research.google.com/github/nishitjoshi/iNEURON_Python/blob/main/2_7th_march_live_class_notebook_for_loop_while_and_range_function_(1).ipynb\" target=\"_parent\"><img src=\"https://colab.research.google.com/assets/colab-badge.svg\" alt=\"Open In Colab\"/></a>"
      ]
    },
    {
      "cell_type": "code",
      "metadata": {
        "id": "yy4oeGO0THTl",
        "outputId": "ee7a3e65-7ee7-49b3-89d2-4b9774c450df"
      },
      "source": [
        "notes = 5 \n",
        "i = 1 \n",
        "j = 1\n",
        "while i < notes:\n",
        "    print(i)\n",
        "    i += 1\n",
        "else :\n",
        "    \n",
        "    while j < 2 :\n",
        "        print(i)\n",
        "        j = j + 1 \n",
        "    print(\"no 10 rs notes are available \")"
      ],
      "execution_count": null,
      "outputs": [
        {
          "output_type": "stream",
          "text": [
            "1\n",
            "2\n",
            "3\n",
            "4\n",
            "5\n",
            "no 10 rs notes are available \n"
          ],
          "name": "stdout"
        }
      ]
    },
    {
      "cell_type": "code",
      "metadata": {
        "id": "pLiQaozzTHTo"
      },
      "source": [
        "s = \"my name is sudhanshu\""
      ],
      "execution_count": null,
      "outputs": []
    },
    {
      "cell_type": "code",
      "metadata": {
        "id": "Y9IHChDUTHTp",
        "outputId": "a7bf4493-9453-4f37-8387-94b4c9aeb655"
      },
      "source": [
        "s"
      ],
      "execution_count": null,
      "outputs": [
        {
          "output_type": "execute_result",
          "data": {
            "text/plain": [
              "'my name is sudhanshu'"
            ]
          },
          "metadata": {
            "tags": []
          },
          "execution_count": 32
        }
      ]
    },
    {
      "cell_type": "code",
      "metadata": {
        "id": "I59ytV2cTHTp",
        "outputId": "1429ba08-6d35-4594-8ab1-858ad1f2a77d"
      },
      "source": [
        "s[2:-6]"
      ],
      "execution_count": null,
      "outputs": [
        {
          "output_type": "execute_result",
          "data": {
            "text/plain": [
              "' name is sud'"
            ]
          },
          "metadata": {
            "tags": []
          },
          "execution_count": 33
        }
      ]
    },
    {
      "cell_type": "code",
      "metadata": {
        "id": "XEK7FxDLTHTq",
        "outputId": "d9e82d4f-98fc-4880-a0a1-4fb617aacf8f"
      },
      "source": [
        "s[3:10:2]"
      ],
      "execution_count": null,
      "outputs": [
        {
          "output_type": "execute_result",
          "data": {
            "text/plain": [
              "'nm s'"
            ]
          },
          "metadata": {
            "tags": []
          },
          "execution_count": 15
        }
      ]
    },
    {
      "cell_type": "code",
      "metadata": {
        "id": "kVa-HGXtTHTq",
        "outputId": "5f0a8ec4-084f-4d33-fd4a-740bf8d642d0"
      },
      "source": [
        "s[::-1]"
      ],
      "execution_count": null,
      "outputs": [
        {
          "output_type": "execute_result",
          "data": {
            "text/plain": [
              "'uhsnahdus si eman ym'"
            ]
          },
          "metadata": {
            "tags": []
          },
          "execution_count": 22
        }
      ]
    },
    {
      "cell_type": "code",
      "metadata": {
        "id": "E482s1MUTHTq",
        "outputId": "168ac94b-c259-4689-c86a-e511a3cac178"
      },
      "source": [
        "s[2:-6]"
      ],
      "execution_count": null,
      "outputs": [
        {
          "output_type": "execute_result",
          "data": {
            "text/plain": [
              "' name is sud'"
            ]
          },
          "metadata": {
            "tags": []
          },
          "execution_count": 23
        }
      ]
    },
    {
      "cell_type": "code",
      "metadata": {
        "id": "vFHjguntTHTr"
      },
      "source": [
        "s = \"sudh\""
      ],
      "execution_count": null,
      "outputs": []
    },
    {
      "cell_type": "code",
      "metadata": {
        "id": "03MTt7MITHTr",
        "outputId": "866499fa-6309-459b-e8d2-c89919ca352f"
      },
      "source": [
        "s[0]"
      ],
      "execution_count": null,
      "outputs": [
        {
          "output_type": "execute_result",
          "data": {
            "text/plain": [
              "'s'"
            ]
          },
          "metadata": {
            "tags": []
          },
          "execution_count": 28
        }
      ]
    },
    {
      "cell_type": "code",
      "metadata": {
        "id": "Pi-HD73FTHTs",
        "outputId": "85435034-bb67-41c0-f30f-450eef6a7c66"
      },
      "source": [
        "s"
      ],
      "execution_count": null,
      "outputs": [
        {
          "output_type": "execute_result",
          "data": {
            "text/plain": [
              "'my name is sudhanshu'"
            ]
          },
          "metadata": {
            "tags": []
          },
          "execution_count": 34
        }
      ]
    },
    {
      "cell_type": "code",
      "metadata": {
        "id": "u79sME2-THTt",
        "outputId": "8e00c65a-9480-44d4-8f1c-547e406c647c"
      },
      "source": [
        "for i in s :\n",
        "    if i == 's':\n",
        "        print(\" i got s as a string \")\n",
        "    print(i)"
      ],
      "execution_count": null,
      "outputs": [
        {
          "output_type": "stream",
          "text": [
            "m\n",
            "y\n",
            " \n",
            "n\n",
            "a\n",
            "m\n",
            "e\n",
            " \n",
            "i\n",
            " i got s as a string \n",
            "s\n",
            " \n",
            " i got s as a string \n",
            "s\n",
            "u\n",
            "d\n",
            "h\n",
            "a\n",
            "n\n",
            " i got s as a string \n",
            "s\n",
            "h\n",
            "u\n"
          ],
          "name": "stdout"
        }
      ]
    },
    {
      "cell_type": "code",
      "metadata": {
        "id": "B1v90En3THTt",
        "outputId": "c9fb69d1-f35f-4cb7-a06e-efa6d2674728"
      },
      "source": [
        "s "
      ],
      "execution_count": null,
      "outputs": [
        {
          "output_type": "execute_result",
          "data": {
            "text/plain": [
              "'my name is sudhanshu'"
            ]
          },
          "metadata": {
            "tags": []
          },
          "execution_count": 37
        }
      ]
    },
    {
      "cell_type": "code",
      "metadata": {
        "id": "FdejYdkQTHTt",
        "outputId": "981cf578-1ca8-4217-ddfe-2eac51a26bf2"
      },
      "source": [
        "for i in s :\n",
        "    if i == \"n\":\n",
        "        continue \n",
        "    print(i)\n",
        "else :\n",
        "    if i == 'u':\n",
        "        print(\"last char was u \")\n",
        "    print(\"this is a else condtion \")"
      ],
      "execution_count": null,
      "outputs": [
        {
          "output_type": "stream",
          "text": [
            "m\n",
            "y\n",
            " \n",
            "a\n",
            "m\n",
            "e\n",
            " \n",
            "i\n",
            "s\n",
            " \n",
            "s\n",
            "u\n",
            "d\n",
            "h\n",
            "a\n",
            "s\n",
            "h\n",
            "u\n",
            "last char was u \n",
            "this is a else condtion \n"
          ],
          "name": "stdout"
        }
      ]
    },
    {
      "cell_type": "code",
      "metadata": {
        "id": "y1r68Zq3THTu"
      },
      "source": [
        "s =  \"ineuron\"\n",
        "ss = \"\"\n",
        "for i in range(len(s)):\n",
        "    if s[i] == \"n\":\n",
        "        continue\n",
        "    else :\n",
        "        ss = ss + s[i]"
      ],
      "execution_count": null,
      "outputs": []
    },
    {
      "cell_type": "code",
      "metadata": {
        "id": "sISB2Pn_THTu",
        "outputId": "a8396f3d-d157-4f3d-e3ed-a8262527dc46"
      },
      "source": [
        "ss"
      ],
      "execution_count": null,
      "outputs": [
        {
          "output_type": "execute_result",
          "data": {
            "text/plain": [
              "'ieuro'"
            ]
          },
          "metadata": {
            "tags": []
          },
          "execution_count": 54
        }
      ]
    },
    {
      "cell_type": "code",
      "metadata": {
        "id": "eLUnF46sTHTv",
        "outputId": "b6f2226e-dd21-4b54-885e-503faf3c3b4d"
      },
      "source": [
        "len(s)"
      ],
      "execution_count": null,
      "outputs": [
        {
          "output_type": "execute_result",
          "data": {
            "text/plain": [
              "7"
            ]
          },
          "metadata": {
            "tags": []
          },
          "execution_count": 55
        }
      ]
    },
    {
      "cell_type": "code",
      "metadata": {
        "id": "V-hbyB5eTHTv",
        "outputId": "e818dd3c-6065-4a30-d52b-c777dc400345"
      },
      "source": [
        "n = 7 \n",
        "for i in range(0 ,n):\n",
        "    for j in range(0 ,i +1):\n",
        "        print(\"+ \" , end = \"\")\n",
        "    print(\"\\r\")\n",
        "    "
      ],
      "execution_count": null,
      "outputs": [
        {
          "output_type": "stream",
          "text": [
            "+ \r\n",
            "+ + \r\n",
            "+ + + \r\n",
            "+ + + + \r\n",
            "+ + + + + \r\n",
            "+ + + + + + \r\n",
            "+ + + + + + + \r\n"
          ],
          "name": "stdout"
        }
      ]
    },
    {
      "cell_type": "code",
      "metadata": {
        "id": "aCXkhARVTHTv",
        "outputId": "b394741a-b06c-422f-cc9c-c1de7199a24c"
      },
      "source": [
        "def pattern(n):\n",
        "      k = 2*n -2\n",
        "      for i in range(n,-1,-1):\n",
        "           for j in range(k,0,-1):\n",
        "                print(end=\" \")\n",
        "           k = k +1\n",
        "           for j in range(0, i+1):\n",
        "                print(\"*\", end=\" \")\n",
        "           print(\"\\r\")\n",
        " \n",
        "pattern(5)\n"
      ],
      "execution_count": null,
      "outputs": [
        {
          "output_type": "stream",
          "text": [
            "        * * * * * * \r\n",
            "         * * * * * \r\n",
            "          * * * * \r\n",
            "           * * * \r\n",
            "            * * \r\n",
            "             * \r\n"
          ],
          "name": "stdout"
        }
      ]
    },
    {
      "cell_type": "code",
      "metadata": {
        "id": "ixV5v7XxTHTw",
        "outputId": "c77770f2-f316-4901-d2ac-9a77f3922e93"
      },
      "source": [
        "for i in range(7,0,-1):\n",
        "    print(i)"
      ],
      "execution_count": null,
      "outputs": [
        {
          "output_type": "stream",
          "text": [
            "7\n",
            "6\n",
            "5\n",
            "4\n",
            "3\n",
            "2\n",
            "1\n"
          ],
          "name": "stdout"
        }
      ]
    },
    {
      "cell_type": "code",
      "metadata": {
        "id": "9CiaYXdHTHTw",
        "outputId": "95a13f7f-be8a-4e22-e148-0a270a561e5b"
      },
      "source": [
        "n = int(input('Enter number of rows required: '))\n",
        "\n",
        "for i in range(n,0,-1):\n",
        "    for j in range(n-i):\n",
        "        print(' ', end='') \n",
        "    \n",
        "    for j in range(2*i-1):\n",
        "        print('*',end='') \n",
        "    print()\n"
      ],
      "execution_count": null,
      "outputs": [
        {
          "output_type": "stream",
          "text": [
            "Enter number of rows required: 7\n",
            "*************\n",
            " ***********\n",
            "  *********\n",
            "   *******\n",
            "    *****\n",
            "     ***\n",
            "      *\n"
          ],
          "name": "stdout"
        }
      ]
    },
    {
      "cell_type": "code",
      "metadata": {
        "id": "FTWYNAwHTHTx",
        "outputId": "9ddfee6f-ab17-4b03-d6b5-02ebdf35f098"
      },
      "source": [
        "for i in range(8, 0, -1):\n",
        "    print(i)"
      ],
      "execution_count": null,
      "outputs": [
        {
          "output_type": "stream",
          "text": [
            "8\n",
            "7\n",
            "6\n",
            "5\n",
            "4\n",
            "3\n",
            "2\n",
            "1\n"
          ],
          "name": "stdout"
        }
      ]
    },
    {
      "cell_type": "code",
      "metadata": {
        "id": "LigQ02sSTHTx",
        "outputId": "c3889221-b860-486b-8f5b-004aa851e179"
      },
      "source": [
        "num = 5\n",
        "m = 2 * num - 2\n",
        "for i in range(num, -1, -1):\n",
        "    for j in range(m, 0, -1):\n",
        "        print(end=\" \")\n",
        "    m = m + 1\n",
        "    for j in range(0, i + 1):\n",
        "        print(\"*\", end=\" \")\n",
        "    print(\"\")\n"
      ],
      "execution_count": null,
      "outputs": [
        {
          "output_type": "stream",
          "text": [
            "        * * * * * * \n",
            "         * * * * * \n",
            "          * * * * \n",
            "           * * * \n",
            "            * * \n",
            "             * \n"
          ],
          "name": "stdout"
        }
      ]
    },
    {
      "cell_type": "code",
      "metadata": {
        "id": "2Rgn1yIcTHTx",
        "outputId": "8b3b5409-abd5-4f20-fecd-ff6e4e44c43f"
      },
      "source": [
        "\" \"*5"
      ],
      "execution_count": null,
      "outputs": [
        {
          "output_type": "execute_result",
          "data": {
            "text/plain": [
              "'     '"
            ]
          },
          "metadata": {
            "tags": []
          },
          "execution_count": 80
        }
      ]
    },
    {
      "cell_type": "code",
      "metadata": {
        "id": "dMPoAPQETHTy"
      },
      "source": [
        ""
      ],
      "execution_count": null,
      "outputs": []
    },
    {
      "cell_type": "code",
      "metadata": {
        "id": "8TyyrDAQTHTy",
        "outputId": "bda1d145-fcb9-4542-b6eb-2c5fee4e8f4a"
      },
      "source": [
        "n =9\n",
        "i=0\n",
        "while i < n :\n",
        "    print(' '*(n-i-1) + '* '*(i+1))\n",
        "    i +=1\n"
      ],
      "execution_count": null,
      "outputs": [
        {
          "output_type": "stream",
          "text": [
            "        * \n",
            "       * * \n",
            "      * * * \n",
            "     * * * * \n",
            "    * * * * * \n",
            "   * * * * * * \n",
            "  * * * * * * * \n",
            " * * * * * * * * \n",
            "* * * * * * * * * \n"
          ],
          "name": "stdout"
        }
      ]
    },
    {
      "cell_type": "code",
      "metadata": {
        "id": "PkgTcCQlTHTy",
        "outputId": "2296538d-26c8-40d4-b4b1-c0c5d51278f2"
      },
      "source": [
        "i=1\n",
        "k=1 #for printing starts with the increament of 2\n",
        "\n",
        "while i<=5:\n",
        "    b=1\n",
        "    while b<=5-i:\n",
        "        print(' ',end='')\n",
        "        b=b+1\n",
        "        \n",
        "    j=1\n",
        "    while j<=k:\n",
        "        print('*', end='')\n",
        "        j=j+1\n",
        "    print()\n",
        "    \n",
        "    k=k+2\n",
        "    \n",
        "    i=i+1\n"
      ],
      "execution_count": null,
      "outputs": [
        {
          "output_type": "stream",
          "text": [
            "    *\n",
            "   ***\n",
            "  *****\n",
            " *******\n",
            "*********\n"
          ],
          "name": "stdout"
        }
      ]
    },
    {
      "cell_type": "code",
      "metadata": {
        "id": "ibj_7raYTHTz",
        "outputId": "5cbf80ac-c400-4144-e702-491b4bbffd6b"
      },
      "source": [
        "userInput = int(input(\"Please enter the amount of rows: \"))\n",
        "\n",
        "row = 0\n",
        "while(row < userInput):\n",
        "    row += 1\n",
        "    spaces = userInput - row\n",
        "\n",
        "    spaces_counter = 0\n",
        "    while(spaces_counter < spaces):\n",
        "        print(\" \", end='')\n",
        "        spaces_counter += 1\n",
        "\n",
        "    num_stars = 2*row-1\n",
        "    while(num_stars > 0):\n",
        "        print(\"*\", end='')\n",
        "        num_stars -= 1\n",
        "\n",
        "    print()\n",
        "print(\"**iNeuron-FSDS**\")\n"
      ],
      "execution_count": null,
      "outputs": [
        {
          "output_type": "stream",
          "text": [
            "Please enter the amount of rows: 7\n",
            "      *\n",
            "     ***\n",
            "    *****\n",
            "   *******\n",
            "  *********\n",
            " ***********\n",
            "*************\n",
            "**iNeuron-FSDS**\n"
          ],
          "name": "stdout"
        }
      ]
    },
    {
      "cell_type": "code",
      "metadata": {
        "id": "8Rx579iiTHTz"
      },
      "source": [
        "l = list()"
      ],
      "execution_count": null,
      "outputs": []
    },
    {
      "cell_type": "code",
      "metadata": {
        "id": "7ZUYPg8jTHTz"
      },
      "source": [
        "name = \"sudh\"\n",
        "phno = 543535345\n",
        "addr = \"sdfsff\"\n",
        "\n",
        "name , phno , addr = \"sudh \" , 54353453,\"fgfd\""
      ],
      "execution_count": null,
      "outputs": []
    },
    {
      "cell_type": "code",
      "metadata": {
        "id": "DseXZ3wPTHT0",
        "outputId": "046d1b68-164a-4142-a25d-1e433fbc4dc3"
      },
      "source": [
        "l = [\"sudh\" , 34535,\"sfsfsafa\", True, 45+8j , [3,5,6,\"dfg\"],6.787]\n",
        "\n",
        "len(l)"
      ],
      "execution_count": null,
      "outputs": [
        {
          "output_type": "execute_result",
          "data": {
            "text/plain": [
              "7"
            ]
          },
          "metadata": {
            "tags": []
          },
          "execution_count": 122
        }
      ]
    },
    {
      "cell_type": "code",
      "metadata": {
        "id": "kVvrKBdBTHT0",
        "outputId": "dcc36ea7-2a1b-43ac-99d8-f42aba542fb1"
      },
      "source": [
        "range(10)"
      ],
      "execution_count": null,
      "outputs": [
        {
          "output_type": "execute_result",
          "data": {
            "text/plain": [
              "range(0, 10)"
            ]
          },
          "metadata": {
            "tags": []
          },
          "execution_count": 121
        }
      ]
    },
    {
      "cell_type": "code",
      "metadata": {
        "id": "UkNmbaHlTHT1",
        "outputId": "139d8d9a-a881-48ae-bd78-27b5d1d2bae8"
      },
      "source": [
        "list(range(10))"
      ],
      "execution_count": null,
      "outputs": [
        {
          "output_type": "execute_result",
          "data": {
            "text/plain": [
              "[0, 1, 2, 3, 4, 5, 6, 7, 8, 9]"
            ]
          },
          "metadata": {
            "tags": []
          },
          "execution_count": 119
        }
      ]
    },
    {
      "cell_type": "code",
      "metadata": {
        "id": "X3fcsW4OTHT1",
        "outputId": "ae084026-7a0f-4929-d279-e057b8851938"
      },
      "source": [
        "for  i in range(4,10):\n",
        "    print(i)"
      ],
      "execution_count": null,
      "outputs": [
        {
          "output_type": "stream",
          "text": [
            "4\n",
            "5\n",
            "6\n",
            "7\n",
            "8\n",
            "9\n"
          ],
          "name": "stdout"
        }
      ]
    },
    {
      "cell_type": "code",
      "metadata": {
        "id": "faNp_07pTHT1",
        "outputId": "a81d1fd8-c48b-483c-f8da-444d10286c19"
      },
      "source": [
        "l[80 :3:1]"
      ],
      "execution_count": null,
      "outputs": [
        {
          "output_type": "execute_result",
          "data": {
            "text/plain": [
              "[]"
            ]
          },
          "metadata": {
            "tags": []
          },
          "execution_count": 114
        }
      ]
    },
    {
      "cell_type": "code",
      "metadata": {
        "id": "4YvGfZCfTHT2",
        "outputId": "84f6569c-d47e-4207-daed-98d8e21a165d"
      },
      "source": [
        "for i in l :\n",
        "    if type(i) == list:\n",
        "        n = 0\n",
        "        for  j in i :\n",
        "            if type(j) == int :\n",
        "                n = n + j\n",
        "        print(n)\n",
        "                \n",
        "        print(type(j))"
      ],
      "execution_count": null,
      "outputs": [
        {
          "output_type": "stream",
          "text": [
            "14\n",
            "<class 'str'>\n"
          ],
          "name": "stdout"
        }
      ]
    },
    {
      "cell_type": "code",
      "metadata": {
        "id": "6MozQHo0THT2",
        "outputId": "ea6ca344-d9fd-4449-f257-75353171135e"
      },
      "source": [
        "type(l)"
      ],
      "execution_count": null,
      "outputs": [
        {
          "output_type": "execute_result",
          "data": {
            "text/plain": [
              "list"
            ]
          },
          "metadata": {
            "tags": []
          },
          "execution_count": 88
        }
      ]
    },
    {
      "cell_type": "code",
      "metadata": {
        "id": "I44Phm32THT2",
        "outputId": "4c7200cd-7053-4e05-9bd0-563c1b8ecea0"
      },
      "source": [
        "l1 = []\n",
        "type(l1)"
      ],
      "execution_count": null,
      "outputs": [
        {
          "output_type": "execute_result",
          "data": {
            "text/plain": [
              "list"
            ]
          },
          "metadata": {
            "tags": []
          },
          "execution_count": 94
        }
      ]
    },
    {
      "cell_type": "code",
      "metadata": {
        "id": "EMWFbeYOTHT3",
        "outputId": "f5212c70-82fe-4e82-866b-d34862c92243"
      },
      "source": [
        "l2 = list()\n",
        "type(l2)"
      ],
      "execution_count": null,
      "outputs": [
        {
          "output_type": "execute_result",
          "data": {
            "text/plain": [
              "list"
            ]
          },
          "metadata": {
            "tags": []
          },
          "execution_count": 95
        }
      ]
    },
    {
      "cell_type": "code",
      "metadata": {
        "id": "9bep6Fj7THT3",
        "outputId": "0ff34574-a4a0-4767-d5f8-4e8efad22bed"
      },
      "source": [
        "type(l1)"
      ],
      "execution_count": null,
      "outputs": [
        {
          "output_type": "execute_result",
          "data": {
            "text/plain": [
              "list"
            ]
          },
          "metadata": {
            "tags": []
          },
          "execution_count": 90
        }
      ]
    },
    {
      "cell_type": "code",
      "metadata": {
        "id": "ggsssP2UTHT3",
        "outputId": "2ac52c8a-66a7-40fc-deeb-138949fc505a"
      },
      "source": [
        "l[0]"
      ],
      "execution_count": null,
      "outputs": [
        {
          "output_type": "execute_result",
          "data": {
            "text/plain": [
              "'sudh'"
            ]
          },
          "metadata": {
            "tags": []
          },
          "execution_count": 85
        }
      ]
    },
    {
      "cell_type": "code",
      "metadata": {
        "id": "5EiSuFyrTHT3",
        "outputId": "adc00e1c-40c7-48da-f9c3-242d652f3943"
      },
      "source": [
        "l[1]"
      ],
      "execution_count": null,
      "outputs": [
        {
          "output_type": "execute_result",
          "data": {
            "text/plain": [
              "34535"
            ]
          },
          "metadata": {
            "tags": []
          },
          "execution_count": 86
        }
      ]
    },
    {
      "cell_type": "code",
      "metadata": {
        "id": "o0PQJPKKTHT4",
        "outputId": "12b9ca36-5b10-4137-d9b4-0dea3061e8f8"
      },
      "source": [
        "l[2]"
      ],
      "execution_count": null,
      "outputs": [
        {
          "output_type": "execute_result",
          "data": {
            "text/plain": [
              "'sfsfsafa'"
            ]
          },
          "metadata": {
            "tags": []
          },
          "execution_count": 87
        }
      ]
    },
    {
      "cell_type": "code",
      "metadata": {
        "id": "s0p1OPQLTHT4"
      },
      "source": [
        ""
      ],
      "execution_count": null,
      "outputs": []
    }
  ]
}