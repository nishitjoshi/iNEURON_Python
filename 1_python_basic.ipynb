{
  "nbformat": 4,
  "nbformat_minor": 0,
  "metadata": {
    "kernelspec": {
      "display_name": "Python 3",
      "language": "python",
      "name": "python3"
    },
    "language_info": {
      "codemirror_mode": {
        "name": "ipython",
        "version": 3
      },
      "file_extension": ".py",
      "mimetype": "text/x-python",
      "name": "python",
      "nbconvert_exporter": "python",
      "pygments_lexer": "ipython3",
      "version": "3.8.3"
    },
    "colab": {
      "name": "python basic.ipynb",
      "provenance": [],
      "include_colab_link": true
    }
  },
  "cells": [
    {
      "cell_type": "markdown",
      "metadata": {
        "id": "view-in-github",
        "colab_type": "text"
      },
      "source": [
        "<a href=\"https://colab.research.google.com/github/nishitjoshi/iNEURON_Python/blob/main/1_python_basic.ipynb\" target=\"_parent\"><img src=\"https://colab.research.google.com/assets/colab-badge.svg\" alt=\"Open In Colab\"/></a>"
      ]
    },
    {
      "cell_type": "code",
      "metadata": {
        "id": "6jXxk2seRai0",
        "outputId": "840be291-5aac-4be5-f4d2-e4591bd33f15"
      },
      "source": [
        "#this is my first prog\n",
        "print('this is my first python program')"
      ],
      "execution_count": null,
      "outputs": [
        {
          "output_type": "stream",
          "text": [
            "this is my first python program\n"
          ],
          "name": "stdout"
        }
      ]
    },
    {
      "cell_type": "code",
      "metadata": {
        "id": "puv9Jr2iRai3",
        "outputId": "2d057bda-9db3-47ef-955a-8a5f1d062851"
      },
      "source": [
        "print \" this is my first program\""
      ],
      "execution_count": null,
      "outputs": [
        {
          "output_type": "error",
          "ename": "SyntaxError",
          "evalue": "Missing parentheses in call to 'print'. Did you mean print(\" this is my first program\")? (<ipython-input-5-470a57016701>, line 1)",
          "traceback": [
            "\u001b[1;36m  File \u001b[1;32m\"<ipython-input-5-470a57016701>\"\u001b[1;36m, line \u001b[1;32m1\u001b[0m\n\u001b[1;33m    print \" this is my first program\"\u001b[0m\n\u001b[1;37m          ^\u001b[0m\n\u001b[1;31mSyntaxError\u001b[0m\u001b[1;31m:\u001b[0m Missing parentheses in call to 'print'. Did you mean print(\" this is my first program\")?\n"
          ]
        }
      ]
    },
    {
      "cell_type": "code",
      "metadata": {
        "id": "-283gGMwRai3",
        "outputId": "9ff7ce8d-6a8b-4dbf-afad-f1a25b95b31b"
      },
      "source": [
        "#my name is sudh \n",
        "\"\"\"FAFASFSAFSAFASFASFASFSDFASF\n",
        "ASDFASF\n",
        "ASDFASDF\n",
        "\"\"\"\n",
        "a "
      ],
      "execution_count": null,
      "outputs": [
        {
          "output_type": "execute_result",
          "data": {
            "text/plain": [
              "78"
            ]
          },
          "metadata": {
            "tags": []
          },
          "execution_count": 159
        }
      ]
    },
    {
      "cell_type": "code",
      "metadata": {
        "id": "9bplaHyDRai4",
        "outputId": "4e025f25-380b-43e1-8750-850b1e0deaa3"
      },
      "source": [
        "\"\"\"print(\"fsdfsdfs\")\n",
        "print(\"Fsdfsfs\\FSDFSAFASFASDDF)\n",
        "print(\"sdfsfsdf\")\"\"\""
      ],
      "execution_count": null,
      "outputs": [
        {
          "output_type": "execute_result",
          "data": {
            "text/plain": [
              "'print(\"fsdfsdfs\")\\nprint(\"Fsdfsfs\\\\FSDFSAFASFASDDF)\\nprint(\"sdfsfsdf\")'"
            ]
          },
          "metadata": {
            "tags": []
          },
          "execution_count": 14
        }
      ]
    },
    {
      "cell_type": "code",
      "metadata": {
        "id": "4LW8TjX2Rai4"
      },
      "source": [
        "afsdf = 10 "
      ],
      "execution_count": null,
      "outputs": []
    },
    {
      "cell_type": "code",
      "metadata": {
        "id": "Bpg4UmHcRai5",
        "outputId": "b3991ca8-f158-49cd-f463-d7fdd5ae3f63"
      },
      "source": [
        "afsdf"
      ],
      "execution_count": null,
      "outputs": [
        {
          "output_type": "execute_result",
          "data": {
            "text/plain": [
              "10"
            ]
          },
          "metadata": {
            "tags": []
          },
          "execution_count": 22
        }
      ]
    },
    {
      "cell_type": "code",
      "metadata": {
        "id": "P8QhiNriRai5",
        "outputId": "031d2341-c17b-4ce9-dfb4-925b64b4f297"
      },
      "source": [
        "type(a)"
      ],
      "execution_count": null,
      "outputs": [
        {
          "output_type": "execute_result",
          "data": {
            "text/plain": [
              "int"
            ]
          },
          "metadata": {
            "tags": []
          },
          "execution_count": 20
        }
      ]
    },
    {
      "cell_type": "code",
      "metadata": {
        "id": "2MD9DkSpRai5"
      },
      "source": [
        "b = '34554sudh 45345fgf sgsd sdfg sh sghf h dhdfh df'"
      ],
      "execution_count": null,
      "outputs": []
    },
    {
      "cell_type": "code",
      "metadata": {
        "id": "pcp3YUA3Rai6",
        "outputId": "3b7446ca-11af-4bb0-ae63-cc65997e3511"
      },
      "source": [
        "b"
      ],
      "execution_count": null,
      "outputs": [
        {
          "output_type": "execute_result",
          "data": {
            "text/plain": [
              "'34554sudh 45345fgf sgsd sdfg sh sghf h dhdfh df'"
            ]
          },
          "metadata": {
            "tags": []
          },
          "execution_count": 29
        }
      ]
    },
    {
      "cell_type": "code",
      "metadata": {
        "id": "wRzXmjLzRai6",
        "outputId": "883e9339-50a5-43cf-dcc0-07fc8097ed2c"
      },
      "source": [
        "type(b)"
      ],
      "execution_count": null,
      "outputs": [
        {
          "output_type": "execute_result",
          "data": {
            "text/plain": [
              "str"
            ]
          },
          "metadata": {
            "tags": []
          },
          "execution_count": 30
        }
      ]
    },
    {
      "cell_type": "code",
      "metadata": {
        "id": "a1MP3FGkRai7",
        "outputId": "b4d5fc08-00ec-4eb9-d32e-03af9d58b3bc"
      },
      "source": [
        "print(b , a ,\"Fsdfsfsd\")"
      ],
      "execution_count": null,
      "outputs": [
        {
          "output_type": "stream",
          "text": [
            "34554sudh 45345fgf sgsd sdfg sh sghf h dhdfh df 10 Fsdfsfsd\n"
          ],
          "name": "stdout"
        }
      ]
    },
    {
      "cell_type": "code",
      "metadata": {
        "id": "iV_sGFABRai7"
      },
      "source": [
        "a = 45\n",
        "b = \"sudh \""
      ],
      "execution_count": null,
      "outputs": []
    },
    {
      "cell_type": "code",
      "metadata": {
        "id": "Aq4LGuBvRai7"
      },
      "source": [
        "a, b  , s = 45 , \"sudh\" , \"this is my name \""
      ],
      "execution_count": null,
      "outputs": []
    },
    {
      "cell_type": "code",
      "metadata": {
        "id": "onE6E6XdRai7",
        "outputId": "4692eda7-3288-4f1e-90f4-7b1bc3258caa"
      },
      "source": [
        "a "
      ],
      "execution_count": null,
      "outputs": [
        {
          "output_type": "execute_result",
          "data": {
            "text/plain": [
              "45"
            ]
          },
          "metadata": {
            "tags": []
          },
          "execution_count": 37
        }
      ]
    },
    {
      "cell_type": "code",
      "metadata": {
        "id": "PV8KEa2eRai8",
        "outputId": "7e066c1f-38d4-4031-853a-3d80a5fda99c"
      },
      "source": [
        "b"
      ],
      "execution_count": null,
      "outputs": [
        {
          "output_type": "execute_result",
          "data": {
            "text/plain": [
              "'sudh'"
            ]
          },
          "metadata": {
            "tags": []
          },
          "execution_count": 38
        }
      ]
    },
    {
      "cell_type": "code",
      "metadata": {
        "id": "l34VoV2QRai8",
        "outputId": "348082c6-9fb4-4b38-9997-33399960fa55"
      },
      "source": [
        "s "
      ],
      "execution_count": null,
      "outputs": [
        {
          "output_type": "execute_result",
          "data": {
            "text/plain": [
              "'this is my name '"
            ]
          },
          "metadata": {
            "tags": []
          },
          "execution_count": 39
        }
      ]
    },
    {
      "cell_type": "code",
      "metadata": {
        "id": "Fuu_btz4Rai9",
        "outputId": "fa206b58-2eed-417b-dcbe-c60cba6ba03c"
      },
      "source": [
        "type(b)"
      ],
      "execution_count": null,
      "outputs": [
        {
          "output_type": "execute_result",
          "data": {
            "text/plain": [
              "str"
            ]
          },
          "metadata": {
            "tags": []
          },
          "execution_count": 40
        }
      ]
    },
    {
      "cell_type": "code",
      "metadata": {
        "id": "EiKupfNlRai9",
        "outputId": "a8f4dfce-9965-47b6-e870-73552ecd1db8"
      },
      "source": [
        "type(s)"
      ],
      "execution_count": null,
      "outputs": [
        {
          "output_type": "execute_result",
          "data": {
            "text/plain": [
              "str"
            ]
          },
          "metadata": {
            "tags": []
          },
          "execution_count": 42
        }
      ]
    },
    {
      "cell_type": "code",
      "metadata": {
        "id": "wmXPy_Z7Rai9",
        "outputId": "b02e14ab-dbae-47a5-cb51-3a536b4fc985"
      },
      "source": [
        "type(a)"
      ],
      "execution_count": null,
      "outputs": [
        {
          "output_type": "execute_result",
          "data": {
            "text/plain": [
              "int"
            ]
          },
          "metadata": {
            "tags": []
          },
          "execution_count": 43
        }
      ]
    },
    {
      "cell_type": "code",
      "metadata": {
        "id": "cYRSvzmmRai9",
        "outputId": "5e9e2cde-856b-4eb0-ee86-b60f054e91b1"
      },
      "source": [
        "print(a,b,s)"
      ],
      "execution_count": null,
      "outputs": [
        {
          "output_type": "stream",
          "text": [
            "45 sudh this is my name \n"
          ],
          "name": "stdout"
        }
      ]
    },
    {
      "cell_type": "code",
      "metadata": {
        "id": "aBkyFQfIRai-"
      },
      "source": [
        "b  = '\"fsdf\"'"
      ],
      "execution_count": null,
      "outputs": []
    },
    {
      "cell_type": "code",
      "metadata": {
        "id": "Bji7HzjuRai-",
        "outputId": "701c1132-15dd-468f-ada3-747472398c1d"
      },
      "source": [
        "b "
      ],
      "execution_count": null,
      "outputs": [
        {
          "output_type": "execute_result",
          "data": {
            "text/plain": [
              "'\"fsdf\"'"
            ]
          },
          "metadata": {
            "tags": []
          },
          "execution_count": 48
        }
      ]
    },
    {
      "cell_type": "code",
      "metadata": {
        "id": "sImSDp6pRai-",
        "outputId": "157d1b8d-0a2e-48ae-950c-0b9d02632b4f"
      },
      "source": [
        "1b = \"fsfsd\""
      ],
      "execution_count": null,
      "outputs": [
        {
          "output_type": "error",
          "ename": "SyntaxError",
          "evalue": "invalid syntax (<ipython-input-49-e3f34da01b3c>, line 1)",
          "traceback": [
            "\u001b[1;36m  File \u001b[1;32m\"<ipython-input-49-e3f34da01b3c>\"\u001b[1;36m, line \u001b[1;32m1\u001b[0m\n\u001b[1;33m    1b = \"fsfsd\"\u001b[0m\n\u001b[1;37m     ^\u001b[0m\n\u001b[1;31mSyntaxError\u001b[0m\u001b[1;31m:\u001b[0m invalid syntax\n"
          ]
        }
      ]
    },
    {
      "cell_type": "code",
      "metadata": {
        "id": "IIKtS59DRai-"
      },
      "source": [
        "B = \"fsdf\""
      ],
      "execution_count": null,
      "outputs": []
    },
    {
      "cell_type": "code",
      "metadata": {
        "id": "ynO5sxjRRai_",
        "outputId": "fd1402bf-7d75-4499-cf38-ad16dc3c6120"
      },
      "source": [
        "B"
      ],
      "execution_count": null,
      "outputs": [
        {
          "output_type": "execute_result",
          "data": {
            "text/plain": [
              "'fsdf'"
            ]
          },
          "metadata": {
            "tags": []
          },
          "execution_count": 51
        }
      ]
    },
    {
      "cell_type": "code",
      "metadata": {
        "id": "Rx6WktHsRai_"
      },
      "source": [
        "b = \"fsfsd\""
      ],
      "execution_count": null,
      "outputs": []
    },
    {
      "cell_type": "code",
      "metadata": {
        "id": "lbJxl3hgRai_",
        "outputId": "f42ebe13-99f0-4d21-8f5f-97364e0d1a03"
      },
      "source": [
        "2b = \"sdfs\""
      ],
      "execution_count": null,
      "outputs": [
        {
          "output_type": "error",
          "ename": "SyntaxError",
          "evalue": "invalid syntax (<ipython-input-53-15e8dfce1214>, line 1)",
          "traceback": [
            "\u001b[1;36m  File \u001b[1;32m\"<ipython-input-53-15e8dfce1214>\"\u001b[1;36m, line \u001b[1;32m1\u001b[0m\n\u001b[1;33m    2b = \"sdfs\"\u001b[0m\n\u001b[1;37m     ^\u001b[0m\n\u001b[1;31mSyntaxError\u001b[0m\u001b[1;31m:\u001b[0m invalid syntax\n"
          ]
        }
      ]
    },
    {
      "cell_type": "code",
      "metadata": {
        "id": "Nhg42WzoRai_"
      },
      "source": [
        "_b = 234534"
      ],
      "execution_count": null,
      "outputs": []
    },
    {
      "cell_type": "code",
      "metadata": {
        "id": "ivWV7zi_Rai_",
        "outputId": "d4c81d3a-a848-4d7f-f775-ffa64c77899d"
      },
      "source": [
        "_b"
      ],
      "execution_count": null,
      "outputs": [
        {
          "output_type": "execute_result",
          "data": {
            "text/plain": [
              "234534"
            ]
          },
          "metadata": {
            "tags": []
          },
          "execution_count": 58
        }
      ]
    },
    {
      "cell_type": "code",
      "metadata": {
        "id": "6IMhqZcERajA",
        "outputId": "9927653a-acaa-43e3-801a-a10e597de23e"
      },
      "source": [
        "b& = \"fsds\""
      ],
      "execution_count": null,
      "outputs": [
        {
          "output_type": "error",
          "ename": "SyntaxError",
          "evalue": "invalid syntax (<ipython-input-59-0f0b1b1ea588>, line 1)",
          "traceback": [
            "\u001b[1;36m  File \u001b[1;32m\"<ipython-input-59-0f0b1b1ea588>\"\u001b[1;36m, line \u001b[1;32m1\u001b[0m\n\u001b[1;33m    b& = \"fsds\"\u001b[0m\n\u001b[1;37m       ^\u001b[0m\n\u001b[1;31mSyntaxError\u001b[0m\u001b[1;31m:\u001b[0m invalid syntax\n"
          ]
        }
      ]
    },
    {
      "cell_type": "code",
      "metadata": {
        "id": "0V2m3ZnDRajA"
      },
      "source": [
        "name = \"sudh\"\n",
        "userid = \"IN001\"\n",
        "password = \"fsfsfsd\"\n",
        "mail = \"sudhans@ienru.ai\""
      ],
      "execution_count": null,
      "outputs": []
    },
    {
      "cell_type": "code",
      "metadata": {
        "id": "RaD4kc4JRajA"
      },
      "source": [
        "a = 1.6423424242243434234234"
      ],
      "execution_count": null,
      "outputs": []
    },
    {
      "cell_type": "code",
      "metadata": {
        "id": "iDLbyS1oRajB",
        "outputId": "e1bff735-1ac6-4a17-c185-9700622b00c9"
      },
      "source": [
        "type(a )"
      ],
      "execution_count": null,
      "outputs": [
        {
          "output_type": "execute_result",
          "data": {
            "text/plain": [
              "float"
            ]
          },
          "metadata": {
            "tags": []
          },
          "execution_count": 64
        }
      ]
    },
    {
      "cell_type": "code",
      "metadata": {
        "id": "orbo0_MVRajC"
      },
      "source": [
        "b = True \n",
        "c = False "
      ],
      "execution_count": null,
      "outputs": []
    },
    {
      "cell_type": "code",
      "metadata": {
        "id": "VJcWtwWpRajC",
        "outputId": "e54de966-afea-4022-ebc3-ce59d61e4724"
      },
      "source": [
        "type(b)"
      ],
      "execution_count": null,
      "outputs": [
        {
          "output_type": "execute_result",
          "data": {
            "text/plain": [
              "bool"
            ]
          },
          "metadata": {
            "tags": []
          },
          "execution_count": 66
        }
      ]
    },
    {
      "cell_type": "code",
      "metadata": {
        "id": "v6zlv86ORajC",
        "outputId": "b37de49f-0fc8-48d1-8089-d73392081c85"
      },
      "source": [
        "type(c)"
      ],
      "execution_count": null,
      "outputs": [
        {
          "output_type": "execute_result",
          "data": {
            "text/plain": [
              "bool"
            ]
          },
          "metadata": {
            "tags": []
          },
          "execution_count": 68
        }
      ]
    },
    {
      "cell_type": "code",
      "metadata": {
        "id": "kQUaX-1kRajC",
        "outputId": "eb0e7ae8-76de-441d-f2f5-3f41a9228ec7"
      },
      "source": [
        "print(True + True + True + False + True  )\n",
        "print(False - True+ True ) "
      ],
      "execution_count": null,
      "outputs": [
        {
          "output_type": "stream",
          "text": [
            "4\n",
            "0\n"
          ],
          "name": "stdout"
        }
      ]
    },
    {
      "cell_type": "code",
      "metadata": {
        "id": "w7VXIOG1RajC",
        "outputId": "4e71c710-bf4f-4217-99d6-2cfa802f4754"
      },
      "source": [
        "True + True -False"
      ],
      "execution_count": null,
      "outputs": [
        {
          "output_type": "execute_result",
          "data": {
            "text/plain": [
              "2"
            ]
          },
          "metadata": {
            "tags": []
          },
          "execution_count": 73
        }
      ]
    },
    {
      "cell_type": "code",
      "metadata": {
        "id": "lygkBIfARajD",
        "outputId": "c7a53c99-709c-40b0-c0f0-3a70089411ee"
      },
      "source": [
        "True / False"
      ],
      "execution_count": null,
      "outputs": [
        {
          "output_type": "error",
          "ename": "ZeroDivisionError",
          "evalue": "division by zero",
          "traceback": [
            "\u001b[1;31m---------------------------------------------------------------------------\u001b[0m",
            "\u001b[1;31mZeroDivisionError\u001b[0m                         Traceback (most recent call last)",
            "\u001b[1;32m<ipython-input-75-f8487d9d0863>\u001b[0m in \u001b[0;36m<module>\u001b[1;34m\u001b[0m\n\u001b[1;32m----> 1\u001b[1;33m \u001b[1;32mTrue\u001b[0m \u001b[1;33m/\u001b[0m \u001b[1;32mFalse\u001b[0m\u001b[1;33m\u001b[0m\u001b[1;33m\u001b[0m\u001b[0m\n\u001b[0m",
            "\u001b[1;31mZeroDivisionError\u001b[0m: division by zero"
          ]
        }
      ]
    },
    {
      "cell_type": "code",
      "metadata": {
        "id": "Vj4W_xrFRajD"
      },
      "source": [
        "n  = 45 + 6j\n",
        "m = 56 + 8j"
      ],
      "execution_count": null,
      "outputs": []
    },
    {
      "cell_type": "code",
      "metadata": {
        "id": "FTxaOOfdRajD",
        "outputId": "57ae4b25-ec2f-4889-92b3-5e56803debad"
      },
      "source": [
        "type(m)"
      ],
      "execution_count": null,
      "outputs": [
        {
          "output_type": "execute_result",
          "data": {
            "text/plain": [
              "complex"
            ]
          },
          "metadata": {
            "tags": []
          },
          "execution_count": 89
        }
      ]
    },
    {
      "cell_type": "code",
      "metadata": {
        "id": "KszoEMpGRajD",
        "outputId": "dfb71a45-30b7-4770-e094-4b881e1214a1"
      },
      "source": [
        "n* m"
      ],
      "execution_count": null,
      "outputs": [
        {
          "output_type": "execute_result",
          "data": {
            "text/plain": [
              "(2472+696j)"
            ]
          },
          "metadata": {
            "tags": []
          },
          "execution_count": 87
        }
      ]
    },
    {
      "cell_type": "code",
      "metadata": {
        "id": "Msj1iDpbRajE",
        "outputId": "fe986f9f-9b72-463a-87b3-bde3ba796256"
      },
      "source": [
        "n.real"
      ],
      "execution_count": null,
      "outputs": [
        {
          "output_type": "execute_result",
          "data": {
            "text/plain": [
              "45.0"
            ]
          },
          "metadata": {
            "tags": []
          },
          "execution_count": 80
        }
      ]
    },
    {
      "cell_type": "code",
      "metadata": {
        "id": "1L0keom7RajE",
        "outputId": "574eef3f-ec20-4262-d0fd-ecade18354f8"
      },
      "source": [
        "n.imag"
      ],
      "execution_count": null,
      "outputs": [
        {
          "output_type": "execute_result",
          "data": {
            "text/plain": [
              "6.0"
            ]
          },
          "metadata": {
            "tags": []
          },
          "execution_count": 81
        }
      ]
    },
    {
      "cell_type": "code",
      "metadata": {
        "id": "tYVmCuTaRajE",
        "outputId": "5361a0cb-c6d8-47e2-82dd-909b04fdbaf3"
      },
      "source": [
        "b = \"sdf\"\n",
        "type(b)"
      ],
      "execution_count": null,
      "outputs": [
        {
          "output_type": "execute_result",
          "data": {
            "text/plain": [
              "str"
            ]
          },
          "metadata": {
            "tags": []
          },
          "execution_count": 88
        }
      ]
    },
    {
      "cell_type": "code",
      "metadata": {
        "id": "XynyirzKRajE",
        "outputId": "d3a779a9-b4e6-4fe3-b370-d332b0e9344c"
      },
      "source": [
        "\"1\"+ \"sudh\""
      ],
      "execution_count": null,
      "outputs": [
        {
          "output_type": "execute_result",
          "data": {
            "text/plain": [
              "'1sudh'"
            ]
          },
          "metadata": {
            "tags": []
          },
          "execution_count": 94
        }
      ]
    },
    {
      "cell_type": "code",
      "metadata": {
        "id": "DcTW2qODRajF",
        "outputId": "aa75bf67-e8ab-4e14-96b8-0d7f542fef3a"
      },
      "source": [
        "1+ 1.0"
      ],
      "execution_count": null,
      "outputs": [
        {
          "output_type": "execute_result",
          "data": {
            "text/plain": [
              "2.0"
            ]
          },
          "metadata": {
            "tags": []
          },
          "execution_count": 96
        }
      ]
    },
    {
      "cell_type": "code",
      "metadata": {
        "id": "drnL13ZWRajF",
        "outputId": "300137f3-eb70-4179-c7f0-9bdb89c360c7"
      },
      "source": [
        "\"sudh\" + \"sudh\" + \"sudh\""
      ],
      "execution_count": null,
      "outputs": [
        {
          "output_type": "execute_result",
          "data": {
            "text/plain": [
              "'sudhsudhsudh'"
            ]
          },
          "metadata": {
            "tags": []
          },
          "execution_count": 97
        }
      ]
    },
    {
      "cell_type": "code",
      "metadata": {
        "id": "Nn9kto8kRajF",
        "outputId": "8ac8b643-5515-4028-fbe1-dcfe6cb84e24"
      },
      "source": [
        "\"sudh\" * 3"
      ],
      "execution_count": null,
      "outputs": [
        {
          "output_type": "execute_result",
          "data": {
            "text/plain": [
              "'sudhsudhsudh'"
            ]
          },
          "metadata": {
            "tags": []
          },
          "execution_count": 100
        }
      ]
    },
    {
      "cell_type": "code",
      "metadata": {
        "id": "7z63FWsCRajF",
        "outputId": "c42605ae-f5ce-464d-ab8a-f17732c5eeae"
      },
      "source": [
        "int('23')"
      ],
      "execution_count": null,
      "outputs": [
        {
          "output_type": "execute_result",
          "data": {
            "text/plain": [
              "23"
            ]
          },
          "metadata": {
            "tags": []
          },
          "execution_count": 102
        }
      ]
    },
    {
      "cell_type": "code",
      "metadata": {
        "id": "vvPApSQARajF",
        "outputId": "86096191-76a1-4e8b-9560-87772835b0dd"
      },
      "source": [
        "int(\"2354dfsdfs\")"
      ],
      "execution_count": null,
      "outputs": [
        {
          "output_type": "error",
          "ename": "ValueError",
          "evalue": "invalid literal for int() with base 10: '2354dfsdfs'",
          "traceback": [
            "\u001b[1;31m---------------------------------------------------------------------------\u001b[0m",
            "\u001b[1;31mValueError\u001b[0m                                Traceback (most recent call last)",
            "\u001b[1;32m<ipython-input-104-726447aa2631>\u001b[0m in \u001b[0;36m<module>\u001b[1;34m\u001b[0m\n\u001b[1;32m----> 1\u001b[1;33m \u001b[0mint\u001b[0m\u001b[1;33m(\u001b[0m\u001b[1;34m\"2354dfsdfs\"\u001b[0m\u001b[1;33m)\u001b[0m\u001b[1;33m\u001b[0m\u001b[1;33m\u001b[0m\u001b[0m\n\u001b[0m",
            "\u001b[1;31mValueError\u001b[0m: invalid literal for int() with base 10: '2354dfsdfs'"
          ]
        }
      ]
    },
    {
      "cell_type": "code",
      "metadata": {
        "id": "udmMI7tURajG"
      },
      "source": [
        "a = 10 "
      ],
      "execution_count": null,
      "outputs": []
    },
    {
      "cell_type": "code",
      "metadata": {
        "id": "WxkdrLK5RajG",
        "outputId": "fbfabab6-e1d0-473d-8bdc-65f2328d0431"
      },
      "source": [
        "a = input(\"enter a interger \")"
      ],
      "execution_count": null,
      "outputs": [
        {
          "output_type": "stream",
          "text": [
            "enter a interger 242344232\n"
          ],
          "name": "stdout"
        }
      ]
    },
    {
      "cell_type": "code",
      "metadata": {
        "id": "aH2lMSqURajG",
        "outputId": "0a55bc06-50cc-4730-ea8c-b61e63d6909a"
      },
      "source": [
        "type(a)"
      ],
      "execution_count": null,
      "outputs": [
        {
          "output_type": "execute_result",
          "data": {
            "text/plain": [
              "str"
            ]
          },
          "metadata": {
            "tags": []
          },
          "execution_count": 113
        }
      ]
    },
    {
      "cell_type": "code",
      "metadata": {
        "id": "FYYu3z3TRajG",
        "outputId": "3d8426bb-8457-46b3-d703-faaa39920c9b"
      },
      "source": [
        "a = int(input(\"this is my var a \"))\n",
        "b = int(input(\"this is my var b \"))\n",
        "c = int(input(\"this is my var c \"))\n",
        "o = a+b/c\n",
        "o1 = o + 78 + 6j\n",
        "str(o1) + \"sudh\""
      ],
      "execution_count": null,
      "outputs": [
        {
          "output_type": "stream",
          "text": [
            "this is my var a 45\n",
            "this is my var b 454\n",
            "this is my var c 454\n"
          ],
          "name": "stdout"
        },
        {
          "output_type": "execute_result",
          "data": {
            "text/plain": [
              "'(124+6j)sudh'"
            ]
          },
          "metadata": {
            "tags": []
          },
          "execution_count": 131
        }
      ]
    },
    {
      "cell_type": "code",
      "metadata": {
        "id": "-q6uVsuKRajH"
      },
      "source": [
        "o = a+b/c\n",
        "o1 = o + 78 + 6j"
      ],
      "execution_count": null,
      "outputs": []
    },
    {
      "cell_type": "code",
      "metadata": {
        "id": "DdBWymbERajH",
        "outputId": "01c4dab4-a927-4a5e-bf25-12a4a7d2d2e3"
      },
      "source": [
        "o1"
      ],
      "execution_count": null,
      "outputs": [
        {
          "output_type": "execute_result",
          "data": {
            "text/plain": [
              "(124.64705882352942+6j)"
            ]
          },
          "metadata": {
            "tags": []
          },
          "execution_count": 130
        }
      ]
    },
    {
      "cell_type": "code",
      "metadata": {
        "id": "nSvqf_ZwRajH",
        "outputId": "71a6a1bd-e616-4c46-a820-1769f82d639a"
      },
      "source": [
        "str(o1) + \"sudh\""
      ],
      "execution_count": null,
      "outputs": [
        {
          "output_type": "execute_result",
          "data": {
            "text/plain": [
              "'(124.64705882352942+6j)sudh'"
            ]
          },
          "metadata": {
            "tags": []
          },
          "execution_count": 129
        }
      ]
    },
    {
      "cell_type": "code",
      "metadata": {
        "id": "cpIi5fZ9RajH",
        "outputId": "c0bb279d-beb3-4d6b-e118-ba03588dfc60"
      },
      "source": [
        "a = int(input(\"input a number lesser then 34 -- \"))"
      ],
      "execution_count": null,
      "outputs": [
        {
          "output_type": "stream",
          "text": [
            "input a number lesser then 34 -- 56\n"
          ],
          "name": "stdout"
        }
      ]
    },
    {
      "cell_type": "code",
      "metadata": {
        "id": "FlyBbOSFRajH"
      },
      "source": [
        "if a <34 :\n",
        "    pass"
      ],
      "execution_count": null,
      "outputs": []
    },
    {
      "cell_type": "code",
      "metadata": {
        "id": "Qd6q6KIpRajI",
        "outputId": "3d06d880-f1dc-43aa-9c69-969c1ee44212"
      },
      "source": [
        "a = int(input(\"input a number\"))\n",
        "if a <34:\n",
        "    print(\"data input is lesser then 34 and i am fine with it \")\n",
        "elif a < 100:\n",
        "    print(\" my data is lesser then 100\")\n",
        "    \n",
        "else:\n",
        "    print ( \"user input is not lesser then 34\")"
      ],
      "execution_count": null,
      "outputs": [
        {
          "output_type": "stream",
          "text": [
            "input a number78\n",
            " my data is lesser then 100\n"
          ],
          "name": "stdout"
        }
      ]
    },
    {
      "cell_type": "code",
      "metadata": {
        "id": "ezgp76pCRajI",
        "outputId": "8450ec0e-6d0d-4023-d8a9-e639c19db89d"
      },
      "source": [
        "salary = int(input(\"enter your salary\"))\n",
        "if( salary > 1000):\n",
        "    print(\"you salary is good\")\n",
        "    if salary > 5000:\n",
        "        print(\"i will go with a card nano\")\n",
        "        if True:\n",
        "            print(\"false code\")\n",
        "    elif salary >10000:\n",
        "        print(\"i will go with maruti\")\n",
        "    elif salary > 50000:\n",
        "        print(\"i wil go with toyota\")\n",
        "    else :\n",
        "        print(\"i will rent a car \")\n",
        "elif salary > 500:\n",
        "    print(\" i will go for bike \")\n",
        "elif salary> 100:\n",
        "    print(\"i will not buy anyting\")\n",
        "else :\n",
        "    print(\"i will go for savinig \")"
      ],
      "execution_count": null,
      "outputs": [
        {
          "output_type": "stream",
          "text": [
            "enter your salary10056\n",
            "you salary is good\n",
            "i will go with a card nano\n",
            "false code\n"
          ],
          "name": "stdout"
        }
      ]
    },
    {
      "cell_type": "code",
      "metadata": {
        "id": "7ezuKPXuRajI",
        "outputId": "cb444812-ae8a-455d-efcd-c219edd922aa"
      },
      "source": [
        "salary > 5000"
      ],
      "execution_count": null,
      "outputs": [
        {
          "output_type": "execute_result",
          "data": {
            "text/plain": [
              "True"
            ]
          },
          "metadata": {
            "tags": []
          },
          "execution_count": 156
        }
      ]
    },
    {
      "cell_type": "code",
      "metadata": {
        "id": "a4BYhtt3RajI"
      },
      "source": [
        "void test(int i , float j ){\n",
        "    \n",
        "}"
      ],
      "execution_count": null,
      "outputs": []
    },
    {
      "cell_type": "code",
      "metadata": {
        "id": "8kqxrLeLRajJ"
      },
      "source": [
        "name = \"sudh\"\n",
        "test = \"dfsfsf\""
      ],
      "execution_count": null,
      "outputs": []
    },
    {
      "cell_type": "code",
      "metadata": {
        "id": "-SjewyOCRajJ"
      },
      "source": [
        "def test(name = str  , test = int):\n",
        "    name = \"fsfds\"\n",
        "    test= \"fsdfs\"\n",
        "    print(name, test)"
      ],
      "execution_count": null,
      "outputs": []
    },
    {
      "cell_type": "code",
      "metadata": {
        "id": "dYWshZ3KRajJ",
        "outputId": "90050ec7-99e0-4b2e-f37d-b370f180edda"
      },
      "source": [
        "test()"
      ],
      "execution_count": null,
      "outputs": [
        {
          "output_type": "stream",
          "text": [
            "fsfds fsdfs\n"
          ],
          "name": "stdout"
        }
      ]
    },
    {
      "cell_type": "code",
      "metadata": {
        "id": "mVyjKlSCRajK"
      },
      "source": [
        "def test1(name , id1):\n",
        "    \n",
        "    print(test(),name , id1)\n",
        "    "
      ],
      "execution_count": null,
      "outputs": []
    },
    {
      "cell_type": "code",
      "metadata": {
        "id": "gtzn-aIrRajL",
        "outputId": "d9fe9545-5b41-4a88-c873-34fb78032046"
      },
      "source": [
        "test1(\"Sds\",\"ds\")"
      ],
      "execution_count": null,
      "outputs": [
        {
          "output_type": "stream",
          "text": [
            "dasas Sds ds\n"
          ],
          "name": "stdout"
        }
      ]
    },
    {
      "cell_type": "code",
      "metadata": {
        "id": "VDu19GJtRajL"
      },
      "source": [
        "def test():\n",
        "        return \"dasas\""
      ],
      "execution_count": null,
      "outputs": []
    },
    {
      "cell_type": "code",
      "metadata": {
        "id": "o3ez2ESnRajL"
      },
      "source": [
        ""
      ],
      "execution_count": null,
      "outputs": []
    }
  ]
}