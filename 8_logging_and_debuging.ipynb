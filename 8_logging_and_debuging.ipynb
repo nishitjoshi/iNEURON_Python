{
  "nbformat": 4,
  "nbformat_minor": 0,
  "metadata": {
    "kernelspec": {
      "display_name": "Python 3",
      "language": "python",
      "name": "python3"
    },
    "language_info": {
      "codemirror_mode": {
        "name": "ipython",
        "version": 3
      },
      "file_extension": ".py",
      "mimetype": "text/x-python",
      "name": "python",
      "nbconvert_exporter": "python",
      "pygments_lexer": "ipython3",
      "version": "3.8.3"
    },
    "colab": {
      "name": "logging and debuging.ipynb",
      "provenance": [],
      "include_colab_link": true
    }
  },
  "cells": [
    {
      "cell_type": "markdown",
      "metadata": {
        "id": "view-in-github",
        "colab_type": "text"
      },
      "source": [
        "<a href=\"https://colab.research.google.com/github/nishitjoshi/iNEURON_Python/blob/main/8_logging_and_debuging.ipynb\" target=\"_parent\"><img src=\"https://colab.research.google.com/assets/colab-badge.svg\" alt=\"Open In Colab\"/></a>"
      ]
    },
    {
      "cell_type": "code",
      "metadata": {
        "id": "QDvSsA7hV-12"
      },
      "source": [
        "import logging as lg"
      ],
      "execution_count": null,
      "outputs": []
    },
    {
      "cell_type": "code",
      "metadata": {
        "id": "HC7ApQ2qV-14"
      },
      "source": [
        "import os"
      ],
      "execution_count": null,
      "outputs": []
    },
    {
      "cell_type": "code",
      "metadata": {
        "id": "KOAABdZBV-15",
        "outputId": "fe4b239d-83d0-4386-dace-158cdf85b103"
      },
      "source": [
        "os.mkdir(\"logging\")"
      ],
      "execution_count": null,
      "outputs": [
        {
          "output_type": "error",
          "ename": "FileExistsError",
          "evalue": "[WinError 183] Cannot create a file when that file already exists: 'logging'",
          "traceback": [
            "\u001b[1;31m---------------------------------------------------------------------------\u001b[0m",
            "\u001b[1;31mFileExistsError\u001b[0m                           Traceback (most recent call last)",
            "\u001b[1;32m<ipython-input-3-9cfa7fb3f788>\u001b[0m in \u001b[0;36m<module>\u001b[1;34m\u001b[0m\n\u001b[1;32m----> 1\u001b[1;33m \u001b[0mos\u001b[0m\u001b[1;33m.\u001b[0m\u001b[0mmkdir\u001b[0m\u001b[1;33m(\u001b[0m\u001b[1;34m\"logging\"\u001b[0m\u001b[1;33m)\u001b[0m\u001b[1;33m\u001b[0m\u001b[1;33m\u001b[0m\u001b[0m\n\u001b[0m",
            "\u001b[1;31mFileExistsError\u001b[0m: [WinError 183] Cannot create a file when that file already exists: 'logging'"
          ]
        }
      ]
    },
    {
      "cell_type": "code",
      "metadata": {
        "id": "Nj_EHKQnV-15"
      },
      "source": [
        "os.chdir(os.getcwd() + \"/\" + \"logging\")"
      ],
      "execution_count": null,
      "outputs": []
    },
    {
      "cell_type": "code",
      "metadata": {
        "id": "xRD_-2v1V-16",
        "outputId": "675ab80d-f069-4a18-ac62-e20e1849ab17"
      },
      "source": [
        "pwd()"
      ],
      "execution_count": null,
      "outputs": [
        {
          "output_type": "execute_result",
          "data": {
            "text/plain": [
              "'E:\\\\Downloads\\\\logging'"
            ]
          },
          "metadata": {
            "tags": []
          },
          "execution_count": 5
        }
      ]
    },
    {
      "cell_type": "code",
      "metadata": {
        "id": "UEYUxCpsV-16"
      },
      "source": [
        "lg.basicConfig(filename='E:\\\\Downloads\\\\logging\\\\logging\\\\test.log' , level = lg.ERROR , format  = '%(asctime)s %(message)s')"
      ],
      "execution_count": null,
      "outputs": []
    },
    {
      "cell_type": "code",
      "metadata": {
        "id": "yyF4wYF9V-16"
      },
      "source": [
        "lg.info(\" i am going to start my program\")"
      ],
      "execution_count": null,
      "outputs": []
    },
    {
      "cell_type": "code",
      "metadata": {
        "id": "3rRAaSlmV-17"
      },
      "source": [
        "lg.warning(\"this is a first warning of my program so modify it \")"
      ],
      "execution_count": null,
      "outputs": []
    },
    {
      "cell_type": "code",
      "metadata": {
        "id": "XSb_suqJV-17"
      },
      "source": [
        "lg.error(\"this is msg for error\")"
      ],
      "execution_count": null,
      "outputs": []
    },
    {
      "cell_type": "code",
      "metadata": {
        "id": "Z0T-5McbV-17",
        "outputId": "e3d8d6b8-97db-434f-b5d2-4cdeb74f1f4c"
      },
      "source": [
        "\"sdfsfds\" + 345"
      ],
      "execution_count": null,
      "outputs": [
        {
          "output_type": "error",
          "ename": "TypeError",
          "evalue": "can only concatenate str (not \"int\") to str",
          "traceback": [
            "\u001b[1;31m---------------------------------------------------------------------------\u001b[0m",
            "\u001b[1;31mTypeError\u001b[0m                                 Traceback (most recent call last)",
            "\u001b[1;32m<ipython-input-16-ec7735be4092>\u001b[0m in \u001b[0;36m<module>\u001b[1;34m\u001b[0m\n\u001b[1;32m----> 1\u001b[1;33m \u001b[1;34m\"sdfsfds\"\u001b[0m \u001b[1;33m+\u001b[0m \u001b[1;36m345\u001b[0m\u001b[1;33m\u001b[0m\u001b[1;33m\u001b[0m\u001b[0m\n\u001b[0m",
            "\u001b[1;31mTypeError\u001b[0m: can only concatenate str (not \"int\") to str"
          ]
        }
      ]
    },
    {
      "cell_type": "code",
      "metadata": {
        "id": "MJiuwhTOV-18"
      },
      "source": [
        "def test(a,b):\n",
        "    \n",
        "    try :\n",
        "        lg.info(str(a)+str(b))\n",
        "        div = a/b\n",
        "        return div\n",
        "    except Exception as e :\n",
        "        print(\"you can check you log for more into if your code will fail \")\n",
        "        lg.error(\"error has occured \")\n",
        "        lg.exception(str(e))"
      ],
      "execution_count": null,
      "outputs": []
    },
    {
      "cell_type": "code",
      "metadata": {
        "id": "ktuBpf3ZV-18",
        "outputId": "cde0dd3f-8aba-4feb-85a3-824356e8835c"
      },
      "source": [
        "test(4,0)"
      ],
      "execution_count": null,
      "outputs": [
        {
          "output_type": "stream",
          "text": [
            "you can check you log for more into if your code will fail \n"
          ],
          "name": "stdout"
        }
      ]
    },
    {
      "cell_type": "code",
      "metadata": {
        "id": "QyKxbtwkV-19"
      },
      "source": [
        "import logging\n",
        "logging.basicConfig(filename='E:\\\\Downloads\\\\logging\\\\logging\\\\test1.log',level = logging.INFO)\n",
        "def test(a,b):\n",
        "    logging.info(\"this is a start of funciotn \")\n",
        "    return a+b"
      ],
      "execution_count": null,
      "outputs": []
    },
    {
      "cell_type": "code",
      "metadata": {
        "id": "AbbvNgCWV-19",
        "outputId": "b3a3d977-bac2-4e06-9a82-0154bf39d00d"
      },
      "source": [
        "test(5,6)"
      ],
      "execution_count": null,
      "outputs": [
        {
          "output_type": "execute_result",
          "data": {
            "text/plain": [
              "11"
            ]
          },
          "metadata": {
            "tags": []
          },
          "execution_count": 2
        }
      ]
    },
    {
      "cell_type": "code",
      "metadata": {
        "id": "yXTjNuJOV-19",
        "outputId": "7fbd02d8-7816-47ca-d4de-1141a6c2ee7d"
      },
      "source": [
        "test(5,6)"
      ],
      "execution_count": null,
      "outputs": [
        {
          "output_type": "execute_result",
          "data": {
            "text/plain": [
              "11"
            ]
          },
          "metadata": {
            "tags": []
          },
          "execution_count": 3
        }
      ]
    },
    {
      "cell_type": "code",
      "metadata": {
        "id": "LjG0wsjGV-19",
        "outputId": "c33ceb27-29f7-4e8b-b4d2-cb5bce1956f5"
      },
      "source": [
        "test(5,6)"
      ],
      "execution_count": null,
      "outputs": [
        {
          "output_type": "execute_result",
          "data": {
            "text/plain": [
              "11"
            ]
          },
          "metadata": {
            "tags": []
          },
          "execution_count": 4
        }
      ]
    },
    {
      "cell_type": "code",
      "metadata": {
        "id": "B7rxYu8NV-1-",
        "outputId": "eb3c4da9-e926-455f-baaf-383ee0a21849"
      },
      "source": [
        "test(5,6)"
      ],
      "execution_count": null,
      "outputs": [
        {
          "output_type": "execute_result",
          "data": {
            "text/plain": [
              "11"
            ]
          },
          "metadata": {
            "tags": []
          },
          "execution_count": 5
        }
      ]
    },
    {
      "cell_type": "code",
      "metadata": {
        "id": "7zCruS98V-1-",
        "outputId": "f970a0c0-011e-4fb7-d368-f1f3e471e5ea"
      },
      "source": [
        "test(5,6)"
      ],
      "execution_count": null,
      "outputs": [
        {
          "output_type": "execute_result",
          "data": {
            "text/plain": [
              "11"
            ]
          },
          "metadata": {
            "tags": []
          },
          "execution_count": 6
        }
      ]
    },
    {
      "cell_type": "code",
      "metadata": {
        "id": "fystrsrkV-1-"
      },
      "source": [
        "logging.shutdown()"
      ],
      "execution_count": null,
      "outputs": []
    },
    {
      "cell_type": "code",
      "metadata": {
        "id": "QuMICk2WV-1-"
      },
      "source": [
        "import logging\n",
        "logging.basicConfig(filename='E:\\\\Downloads\\\\logging\\\\logging\\\\test2.log',level = logging.INFO)\n",
        "logging.debug(\"this is for debugging\")\n",
        "logging.info(\"this is info log\")\n",
        "logging.warning(\"this is my warning log\")\n",
        "logging.error(\"this is my error log\")\n",
        "logging.exception(\"this is my exception log\")\n",
        "logging.critical(\"this is my critical log \")"
      ],
      "execution_count": null,
      "outputs": []
    },
    {
      "cell_type": "code",
      "metadata": {
        "id": "qV8g-KrTV-1_",
        "outputId": "50c02aae-8342-45bd-987e-a7ca25651075"
      },
      "source": [
        "pwd()"
      ],
      "execution_count": null,
      "outputs": [
        {
          "output_type": "execute_result",
          "data": {
            "text/plain": [
              "'E:\\\\Downloads'"
            ]
          },
          "metadata": {
            "tags": []
          },
          "execution_count": 18
        }
      ]
    },
    {
      "cell_type": "code",
      "metadata": {
        "id": "5SVXJUjeV-1_",
        "outputId": "dad52d6a-9a68-4454-a717-5c9fabb69e21"
      },
      "source": [
        "import logging as lg\n",
        "lg.basicConfig(filename='test1.log',level=lg.INFO)\n",
        "def addition(*args):\n",
        "   \n",
        "    lg.info(\"This is my addition function\")   \n",
        "    sum1=0\n",
        "    for i in args:\n",
        "        lg.info(str(i)) \n",
        "        sum1=sum1+i\n",
        "    return sum1\n",
        "\n",
        "\n",
        "f = open(\"test1.log\", \"r\")\n",
        "print(f.read())\n"
      ],
      "execution_count": null,
      "outputs": [
        {
          "output_type": "stream",
          "text": [
            "INFO:root:This is my addition function\n",
            "INFO:root:1\n",
            "INFO:root:2\n",
            "INFO:root:3\n",
            "INFO:root:4\n",
            "\n"
          ],
          "name": "stdout"
        }
      ]
    },
    {
      "cell_type": "code",
      "metadata": {
        "id": "lf2ydrv6V-1_",
        "outputId": "bffde9af-2f44-4091-caff-7724e0cbda82"
      },
      "source": [
        "addition(1,2,3,4)"
      ],
      "execution_count": null,
      "outputs": [
        {
          "output_type": "execute_result",
          "data": {
            "text/plain": [
              "10"
            ]
          },
          "metadata": {
            "tags": []
          },
          "execution_count": 5
        }
      ]
    },
    {
      "cell_type": "code",
      "metadata": {
        "id": "m8ddWedEV-2A",
        "outputId": "e3dc09ba-c17e-48c3-f56a-e5eb6882d881"
      },
      "source": [
        "import logging\n",
        "import os\n",
        "logging.basicConfig(filename='app.log',level=logging.INFO,format='%(asctime)s - %(message)s')\n",
        "\n",
        "def log_sum(*args):\n",
        "    logging.info('inside sum function')\n",
        "    logging.info('user inputs'+str(args))\n",
        "    return sum(args)\n",
        "\n",
        "\n",
        "log_sum(1,2,3,4,5,6,7,8,9,10)\n",
        "\n",
        "#print log file data\n",
        "if(os.path.exists('app.log')):\n",
        "    file = open('app.log','r')\n",
        "    print(file.read())\n",
        "    file.close()\n"
      ],
      "execution_count": null,
      "outputs": [
        {
          "output_type": "stream",
          "text": [
            "2021-04-04 16:37:54,392 - inside sum function\n",
            "2021-04-04 16:37:54,393 - user inputs(1, 2, 3, 4, 5, 6, 7, 8, 9, 10)\n",
            "\n"
          ],
          "name": "stdout"
        }
      ]
    },
    {
      "cell_type": "code",
      "metadata": {
        "id": "LkDCFoVeV-2A"
      },
      "source": [
        "def add_nums(*args):\n",
        "    sum_num=0\n",
        "    for num in args:\n",
        "        lg.info(\"User input-->> {}\".format(num))\n",
        "        sum_num+=num\n",
        "        lg.info(\"Sum now is-->> {}\".format(sum_num))\n",
        "    lg.info(\"Final Sum-->> {}\".format(sum_num))\n",
        "    return sum_num\n",
        "\n",
        "fp=open(\"D:\\\\ineuron FSDS\\\\class practice\\\\logging\\\\add.log\",\"r\")\n",
        "print(fp.read())\n"
      ],
      "execution_count": null,
      "outputs": []
    },
    {
      "cell_type": "code",
      "metadata": {
        "id": "gYLY9_PHV-2A",
        "outputId": "b15c4246-0b75-44dd-8ffe-51c60cdb27d3"
      },
      "source": [
        "import logging as lg1\n",
        "lg1.basicConfig(filename = 'test2.log',level = lg1.INFO,format = '%(asctime)s %(message)s')\n",
        "\n",
        "def summing():\n",
        "    lg1.info('This is start of the program')\n",
        "    s = list(map(int,input().split()))\n",
        "    lg1.info('User has entered: '+str(s))\n",
        "    lg1.info('Please check the log for more information')\n",
        "    return sum(s)\n",
        "    \n",
        "summing()\n"
      ],
      "execution_count": null,
      "outputs": [
        {
          "output_type": "stream",
          "text": [
            "4 5 6 7\n"
          ],
          "name": "stdout"
        },
        {
          "output_type": "execute_result",
          "data": {
            "text/plain": [
              "22"
            ]
          },
          "metadata": {
            "tags": []
          },
          "execution_count": 6
        }
      ]
    },
    {
      "cell_type": "code",
      "metadata": {
        "id": "hSi0p4G6V-2A",
        "outputId": "9669d0f1-303d-4173-8ed7-9928914023f2"
      },
      "source": [
        "summing()"
      ],
      "execution_count": null,
      "outputs": [
        {
          "output_type": "stream",
          "text": [
            "4 5 6 7\n"
          ],
          "name": "stdout"
        },
        {
          "output_type": "execute_result",
          "data": {
            "text/plain": [
              "22"
            ]
          },
          "metadata": {
            "tags": []
          },
          "execution_count": 4
        }
      ]
    },
    {
      "cell_type": "code",
      "metadata": {
        "id": "gS6s1wJmV-2B"
      },
      "source": [
        "import logging\n",
        "import os"
      ],
      "execution_count": null,
      "outputs": []
    },
    {
      "cell_type": "code",
      "metadata": {
        "id": "xllAkfPPV-2B",
        "outputId": "59c0d9df-31bc-4a8e-b66f-c7d57da8a738"
      },
      "source": [
        "logging.basicConfig(filename = 'app3.log' , level = logging.DEBUG , format = '%(asctime)s %(name)s %(levelname)s %(message)s',filemode ='r+')\n",
        "console_log = logging.StreamHandler()\n",
        "console_log.setLevel(logging.INFO)\n",
        "os.chmod(os.getcwd(),777)\n",
        "format  = '%(asctime)s %(name)s %(levelname)s %(message)s'\n",
        "console_log.setFormatter(format)\n",
        "logging.info(\"this is my first test code for log\")\n",
        "logging.getLogger().addHandler(console_log)\n",
        "\n",
        "logger1 = logging.getLogger('user1')\n",
        "logger2 = logging.getLogger('user2')\n",
        "logger3= logging.getLogger('user3')\n",
        "logger4= logging.getLogger('user4')\n",
        "logger1.info(\"this is info for logger one \")\n",
        "logger2.debug(\"this is a debug for logger two\")\n",
        "logger2.info(\"this is info for logger two \")"
      ],
      "execution_count": null,
      "outputs": [
        {
          "output_type": "stream",
          "text": [
            "%(asctime)s %(name)s %(levelname)s %(message)s\n",
            "%(asctime)s %(name)s %(levelname)s %(message)s\n",
            "%(asctime)s %(name)s %(levelname)s %(message)s\n",
            "%(asctime)s %(name)s %(levelname)s %(message)s\n",
            "%(asctime)s %(name)s %(levelname)s %(message)s\n",
            "%(asctime)s %(name)s %(levelname)s %(message)s\n",
            "%(asctime)s %(name)s %(levelname)s %(message)s\n",
            "%(asctime)s %(name)s %(levelname)s %(message)s\n",
            "%(asctime)s %(name)s %(levelname)s %(message)s\n",
            "%(asctime)s %(name)s %(levelname)s %(message)s\n",
            "%(asctime)s %(name)s %(levelname)s %(message)s\n",
            "%(asctime)s %(name)s %(levelname)s %(message)s\n",
            "%(asctime)s %(name)s %(levelname)s %(message)s\n",
            "%(asctime)s %(name)s %(levelname)s %(message)s\n",
            "%(asctime)s %(name)s %(levelname)s %(message)s\n",
            "%(asctime)s %(name)s %(levelname)s %(message)s\n",
            "%(asctime)s %(name)s %(levelname)s %(message)s\n"
          ],
          "name": "stderr"
        }
      ]
    },
    {
      "cell_type": "code",
      "metadata": {
        "id": "5iFIq4JMV-2B",
        "outputId": "724494fb-8e76-4762-916e-0e6ff5020853"
      },
      "source": [
        "os.getcwd()"
      ],
      "execution_count": null,
      "outputs": [
        {
          "output_type": "execute_result",
          "data": {
            "text/plain": [
              "'E:\\\\Downloads'"
            ]
          },
          "metadata": {
            "tags": []
          },
          "execution_count": 10
        }
      ]
    },
    {
      "cell_type": "code",
      "metadata": {
        "id": "hmgViPRwV-2B",
        "outputId": "295f7006-dedd-4c09-f3bd-a3704b7cd1e3"
      },
      "source": [
        "# logging_example.py\n",
        "\n",
        "import logging\n",
        "\n",
        "logging.basicConfig(filename='app1.log',level=logging.DEBUG,format = '%(name)s - %(asctime)s - %(levelname)s - %(message)s')\n",
        "\n",
        "# Create handlers\n",
        "console_log = logging.StreamHandler()\n",
        "console_log.setLevel(logging.DEBUG)\n",
        "format = logging.Formatter('%(name)s - %(asctime)s - %(levelname)s - %(message)s')\n",
        "console_log.setFormatter(format)\n",
        "# Create a custom logger\n",
        "logging.getLogger('').addHandler(console_log)\n",
        "logging.info('main log')\n",
        "logger1 = logging.getLogger('user1')\n",
        "logger2 = logging.getLogger('user2')\n",
        "logger1.info('this is from user1 info')\n",
        "logger2.debug('This is from user2 debug')\n"
      ],
      "execution_count": null,
      "outputs": [
        {
          "output_type": "stream",
          "text": [
            "%(asctime)s %(name)s %(levelname)s %(message)s\n",
            "%(asctime)s %(name)s %(levelname)s %(message)s\n",
            "%(asctime)s %(name)s %(levelname)s %(message)s\n",
            "%(asctime)s %(name)s %(levelname)s %(message)s\n",
            "%(asctime)s %(name)s %(levelname)s %(message)s\n",
            "%(asctime)s %(name)s %(levelname)s %(message)s\n",
            "root - 2021-04-04 17:27:03,887 - INFO - main log\n",
            "%(asctime)s %(name)s %(levelname)s %(message)s\n",
            "%(asctime)s %(name)s %(levelname)s %(message)s\n",
            "%(asctime)s %(name)s %(levelname)s %(message)s\n",
            "%(asctime)s %(name)s %(levelname)s %(message)s\n",
            "%(asctime)s %(name)s %(levelname)s %(message)s\n",
            "%(asctime)s %(name)s %(levelname)s %(message)s\n",
            "user1 - 2021-04-04 17:27:03,891 - INFO - this is from user1 info\n",
            "user2 - 2021-04-04 17:27:03,893 - DEBUG - This is from user2 debug\n"
          ],
          "name": "stderr"
        }
      ]
    },
    {
      "cell_type": "code",
      "metadata": {
        "id": "hEnHhDCsV-2C"
      },
      "source": [
        ""
      ],
      "execution_count": null,
      "outputs": []
    },
    {
      "cell_type": "code",
      "metadata": {
        "id": "XePRMgh5V-2C"
      },
      "source": [
        ""
      ],
      "execution_count": null,
      "outputs": []
    },
    {
      "cell_type": "code",
      "metadata": {
        "id": "qFvH2I6vV-2C",
        "outputId": "6d8e7f63-529a-4aa6-a0e9-caa9d87a1204"
      },
      "source": [
        ""
      ],
      "execution_count": null,
      "outputs": [
        {
          "output_type": "stream",
          "text": [
            "%(asctime)s %(levelname)s %(message)s\n"
          ],
          "name": "stderr"
        }
      ]
    },
    {
      "cell_type": "code",
      "metadata": {
        "id": "c0cs4rEkV-2C"
      },
      "source": [
        ""
      ],
      "execution_count": null,
      "outputs": []
    },
    {
      "cell_type": "code",
      "metadata": {
        "id": "O62YNxKzV-2C",
        "outputId": "25c231c7-8d07-4964-a6e4-26cb1628fb26"
      },
      "source": [
        ""
      ],
      "execution_count": null,
      "outputs": [
        {
          "output_type": "stream",
          "text": [
            "%(asctime)s %(levelname)s %(message)s\n",
            "%(asctime)s %(levelname)s %(message)s\n"
          ],
          "name": "stderr"
        }
      ]
    },
    {
      "cell_type": "code",
      "metadata": {
        "id": "9m4iLu3ZV-2D"
      },
      "source": [
        "def testdebug():\n",
        "    l = []\n",
        "    for i in range(10):\n",
        "        l.append(i)\n",
        "        print(\"we have appended your data in list \")\n",
        "    return l "
      ],
      "execution_count": null,
      "outputs": []
    },
    {
      "cell_type": "code",
      "metadata": {
        "id": "33Mo10keV-2D",
        "outputId": "7e0b1173-ceba-4d84-fc47-cf3fcc2147a3"
      },
      "source": [
        "testdebug()"
      ],
      "execution_count": null,
      "outputs": [
        {
          "output_type": "stream",
          "text": [
            "we have appended your data in list \n",
            "we have appended your data in list \n",
            "we have appended your data in list \n",
            "we have appended your data in list \n",
            "we have appended your data in list \n",
            "we have appended your data in list \n",
            "we have appended your data in list \n",
            "we have appended your data in list \n",
            "we have appended your data in list \n",
            "we have appended your data in list \n"
          ],
          "name": "stdout"
        },
        {
          "output_type": "execute_result",
          "data": {
            "text/plain": [
              "[0, 1, 2, 3, 4, 5, 6, 7, 8, 9]"
            ]
          },
          "metadata": {
            "tags": []
          },
          "execution_count": 15
        }
      ]
    },
    {
      "cell_type": "code",
      "metadata": {
        "id": "NELdMMg5V-2D"
      },
      "source": [
        "import ipdb\n",
        "!conda install ipdb"
      ],
      "execution_count": null,
      "outputs": []
    },
    {
      "cell_type": "code",
      "metadata": {
        "id": "3bvDQmFsV-2D",
        "outputId": "a8361f04-10eb-4a1b-afd1-eeaa3b25aadd"
      },
      "source": [
        "!pip install --user ipdb"
      ],
      "execution_count": null,
      "outputs": [
        {
          "output_type": "stream",
          "text": [
            "Collecting ipdb\n",
            "  Downloading ipdb-0.13.7.tar.gz (16 kB)\n",
            "Requirement already satisfied: setuptools in c:\\users\\win10\\anaconda3\\lib\\site-packages (from ipdb) (49.2.0.post20200714)\n",
            "Collecting ipython>=7.17.0\n",
            "  Downloading ipython-7.22.0-py3-none-any.whl (785 kB)\n",
            "Collecting toml>=0.10.2\n",
            "  Using cached toml-0.10.2-py2.py3-none-any.whl (16 kB)\n",
            "Requirement already satisfied: pygments in c:\\users\\win10\\anaconda3\\lib\\site-packages (from ipython>=7.17.0->ipdb) (2.6.1)\n",
            "Requirement already satisfied: backcall in c:\\users\\win10\\anaconda3\\lib\\site-packages (from ipython>=7.17.0->ipdb) (0.2.0)\n",
            "Requirement already satisfied: decorator in c:\\users\\win10\\anaconda3\\lib\\site-packages (from ipython>=7.17.0->ipdb) (4.4.2)\n",
            "Requirement already satisfied: prompt-toolkit!=3.0.0,!=3.0.1,<3.1.0,>=2.0.0 in c:\\users\\win10\\anaconda3\\lib\\site-packages (from ipython>=7.17.0->ipdb) (3.0.5)\n",
            "Requirement already satisfied: jedi>=0.16 in c:\\users\\win10\\anaconda3\\lib\\site-packages (from ipython>=7.17.0->ipdb) (0.17.1)\n",
            "Requirement already satisfied: traitlets>=4.2 in c:\\users\\win10\\anaconda3\\lib\\site-packages (from ipython>=7.17.0->ipdb) (4.3.3)\n",
            "Requirement already satisfied: colorama; sys_platform == \"win32\" in c:\\users\\win10\\anaconda3\\lib\\site-packages (from ipython>=7.17.0->ipdb) (0.4.3)\n",
            "Requirement already satisfied: pickleshare in c:\\users\\win10\\anaconda3\\lib\\site-packages (from ipython>=7.17.0->ipdb) (0.7.5)\n",
            "Requirement already satisfied: wcwidth in c:\\users\\win10\\anaconda3\\lib\\site-packages (from prompt-toolkit!=3.0.0,!=3.0.1,<3.1.0,>=2.0.0->ipython>=7.17.0->ipdb) (0.2.5)\n",
            "Requirement already satisfied: parso<0.8.0,>=0.7.0 in c:\\users\\win10\\anaconda3\\lib\\site-packages (from jedi>=0.16->ipython>=7.17.0->ipdb) (0.7.0)\n",
            "Requirement already satisfied: six in c:\\users\\win10\\anaconda3\\lib\\site-packages (from traitlets>=4.2->ipython>=7.17.0->ipdb) (1.15.0)\n",
            "Requirement already satisfied: ipython-genutils in c:\\users\\win10\\anaconda3\\lib\\site-packages (from traitlets>=4.2->ipython>=7.17.0->ipdb) (0.2.0)\n",
            "Building wheels for collected packages: ipdb\n",
            "  Building wheel for ipdb (setup.py): started\n",
            "  Building wheel for ipdb (setup.py): finished with status 'done'\n",
            "  Created wheel for ipdb: filename=ipdb-0.13.7-py3-none-any.whl size=11432 sha256=5e3b99a5233dd4e4afdf0f48404c32d5b2a5fa8a7b4a2f4d155f3e7fc382ee46\n",
            "  Stored in directory: c:\\users\\win10\\appdata\\local\\pip\\cache\\wheels\\b3\\e6\\33\\23ed5c0ce0654cd1426587c22918c3854c5e2583473e61538b\n",
            "Successfully built ipdb\n",
            "Installing collected packages: ipython, toml, ipdb\n",
            "  Attempting uninstall: ipython\n",
            "    Found existing installation: ipython 7.16.1\n",
            "    Uninstalling ipython-7.16.1:\n",
            "      Successfully uninstalled ipython-7.16.1\n",
            "  Attempting uninstall: toml\n",
            "    Found existing installation: toml 0.10.1\n",
            "    Uninstalling toml-0.10.1:\n",
            "      Successfully uninstalled toml-0.10.1\n",
            "Successfully installed ipdb-0.13.7 ipython-7.22.0 toml-0.10.2\n"
          ],
          "name": "stdout"
        },
        {
          "output_type": "stream",
          "text": [
            "ERROR: spyder 4.1.4 has requirement pyqt5<5.13; python_version >= \"3\", but you'll have pyqt5 5.15.1 which is incompatible.\n",
            "ERROR: spyder 4.1.4 has requirement pyqtwebengine<5.13; python_version >= \"3\", but you'll have pyqtwebengine 5.15.1 which is incompatible.\n",
            "ERROR: dvc 1.11.9 has requirement ruamel.yaml>=0.16.1, but you'll have ruamel-yaml 0.15.87 which is incompatible.\n",
            "ERROR: dvc 1.11.9 has requirement tqdm<5,>=4.45.0, but you'll have tqdm 4.43.0 which is incompatible.\n"
          ],
          "name": "stderr"
        }
      ]
    },
    {
      "cell_type": "code",
      "metadata": {
        "id": "UpLCMRkoV-2D"
      },
      "source": [
        "import ipdb"
      ],
      "execution_count": null,
      "outputs": []
    },
    {
      "cell_type": "code",
      "metadata": {
        "id": "VGc5Cg7BV-2E"
      },
      "source": [
        "def testdebug():\n",
        "    ipdb.set_trace()\n",
        "    l = []\n",
        "    for i in range(10):\n",
        "        for j in range(5):\n",
        "            l.append(i)\n",
        "            if i == 4 :\n",
        "                continue\n",
        "            print(\"we have appended your data in list \")\n",
        "    return l "
      ],
      "execution_count": null,
      "outputs": []
    },
    {
      "cell_type": "code",
      "metadata": {
        "id": "hhR8B9-lV-2E",
        "outputId": "dc034c1e-60cc-4564-d92c-e5c97b4cfa56"
      },
      "source": [
        "testdebug()"
      ],
      "execution_count": null,
      "outputs": [
        {
          "output_type": "stream",
          "text": [
            "> \u001b[1;32m<ipython-input-22-42c0db6e3cd9>\u001b[0m(3)\u001b[0;36mtestdebug\u001b[1;34m()\u001b[0m\n",
            "\u001b[1;32m      2 \u001b[1;33m    \u001b[0mipdb\u001b[0m\u001b[1;33m.\u001b[0m\u001b[0mset_trace\u001b[0m\u001b[1;33m(\u001b[0m\u001b[1;33m)\u001b[0m\u001b[1;33m\u001b[0m\u001b[1;33m\u001b[0m\u001b[0m\n",
            "\u001b[0m\u001b[1;32m----> 3 \u001b[1;33m    \u001b[0ml\u001b[0m \u001b[1;33m=\u001b[0m \u001b[1;33m[\u001b[0m\u001b[1;33m]\u001b[0m\u001b[1;33m\u001b[0m\u001b[1;33m\u001b[0m\u001b[0m\n",
            "\u001b[0m\u001b[1;32m      4 \u001b[1;33m    \u001b[1;32mfor\u001b[0m \u001b[0mi\u001b[0m \u001b[1;32min\u001b[0m \u001b[0mrange\u001b[0m\u001b[1;33m(\u001b[0m\u001b[1;36m10\u001b[0m\u001b[1;33m)\u001b[0m\u001b[1;33m:\u001b[0m\u001b[1;33m\u001b[0m\u001b[1;33m\u001b[0m\u001b[0m\n",
            "\u001b[0m\n"
          ],
          "name": "stdout"
        }
      ]
    },
    {
      "cell_type": "code",
      "metadata": {
        "id": "NYDoszyVV-2E"
      },
      "source": [
        ""
      ],
      "execution_count": null,
      "outputs": []
    }
  ]
}