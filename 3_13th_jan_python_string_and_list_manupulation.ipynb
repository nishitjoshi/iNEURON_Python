{
  "nbformat": 4,
  "nbformat_minor": 0,
  "metadata": {
    "kernelspec": {
      "display_name": "Python 3",
      "language": "python",
      "name": "python3"
    },
    "language_info": {
      "codemirror_mode": {
        "name": "ipython",
        "version": 3
      },
      "file_extension": ".py",
      "mimetype": "text/x-python",
      "name": "python",
      "nbconvert_exporter": "python",
      "pygments_lexer": "ipython3",
      "version": "3.8.3"
    },
    "colab": {
      "name": "13th jan python string and list manupulation.ipynb",
      "provenance": [],
      "include_colab_link": true
    }
  },
  "cells": [
    {
      "cell_type": "markdown",
      "metadata": {
        "id": "view-in-github",
        "colab_type": "text"
      },
      "source": [
        "<a href=\"https://colab.research.google.com/github/nishitjoshi/iNEURON_Python/blob/main/3_13th_jan_python_string_and_list_manupulation.ipynb\" target=\"_parent\"><img src=\"https://colab.research.google.com/assets/colab-badge.svg\" alt=\"Open In Colab\"/></a>"
      ]
    },
    {
      "cell_type": "code",
      "metadata": {
        "id": "F7IhhrmfUSNT"
      },
      "source": [
        "a = \"sud'h\""
      ],
      "execution_count": null,
      "outputs": []
    },
    {
      "cell_type": "code",
      "metadata": {
        "id": "fzbymFk6USNV"
      },
      "source": [
        "b = 'sud\"h'"
      ],
      "execution_count": null,
      "outputs": []
    },
    {
      "cell_type": "code",
      "metadata": {
        "id": "Ci7MeXgsUSNV",
        "outputId": "55ad1c6c-0712-411e-e58d-13f27286c8f9"
      },
      "source": [
        "a"
      ],
      "execution_count": null,
      "outputs": [
        {
          "output_type": "execute_result",
          "data": {
            "text/plain": [
              "'sudh'"
            ]
          },
          "metadata": {
            "tags": []
          },
          "execution_count": 3
        }
      ]
    },
    {
      "cell_type": "code",
      "metadata": {
        "id": "457fc7LhUSNW",
        "outputId": "b65f691b-8ca0-4bf5-8fa1-b0c33de2e866"
      },
      "source": [
        "b"
      ],
      "execution_count": null,
      "outputs": [
        {
          "output_type": "execute_result",
          "data": {
            "text/plain": [
              "'sudh'"
            ]
          },
          "metadata": {
            "tags": []
          },
          "execution_count": 4
        }
      ]
    },
    {
      "cell_type": "code",
      "metadata": {
        "id": "6ZzpQtrRUSNX"
      },
      "source": [
        "c = 'this is my first class for full stack data science  that\"s why i have joined this class '"
      ],
      "execution_count": null,
      "outputs": []
    },
    {
      "cell_type": "code",
      "metadata": {
        "id": "zfWdDF13USNX",
        "outputId": "a072ca77-c495-487b-def5-9182f1d5f3ba"
      },
      "source": [
        "c"
      ],
      "execution_count": null,
      "outputs": [
        {
          "output_type": "execute_result",
          "data": {
            "text/plain": [
              "'this is my first class for full stack data science  that\"s why i have joined this class '"
            ]
          },
          "metadata": {
            "tags": []
          },
          "execution_count": 13
        }
      ]
    },
    {
      "cell_type": "code",
      "metadata": {
        "id": "-KtsDLSUUSNX"
      },
      "source": [
        "s = \"this is full stack class\""
      ],
      "execution_count": null,
      "outputs": []
    },
    {
      "cell_type": "code",
      "metadata": {
        "id": "DTGurmM3USNY",
        "outputId": "397b3cd4-6634-42bd-ec51-8d2546f74d22"
      },
      "source": [
        "s[0]"
      ],
      "execution_count": null,
      "outputs": [
        {
          "output_type": "execute_result",
          "data": {
            "text/plain": [
              "'t'"
            ]
          },
          "metadata": {
            "tags": []
          },
          "execution_count": 22
        }
      ]
    },
    {
      "cell_type": "code",
      "metadata": {
        "id": "TFdNsfGVUSNY",
        "outputId": "6f94467c-4d53-4054-e251-d659ad5bb330"
      },
      "source": [
        "s[-1]"
      ],
      "execution_count": null,
      "outputs": [
        {
          "output_type": "execute_result",
          "data": {
            "text/plain": [
              "'s'"
            ]
          },
          "metadata": {
            "tags": []
          },
          "execution_count": 23
        }
      ]
    },
    {
      "cell_type": "code",
      "metadata": {
        "id": "u5kLDMthUSNY",
        "outputId": "0bd40832-23be-4e85-8cc9-fcffd6b370e0"
      },
      "source": [
        "len(s)"
      ],
      "execution_count": null,
      "outputs": [
        {
          "output_type": "execute_result",
          "data": {
            "text/plain": [
              "24"
            ]
          },
          "metadata": {
            "tags": []
          },
          "execution_count": 24
        }
      ]
    },
    {
      "cell_type": "code",
      "metadata": {
        "id": "JjfBuznJUSNZ",
        "outputId": "ee6c5f5d-9824-4c88-e823-7debfb6b6b31"
      },
      "source": [
        "s[100]"
      ],
      "execution_count": null,
      "outputs": [
        {
          "output_type": "error",
          "ename": "IndexError",
          "evalue": "string index out of range",
          "traceback": [
            "\u001b[1;31m---------------------------------------------------------------------------\u001b[0m",
            "\u001b[1;31mIndexError\u001b[0m                                Traceback (most recent call last)",
            "\u001b[1;32m<ipython-input-25-2a138df92e52>\u001b[0m in \u001b[0;36m<module>\u001b[1;34m\u001b[0m\n\u001b[1;32m----> 1\u001b[1;33m \u001b[0ms\u001b[0m\u001b[1;33m[\u001b[0m\u001b[1;36m100\u001b[0m\u001b[1;33m]\u001b[0m\u001b[1;33m\u001b[0m\u001b[1;33m\u001b[0m\u001b[0m\n\u001b[0m",
            "\u001b[1;31mIndexError\u001b[0m: string index out of range"
          ]
        }
      ]
    },
    {
      "cell_type": "code",
      "metadata": {
        "id": "CXlu1GR2USNZ",
        "outputId": "9183110d-b2bd-4b5e-8dfb-19d598c5a7fe"
      },
      "source": [
        "s[-1:-10:-1]"
      ],
      "execution_count": null,
      "outputs": [
        {
          "output_type": "execute_result",
          "data": {
            "text/plain": [
              "'ssalc kca'"
            ]
          },
          "metadata": {
            "tags": []
          },
          "execution_count": 29
        }
      ]
    },
    {
      "cell_type": "code",
      "metadata": {
        "id": "bHz0AX8PUSNa",
        "outputId": "4f641182-8401-4469-be17-f3c1494c3c70"
      },
      "source": [
        "s[::-1]"
      ],
      "execution_count": null,
      "outputs": [
        {
          "output_type": "execute_result",
          "data": {
            "text/plain": [
              "'ssalc kcats lluf si siht'"
            ]
          },
          "metadata": {
            "tags": []
          },
          "execution_count": 33
        }
      ]
    },
    {
      "cell_type": "code",
      "metadata": {
        "id": "z8fqKAHFUSNa"
      },
      "source": [
        ""
      ],
      "execution_count": null,
      "outputs": []
    },
    {
      "cell_type": "code",
      "metadata": {
        "id": "xU7oyAl_USNa",
        "outputId": "991af5c2-c94a-48f6-9814-0531b701cbfb"
      },
      "source": [
        "s"
      ],
      "execution_count": null,
      "outputs": [
        {
          "output_type": "execute_result",
          "data": {
            "text/plain": [
              "'this is full stack class'"
            ]
          },
          "metadata": {
            "tags": []
          },
          "execution_count": 46
        }
      ]
    },
    {
      "cell_type": "code",
      "metadata": {
        "id": "udTiWeHhUSNa",
        "outputId": "ec443360-7226-4aef-d181-cc947b71382c"
      },
      "source": [
        "s[::-2]"
      ],
      "execution_count": null,
      "outputs": [
        {
          "output_type": "execute_result",
          "data": {
            "text/plain": [
              "'sackaslu ish'"
            ]
          },
          "metadata": {
            "tags": []
          },
          "execution_count": 47
        }
      ]
    },
    {
      "cell_type": "code",
      "metadata": {
        "id": "9m9MZDLqUSNb",
        "outputId": "3190b057-54ba-469b-e945-853d4fbf5b54"
      },
      "source": [
        "s "
      ],
      "execution_count": null,
      "outputs": [
        {
          "output_type": "execute_result",
          "data": {
            "text/plain": [
              "'this is full stack class'"
            ]
          },
          "metadata": {
            "tags": []
          },
          "execution_count": 34
        }
      ]
    },
    {
      "cell_type": "code",
      "metadata": {
        "id": "awmNm_s2USNb",
        "outputId": "8174bc0e-7cfc-4e38-db50-739035aadc75"
      },
      "source": [
        "s[0] = \"x\""
      ],
      "execution_count": null,
      "outputs": [
        {
          "output_type": "error",
          "ename": "TypeError",
          "evalue": "'str' object does not support item assignment",
          "traceback": [
            "\u001b[1;31m---------------------------------------------------------------------------\u001b[0m",
            "\u001b[1;31mTypeError\u001b[0m                                 Traceback (most recent call last)",
            "\u001b[1;32m<ipython-input-36-416b596371a8>\u001b[0m in \u001b[0;36m<module>\u001b[1;34m\u001b[0m\n\u001b[1;32m----> 1\u001b[1;33m \u001b[0ms\u001b[0m\u001b[1;33m[\u001b[0m\u001b[1;36m0\u001b[0m\u001b[1;33m]\u001b[0m \u001b[1;33m=\u001b[0m \u001b[1;34m\"x\"\u001b[0m\u001b[1;33m\u001b[0m\u001b[1;33m\u001b[0m\u001b[0m\n\u001b[0m",
            "\u001b[1;31mTypeError\u001b[0m: 'str' object does not support item assignment"
          ]
        }
      ]
    },
    {
      "cell_type": "code",
      "metadata": {
        "id": "IDYV4OUUUSNb"
      },
      "source": [
        "l = [\"sdfs\",234,345.45,True]"
      ],
      "execution_count": null,
      "outputs": []
    },
    {
      "cell_type": "code",
      "metadata": {
        "id": "xsw4bo6IUSNb",
        "outputId": "17c6455e-60a8-4e06-d34b-711a55335d8e"
      },
      "source": [
        "s"
      ],
      "execution_count": null,
      "outputs": [
        {
          "output_type": "execute_result",
          "data": {
            "text/plain": [
              "'this is full stack class'"
            ]
          },
          "metadata": {
            "tags": []
          },
          "execution_count": 41
        }
      ]
    },
    {
      "cell_type": "code",
      "metadata": {
        "id": "M4zOnLxoUSNc"
      },
      "source": [
        "s = \"ffsfsfds\""
      ],
      "execution_count": null,
      "outputs": []
    },
    {
      "cell_type": "code",
      "metadata": {
        "id": "Lm7a6TKBUSNc",
        "outputId": "c130997a-a452-47f4-d322-4bf0eebb7818"
      },
      "source": [
        "s"
      ],
      "execution_count": null,
      "outputs": [
        {
          "output_type": "execute_result",
          "data": {
            "text/plain": [
              "'ffsfsfds'"
            ]
          },
          "metadata": {
            "tags": []
          },
          "execution_count": 43
        }
      ]
    },
    {
      "cell_type": "code",
      "metadata": {
        "id": "VHKINCTuUSNc"
      },
      "source": [
        "l[0] = \"sudh\""
      ],
      "execution_count": null,
      "outputs": []
    },
    {
      "cell_type": "code",
      "metadata": {
        "id": "SbiiMSZ5USNc",
        "outputId": "559d9fae-6fd6-4056-ef98-f7ab36d4033c"
      },
      "source": [
        "l"
      ],
      "execution_count": null,
      "outputs": [
        {
          "output_type": "execute_result",
          "data": {
            "text/plain": [
              "['sudh', 234, 345.45, True]"
            ]
          },
          "metadata": {
            "tags": []
          },
          "execution_count": 40
        }
      ]
    },
    {
      "cell_type": "code",
      "metadata": {
        "id": "2YDNvA-SUSNc",
        "outputId": "2ef892e8-386d-4c2a-d873-72779eb7fb91"
      },
      "source": [
        "for i in range(len(s)) :\n",
        "    print(s[i])"
      ],
      "execution_count": null,
      "outputs": [
        {
          "output_type": "stream",
          "text": [
            "t\n",
            "h\n",
            "i\n",
            "s\n",
            " \n",
            "i\n",
            "s\n",
            " \n",
            "f\n",
            "u\n",
            "l\n",
            "l\n",
            " \n",
            "s\n",
            "t\n",
            "a\n",
            "c\n",
            "k\n",
            " \n",
            "c\n",
            "l\n",
            "a\n",
            "s\n",
            "s\n"
          ],
          "name": "stdout"
        }
      ]
    },
    {
      "cell_type": "code",
      "metadata": {
        "id": "7dAlAbrtUSNd",
        "outputId": "8860de9f-438f-4637-fd65-f2c967d5bf51"
      },
      "source": [
        "\"sudh\"  + \" kumar \""
      ],
      "execution_count": null,
      "outputs": [
        {
          "output_type": "execute_result",
          "data": {
            "text/plain": [
              "'sudh kumar '"
            ]
          },
          "metadata": {
            "tags": []
          },
          "execution_count": 49
        }
      ]
    },
    {
      "cell_type": "code",
      "metadata": {
        "id": "pgKmwMhAUSNd",
        "outputId": "064db00b-a375-47af-f78f-e0d984d70dc9"
      },
      "source": [
        "\"sudh\" + str(3) "
      ],
      "execution_count": null,
      "outputs": [
        {
          "output_type": "execute_result",
          "data": {
            "text/plain": [
              "'sudh3'"
            ]
          },
          "metadata": {
            "tags": []
          },
          "execution_count": 52
        }
      ]
    },
    {
      "cell_type": "code",
      "metadata": {
        "id": "ppvc6TfOUSNd",
        "outputId": "e6684798-a793-4261-eae0-4e630fd57a3e"
      },
      "source": [
        "\"sudh\" + [\"kumar\" , 3,4,56]"
      ],
      "execution_count": null,
      "outputs": [
        {
          "output_type": "error",
          "ename": "TypeError",
          "evalue": "can only concatenate str (not \"list\") to str",
          "traceback": [
            "\u001b[1;31m---------------------------------------------------------------------------\u001b[0m",
            "\u001b[1;31mTypeError\u001b[0m                                 Traceback (most recent call last)",
            "\u001b[1;32m<ipython-input-53-540e0b0cba6f>\u001b[0m in \u001b[0;36m<module>\u001b[1;34m\u001b[0m\n\u001b[1;32m----> 1\u001b[1;33m \u001b[1;34m\"sudh\"\u001b[0m \u001b[1;33m+\u001b[0m \u001b[1;33m[\u001b[0m\u001b[1;34m\"kumar\"\u001b[0m \u001b[1;33m,\u001b[0m \u001b[1;36m3\u001b[0m\u001b[1;33m,\u001b[0m\u001b[1;36m4\u001b[0m\u001b[1;33m,\u001b[0m\u001b[1;36m56\u001b[0m\u001b[1;33m]\u001b[0m\u001b[1;33m\u001b[0m\u001b[1;33m\u001b[0m\u001b[0m\n\u001b[0m",
            "\u001b[1;31mTypeError\u001b[0m: can only concatenate str (not \"list\") to str"
          ]
        }
      ]
    },
    {
      "cell_type": "code",
      "metadata": {
        "id": "8aNuPIfYUSNd",
        "outputId": "fb167ee8-6a76-4efb-9db9-1928905c19c8"
      },
      "source": [
        "\"sudh \" * 6"
      ],
      "execution_count": null,
      "outputs": [
        {
          "output_type": "execute_result",
          "data": {
            "text/plain": [
              "'sudh sudh sudh sudh sudh sudh '"
            ]
          },
          "metadata": {
            "tags": []
          },
          "execution_count": 55
        }
      ]
    },
    {
      "cell_type": "code",
      "metadata": {
        "id": "uNYHasYkUSNe"
      },
      "source": [
        "s = \"my name is sudhanshu kumar , Name of org is ineuron\""
      ],
      "execution_count": null,
      "outputs": []
    },
    {
      "cell_type": "code",
      "metadata": {
        "id": "WyTG1IxhUSNe",
        "outputId": "99821d22-091f-4820-d2cb-abb268044a9b"
      },
      "source": [
        "s"
      ],
      "execution_count": null,
      "outputs": [
        {
          "output_type": "execute_result",
          "data": {
            "text/plain": [
              "'my name is '"
            ]
          },
          "metadata": {
            "tags": []
          },
          "execution_count": 57
        }
      ]
    },
    {
      "cell_type": "code",
      "metadata": {
        "id": "DLUiYM4cUSNe",
        "outputId": "c5239e5f-f49b-4292-a26b-e6276c3ff636"
      },
      "source": [
        "s.find(\"name\")"
      ],
      "execution_count": null,
      "outputs": [
        {
          "output_type": "execute_result",
          "data": {
            "text/plain": [
              "3"
            ]
          },
          "metadata": {
            "tags": []
          },
          "execution_count": 62
        }
      ]
    },
    {
      "cell_type": "code",
      "metadata": {
        "id": "5xLGas5tUSNe",
        "outputId": "4d465f99-734e-430a-aea5-e61826fd427d"
      },
      "source": [
        "b = s.find(\"name\")\n",
        "for i in range(len(\"name\")):\n",
        "    print(b + i)\n"
      ],
      "execution_count": null,
      "outputs": [
        {
          "output_type": "stream",
          "text": [
            "3\n",
            "4\n",
            "5\n",
            "6\n"
          ],
          "name": "stdout"
        }
      ]
    },
    {
      "cell_type": "code",
      "metadata": {
        "id": "LSquUootUSNe",
        "outputId": "baa6eb86-e28a-42dd-8fa1-2c5ad2be704c"
      },
      "source": [
        "s"
      ],
      "execution_count": null,
      "outputs": [
        {
          "output_type": "execute_result",
          "data": {
            "text/plain": [
              "'my name is sudhanshu kumar , Name of org is ineuron'"
            ]
          },
          "metadata": {
            "tags": []
          },
          "execution_count": 71
        }
      ]
    },
    {
      "cell_type": "code",
      "metadata": {
        "id": "C6Wvs8WHUSNf",
        "outputId": "5b6a9193-480f-4491-ea94-4951b4e21d00"
      },
      "source": [
        "s.count(\"name\")"
      ],
      "execution_count": null,
      "outputs": [
        {
          "output_type": "execute_result",
          "data": {
            "text/plain": [
              "1"
            ]
          },
          "metadata": {
            "tags": []
          },
          "execution_count": 72
        }
      ]
    },
    {
      "cell_type": "code",
      "metadata": {
        "id": "ImrAmstXUSNf",
        "outputId": "d599cef0-d357-469a-ba86-1b7e8cc1b779"
      },
      "source": [
        "s "
      ],
      "execution_count": null,
      "outputs": [
        {
          "output_type": "execute_result",
          "data": {
            "text/plain": [
              "'my name is sudhanshu kumar , Name of org is ineuron'"
            ]
          },
          "metadata": {
            "tags": []
          },
          "execution_count": 73
        }
      ]
    },
    {
      "cell_type": "code",
      "metadata": {
        "id": "qWMtB7ahUSNf",
        "outputId": "2a6b236a-312b-48ab-cbd1-f355162be70f"
      },
      "source": [
        "s.split()"
      ],
      "execution_count": null,
      "outputs": [
        {
          "output_type": "execute_result",
          "data": {
            "text/plain": [
              "['my',\n",
              " 'name',\n",
              " 'is',\n",
              " 'sudhanshu',\n",
              " 'kumar',\n",
              " ',',\n",
              " 'Name',\n",
              " 'of',\n",
              " 'org',\n",
              " 'is',\n",
              " 'ineuron']"
            ]
          },
          "metadata": {
            "tags": []
          },
          "execution_count": 74
        }
      ]
    },
    {
      "cell_type": "code",
      "metadata": {
        "id": "U0vJbVbOUSNf",
        "outputId": "99e02e17-0bad-4028-874b-e35bf4e3c15b"
      },
      "source": [
        "type(s.split('na'))"
      ],
      "execution_count": null,
      "outputs": [
        {
          "output_type": "execute_result",
          "data": {
            "text/plain": [
              "list"
            ]
          },
          "metadata": {
            "tags": []
          },
          "execution_count": 78
        }
      ]
    },
    {
      "cell_type": "code",
      "metadata": {
        "id": "fuXa2M4WUSNg",
        "outputId": "338f7af8-7975-47e4-e47c-87bd12a68ff7"
      },
      "source": [
        "s "
      ],
      "execution_count": null,
      "outputs": [
        {
          "output_type": "execute_result",
          "data": {
            "text/plain": [
              "'my name is sudhanshu kumar , Name of org is ineuron'"
            ]
          },
          "metadata": {
            "tags": []
          },
          "execution_count": 80
        }
      ]
    },
    {
      "cell_type": "code",
      "metadata": {
        "id": "yswScF54USNg",
        "outputId": "c420d7b6-a222-4a26-adbf-f3d571c6ad49"
      },
      "source": [
        "s.upper()"
      ],
      "execution_count": null,
      "outputs": [
        {
          "output_type": "execute_result",
          "data": {
            "text/plain": [
              "'MY NAME IS SUDHANSHU KUMAR , NAME OF ORG IS INEURON'"
            ]
          },
          "metadata": {
            "tags": []
          },
          "execution_count": 81
        }
      ]
    },
    {
      "cell_type": "code",
      "metadata": {
        "id": "aOPyurakUSNg",
        "outputId": "c312b174-69e9-4a08-cc1b-29294b90eefa"
      },
      "source": [
        "s.lower()"
      ],
      "execution_count": null,
      "outputs": [
        {
          "output_type": "execute_result",
          "data": {
            "text/plain": [
              "'my name is sudhanshu kumar , name of org is ineuron'"
            ]
          },
          "metadata": {
            "tags": []
          },
          "execution_count": 82
        }
      ]
    },
    {
      "cell_type": "code",
      "metadata": {
        "id": "GfkUrM0hUSNg",
        "outputId": "dd77588c-8f75-4ba8-984c-a17983e86853"
      },
      "source": [
        "s.swapcase()"
      ],
      "execution_count": null,
      "outputs": [
        {
          "output_type": "execute_result",
          "data": {
            "text/plain": [
              "'MY NAME IS SUDHANSHU KUMAR , nAME OF ORG IS INEURON'"
            ]
          },
          "metadata": {
            "tags": []
          },
          "execution_count": 83
        }
      ]
    },
    {
      "cell_type": "code",
      "metadata": {
        "id": "zkwxToGFUSNg",
        "outputId": "85671052-e816-4c4a-f3f0-665e1f4c9c37"
      },
      "source": [
        "\" \". join(s)"
      ],
      "execution_count": null,
      "outputs": [
        {
          "output_type": "execute_result",
          "data": {
            "text/plain": [
              "'m y   n a m e   i s   s u d h a n s h u   k u m a r   ,   N a m e   o f   o r g   i s   i n e u r o n'"
            ]
          },
          "metadata": {
            "tags": []
          },
          "execution_count": 89
        }
      ]
    },
    {
      "cell_type": "code",
      "metadata": {
        "id": "GIbTe90eUSNh",
        "outputId": "2bce9d44-a194-43a1-ce4c-cb447fb264ec"
      },
      "source": [
        "reversed(s)"
      ],
      "execution_count": null,
      "outputs": [
        {
          "output_type": "execute_result",
          "data": {
            "text/plain": [
              "<reversed at 0x24005b21700>"
            ]
          },
          "metadata": {
            "tags": []
          },
          "execution_count": 94
        }
      ]
    },
    {
      "cell_type": "code",
      "metadata": {
        "id": "w5wNYKD0USNh",
        "outputId": "2a0979e8-a0c9-4671-a885-8aee72fb0263"
      },
      "source": [
        "for i in reversed(s):\n",
        "    print(i)"
      ],
      "execution_count": null,
      "outputs": [
        {
          "output_type": "stream",
          "text": [
            "n\n",
            "o\n",
            "r\n",
            "u\n",
            "e\n",
            "n\n",
            "i\n",
            " \n",
            "s\n",
            "i\n",
            " \n",
            "g\n",
            "r\n",
            "o\n",
            " \n",
            "f\n",
            "o\n",
            " \n",
            "e\n",
            "m\n",
            "a\n",
            "N\n",
            " \n",
            ",\n",
            " \n",
            "r\n",
            "a\n",
            "m\n",
            "u\n",
            "k\n",
            " \n",
            "u\n",
            "h\n",
            "s\n",
            "n\n",
            "a\n",
            "h\n",
            "d\n",
            "u\n",
            "s\n",
            " \n",
            "s\n",
            "i\n",
            " \n",
            "e\n",
            "m\n",
            "a\n",
            "n\n",
            " \n",
            "y\n",
            "m\n"
          ],
          "name": "stdout"
        }
      ]
    },
    {
      "cell_type": "code",
      "metadata": {
        "id": "rr4ftjh0USNh",
        "outputId": "f95970af-ca57-47ab-b336-a15675746cb1"
      },
      "source": [
        "s[::-1]"
      ],
      "execution_count": null,
      "outputs": [
        {
          "output_type": "execute_result",
          "data": {
            "text/plain": [
              "'norueni si gro fo emaN , ramuk uhsnahdus si eman ym'"
            ]
          },
          "metadata": {
            "tags": []
          },
          "execution_count": 91
        }
      ]
    },
    {
      "cell_type": "code",
      "metadata": {
        "id": "LcNylOdrUSNh"
      },
      "source": [
        "s = \"       su  dh \""
      ],
      "execution_count": null,
      "outputs": []
    },
    {
      "cell_type": "code",
      "metadata": {
        "id": "H44TKUEHUSNh",
        "outputId": "8751f2e9-c454-4c60-bc6a-b5839450dce0"
      },
      "source": [
        "s"
      ],
      "execution_count": null,
      "outputs": [
        {
          "output_type": "execute_result",
          "data": {
            "text/plain": [
              "'       su  dh '"
            ]
          },
          "metadata": {
            "tags": []
          },
          "execution_count": 101
        }
      ]
    },
    {
      "cell_type": "code",
      "metadata": {
        "id": "tSS3NItlUSNi",
        "outputId": "05c6c3a4-44e7-4cee-c386-0d60558dd237"
      },
      "source": [
        "s.strip()"
      ],
      "execution_count": null,
      "outputs": [
        {
          "output_type": "execute_result",
          "data": {
            "text/plain": [
              "'su  dh'"
            ]
          },
          "metadata": {
            "tags": []
          },
          "execution_count": 102
        }
      ]
    },
    {
      "cell_type": "code",
      "metadata": {
        "id": "C5UH-rJwUSNi",
        "outputId": "0cd05253-cc55-4e57-ceb9-e415ca545157"
      },
      "source": [
        "s.lstrip()"
      ],
      "execution_count": null,
      "outputs": [
        {
          "output_type": "execute_result",
          "data": {
            "text/plain": [
              "'su  dh '"
            ]
          },
          "metadata": {
            "tags": []
          },
          "execution_count": 103
        }
      ]
    },
    {
      "cell_type": "code",
      "metadata": {
        "id": "T9JVa539USNi",
        "outputId": "2544c28b-283d-4c73-9bf1-31d03ad73195"
      },
      "source": [
        "s.rstrip()"
      ],
      "execution_count": null,
      "outputs": [
        {
          "output_type": "execute_result",
          "data": {
            "text/plain": [
              "'       su  dh'"
            ]
          },
          "metadata": {
            "tags": []
          },
          "execution_count": 104
        }
      ]
    },
    {
      "cell_type": "code",
      "metadata": {
        "id": "XCxje-_QUSNi"
      },
      "source": [
        "s = \"greeting from ineuron\""
      ],
      "execution_count": null,
      "outputs": []
    },
    {
      "cell_type": "code",
      "metadata": {
        "id": "pHBTupzzUSNi",
        "outputId": "163fc1a4-1adb-459b-c018-d6d1a7be5b25"
      },
      "source": [
        "s = s.replace(\"gr\" , 'swer')"
      ],
      "execution_count": null,
      "outputs": [
        {
          "output_type": "execute_result",
          "data": {
            "text/plain": [
              "'swereeting from ineuron'"
            ]
          },
          "metadata": {
            "tags": []
          },
          "execution_count": 108
        }
      ]
    },
    {
      "cell_type": "code",
      "metadata": {
        "id": "01xiRxeDUSNj",
        "outputId": "13787486-0164-4b0d-e066-5ff2399dcea0"
      },
      "source": [
        "s"
      ],
      "execution_count": null,
      "outputs": [
        {
          "output_type": "execute_result",
          "data": {
            "text/plain": [
              "'greeting from ineuron'"
            ]
          },
          "metadata": {
            "tags": []
          },
          "execution_count": 109
        }
      ]
    },
    {
      "cell_type": "code",
      "metadata": {
        "id": "CVn8arrhUSNj"
      },
      "source": [
        "s = \"sudh\""
      ],
      "execution_count": null,
      "outputs": []
    },
    {
      "cell_type": "code",
      "metadata": {
        "id": "niEOAxlqUSNj"
      },
      "source": [
        "s = s.replace(\"u\" , \"kumar\")"
      ],
      "execution_count": null,
      "outputs": []
    },
    {
      "cell_type": "code",
      "metadata": {
        "id": "gkbX1WmLUSNj",
        "outputId": "d78adc15-85d0-4639-ee8a-fa96cd927811"
      },
      "source": [
        "s"
      ],
      "execution_count": null,
      "outputs": [
        {
          "output_type": "execute_result",
          "data": {
            "text/plain": [
              "'skumardh'"
            ]
          },
          "metadata": {
            "tags": []
          },
          "execution_count": 118
        }
      ]
    },
    {
      "cell_type": "code",
      "metadata": {
        "id": "84U3uzxoUSNj",
        "outputId": "183912bf-2c40-4a15-ddae-ceff13109fa6"
      },
      "source": [
        "s[1] = \"kumar\""
      ],
      "execution_count": null,
      "outputs": [
        {
          "output_type": "error",
          "ename": "TypeError",
          "evalue": "'str' object does not support item assignment",
          "traceback": [
            "\u001b[1;31m---------------------------------------------------------------------------\u001b[0m",
            "\u001b[1;31mTypeError\u001b[0m                                 Traceback (most recent call last)",
            "\u001b[1;32m<ipython-input-114-45b9a7bdbadb>\u001b[0m in \u001b[0;36m<module>\u001b[1;34m\u001b[0m\n\u001b[1;32m----> 1\u001b[1;33m \u001b[0ms\u001b[0m\u001b[1;33m[\u001b[0m\u001b[1;36m1\u001b[0m\u001b[1;33m]\u001b[0m \u001b[1;33m=\u001b[0m \u001b[1;34m\"kumar\"\u001b[0m\u001b[1;33m\u001b[0m\u001b[1;33m\u001b[0m\u001b[0m\n\u001b[0m",
            "\u001b[1;31mTypeError\u001b[0m: 'str' object does not support item assignment"
          ]
        }
      ]
    },
    {
      "cell_type": "code",
      "metadata": {
        "id": "1LSbjtIVUSNk"
      },
      "source": [
        "s = \"sudh\""
      ],
      "execution_count": null,
      "outputs": []
    },
    {
      "cell_type": "code",
      "metadata": {
        "id": "1-sCe2_OUSNk",
        "outputId": "9003fc92-ef43-4cae-95d7-408f2b975659"
      },
      "source": [
        "s.center(23 , '@')"
      ],
      "execution_count": null,
      "outputs": [
        {
          "output_type": "execute_result",
          "data": {
            "text/plain": [
              "'@@@@@@@@@@sudh@@@@@@@@@'"
            ]
          },
          "metadata": {
            "tags": []
          },
          "execution_count": 125
        }
      ]
    },
    {
      "cell_type": "code",
      "metadata": {
        "id": "0FGOARjJUSNk"
      },
      "source": [
        "s = \"sudh\\tku\\tmar\""
      ],
      "execution_count": null,
      "outputs": []
    },
    {
      "cell_type": "code",
      "metadata": {
        "id": "k31i5SJwUSNk",
        "outputId": "dd98863a-8337-4e7e-c701-d0bc8d1393c0"
      },
      "source": [
        "s"
      ],
      "execution_count": null,
      "outputs": [
        {
          "output_type": "execute_result",
          "data": {
            "text/plain": [
              "'sudh\\tku\\tmar'"
            ]
          },
          "metadata": {
            "tags": []
          },
          "execution_count": 130
        }
      ]
    },
    {
      "cell_type": "code",
      "metadata": {
        "id": "Yp8kaQWgUSNk",
        "outputId": "d7302229-1a9b-4436-b99e-c119527ff46b"
      },
      "source": [
        "s.expandtabs()"
      ],
      "execution_count": null,
      "outputs": [
        {
          "output_type": "execute_result",
          "data": {
            "text/plain": [
              "'sudh    ku      mar'"
            ]
          },
          "metadata": {
            "tags": []
          },
          "execution_count": 131
        }
      ]
    },
    {
      "cell_type": "code",
      "metadata": {
        "id": "Ro3jJBiXUSNl",
        "outputId": "d1d5f633-9be4-49ec-f8d7-428646782a6d"
      },
      "source": [
        ""
      ],
      "execution_count": null,
      "outputs": [
        {
          "output_type": "stream",
          "text": [
            "we all are a part of full stack\n"
          ],
          "name": "stdout"
        },
        {
          "output_type": "error",
          "ename": "TypeError",
          "evalue": "'str' object is not callable",
          "traceback": [
            "\u001b[1;31m---------------------------------------------------------------------------\u001b[0m",
            "\u001b[1;31mTypeError\u001b[0m                                 Traceback (most recent call last)",
            "\u001b[1;32m<ipython-input-138-5af18a1d8bea>\u001b[0m in \u001b[0;36m<module>\u001b[1;34m\u001b[0m\n\u001b[0;32m      3\u001b[0m \u001b[0mprint\u001b[0m\u001b[1;33m(\u001b[0m\u001b[0ma\u001b[0m\u001b[1;33m)\u001b[0m\u001b[1;33m\u001b[0m\u001b[1;33m\u001b[0m\u001b[0m\n\u001b[0;32m      4\u001b[0m \u001b[0mb\u001b[0m \u001b[1;33m=\u001b[0m \u001b[0ma\u001b[0m\u001b[1;33m.\u001b[0m\u001b[0mcount\u001b[0m\u001b[1;33m(\u001b[0m\u001b[1;34m\"a\"\u001b[0m\u001b[1;33m)\u001b[0m\u001b[1;33m\u001b[0m\u001b[1;33m\u001b[0m\u001b[0m\n\u001b[1;32m----> 5\u001b[1;33m \u001b[0mprint\u001b[0m\u001b[1;33m(\u001b[0m\u001b[1;34m\"number of a: \"\u001b[0m\u001b[1;33m+\u001b[0m\u001b[0mstr\u001b[0m\u001b[1;33m(\u001b[0m\u001b[0mb\u001b[0m\u001b[1;33m)\u001b[0m\u001b[1;33m)\u001b[0m\u001b[1;33m\u001b[0m\u001b[1;33m\u001b[0m\u001b[0m\n\u001b[0m\u001b[0;32m      6\u001b[0m \u001b[1;32mfor\u001b[0m \u001b[0mi\u001b[0m \u001b[1;32min\u001b[0m \u001b[0mrange\u001b[0m\u001b[1;33m(\u001b[0m\u001b[0mlen\u001b[0m\u001b[1;33m(\u001b[0m\u001b[0ma\u001b[0m\u001b[1;33m)\u001b[0m\u001b[1;33m)\u001b[0m\u001b[1;33m:\u001b[0m\u001b[1;33m\u001b[0m\u001b[1;33m\u001b[0m\u001b[0m\n\u001b[0;32m      7\u001b[0m   \u001b[1;32mif\u001b[0m \u001b[0ma\u001b[0m\u001b[1;33m[\u001b[0m\u001b[0mi\u001b[0m\u001b[1;33m]\u001b[0m \u001b[1;33m==\u001b[0m \u001b[1;34m\"a\"\u001b[0m\u001b[1;33m:\u001b[0m\u001b[1;33m\u001b[0m\u001b[1;33m\u001b[0m\u001b[0m\n",
            "\u001b[1;31mTypeError\u001b[0m: 'str' object is not callable"
          ]
        }
      ]
    },
    {
      "cell_type": "code",
      "metadata": {
        "id": "zpOdshsdUSNl",
        "outputId": "3bf3c66f-d9e7-43d1-dd3d-da1d5337529c"
      },
      "source": [
        "a=\"We all are a part of Full Stack\"\n",
        "b=a.lower()\n",
        "b"
      ],
      "execution_count": null,
      "outputs": [
        {
          "output_type": "execute_result",
          "data": {
            "text/plain": [
              "'we all are a part of full stack'"
            ]
          },
          "metadata": {
            "tags": []
          },
          "execution_count": 142
        }
      ]
    },
    {
      "cell_type": "code",
      "metadata": {
        "id": "KH2EP_fVUSNl",
        "outputId": "8a0d3392-4fd4-472f-b9e8-438636b03547"
      },
      "source": [
        "c=a.count(\"a\")\n",
        "c"
      ],
      "execution_count": null,
      "outputs": [
        {
          "output_type": "execute_result",
          "data": {
            "text/plain": [
              "5"
            ]
          },
          "metadata": {
            "tags": []
          },
          "execution_count": 144
        }
      ]
    },
    {
      "cell_type": "code",
      "metadata": {
        "id": "migB1Z4RUSNl",
        "outputId": "e38b757a-a2a6-4ca3-9c20-4288f2318809"
      },
      "source": [
        "for i in range(len(a)):\n",
        "    if(a[i]==\"a\"):\n",
        "        print(i)"
      ],
      "execution_count": null,
      "outputs": [
        {
          "output_type": "stream",
          "text": [
            "3\n",
            "7\n",
            "11\n",
            "14\n",
            "28\n"
          ],
          "name": "stdout"
        }
      ]
    },
    {
      "cell_type": "code",
      "metadata": {
        "id": "OEksDxkwUSNl",
        "outputId": "51cda276-5775-4142-ce0b-b56b3dae3f70"
      },
      "source": [
        "d=a.replace(\"a\",\"iNeuron\")\n",
        "d"
      ],
      "execution_count": null,
      "outputs": [
        {
          "output_type": "execute_result",
          "data": {
            "text/plain": [
              "'We iNeuronll iNeuronre iNeuron piNeuronrt of Full StiNeuronck'"
            ]
          },
          "metadata": {
            "tags": []
          },
          "execution_count": 147
        }
      ]
    },
    {
      "cell_type": "code",
      "metadata": {
        "id": "GUsCGGVdUSNm",
        "outputId": "2092f31e-8470-4b69-c71c-1c7edf7c6812"
      },
      "source": [
        "e=a.split()\n",
        "print(e)"
      ],
      "execution_count": null,
      "outputs": [
        {
          "output_type": "stream",
          "text": [
            "['We', 'all', 'are', 'a', 'part', 'of', 'Full', 'Stack']\n"
          ],
          "name": "stdout"
        }
      ]
    },
    {
      "cell_type": "code",
      "metadata": {
        "id": "dCvoAYphUSNm",
        "outputId": "20afb0d7-a971-4a55-e488-e66d669127fb"
      },
      "source": [
        "a=\"We all are a part of Full Stack\"\n",
        "b=a.lower()\n",
        "print(b)\n",
        "c=a.count(\"a\")\n",
        "print(\"The count of a is \",c)\n",
        "for i in range(len(a)):\n",
        "    if(a[i]==\"a\"):\n",
        "        print(i)\n",
        "d=a.replace(\"a\",\"iNeuron\")\n",
        "print(d)\n",
        "e=a.split()\n",
        "print(e)\n"
      ],
      "execution_count": null,
      "outputs": [
        {
          "output_type": "stream",
          "text": [
            "we all are a part of full stack\n",
            "The count of a is  5\n",
            "3\n",
            "7\n",
            "11\n",
            "14\n",
            "28\n",
            "We iNeuronll iNeuronre iNeuron piNeuronrt of Full StiNeuronck\n",
            "['We', 'all', 'are', 'a', 'part', 'of', 'Full', 'Stack']\n"
          ],
          "name": "stdout"
        }
      ]
    },
    {
      "cell_type": "code",
      "metadata": {
        "id": "glSvorSrUSNm",
        "outputId": "9681f2c3-a60c-4aa1-abcc-bb55ebba20e4"
      },
      "source": [
        "a = \"We are all part of Full Stack\"\n",
        "\n",
        "# 1. Normalizing entire string in lower case\n",
        "print(a.lower())\n",
        "# 2. Finding number of occurances of a in entire string\n",
        "print(len([i for i in range(len(a)) if a[i] == 'a']))\n",
        "# 3. Indexes where a is present \n",
        "print([i for i in range(len(a)) if a[i] == 'a'])  \n",
        "# 4 . replace all a's with ineuron\n",
        "print(a.replace('a','Ineuron'))\n",
        "#5. print all the words as a list\n",
        "print([i for i in a.split() ])\n"
      ],
      "execution_count": null,
      "outputs": [
        {
          "output_type": "stream",
          "text": [
            "we are all part of full stack\n",
            "4\n",
            "[3, 7, 12, 26]\n",
            "We Ineuronre Ineuronll pIneuronrt of Full StIneuronck\n",
            "['We', 'are', 'all', 'part', 'of', 'Full', 'Stack']\n"
          ],
          "name": "stdout"
        }
      ]
    },
    {
      "cell_type": "code",
      "metadata": {
        "id": "IP79VxdqUSNm",
        "outputId": "7ac66f28-5b92-4851-c995-c2fe5787bf57"
      },
      "source": [
        "a='We are Part of Full Stack'\n",
        "b=a.lower()\n",
        "print('lower :',b)\n",
        "c=a.count('a')\n",
        "print('Count of a :',c)\n",
        "for i in range(1,25):\n",
        "    if a[i]== 'a':\n",
        "        print(i)\n",
        "str=a.replace('a','iNeuron')\n",
        "print('Replace a with iNeuron :',str)\n"
      ],
      "execution_count": null,
      "outputs": [
        {
          "output_type": "stream",
          "text": [
            "lower : we are part of full stack\n",
            "Count of a : 3\n",
            "3\n",
            "8\n",
            "22\n",
            "Replace a with iNeuron : We iNeuronre PiNeuronrt of Full StiNeuronck\n"
          ],
          "name": "stdout"
        }
      ]
    },
    {
      "cell_type": "code",
      "metadata": {
        "id": "RfqfO-PGUSNn",
        "outputId": "ed7f4f7b-4793-4fd6-fd83-9eb7b9227b40"
      },
      "source": [
        "a=\"we all are a part of Full Stack\"\n",
        "a=a.lower()\n",
        "c=a.count(\"a\")\n",
        "print(\"count of a=\",c)"
      ],
      "execution_count": null,
      "outputs": [
        {
          "output_type": "stream",
          "text": [
            "count of a= 5\n"
          ],
          "name": "stdout"
        }
      ]
    },
    {
      "cell_type": "code",
      "metadata": {
        "id": "3d5Pg7uHUSNn",
        "outputId": "6509dada-164b-4cbe-b9b9-1b69059dc8bd"
      },
      "source": [
        "a=\"we all are a part of Full Stack\"\n",
        "a=a.lower()\n",
        "c=a.count(\"a\")\n",
        "print(\"count of a=\",c)\n",
        "l=[]\n",
        "for e in range(len(a)):\n",
        "    if a[e]==\"a\":\n",
        "        l.append(e)\n",
        "print(\"all indexes of 'a':\",l)                                                                   "
      ],
      "execution_count": null,
      "outputs": [
        {
          "output_type": "stream",
          "text": [
            "count of a= 5\n",
            "all indexes of 'a': [3, 7, 11, 14, 28]\n"
          ],
          "name": "stdout"
        }
      ]
    },
    {
      "cell_type": "code",
      "metadata": {
        "id": "d2AaWlwHUSNn",
        "outputId": "2719665a-59e8-4d23-8803-076e3e708116"
      },
      "source": [
        "a=a.replace(\"a\",\"iNeuron\")    \n",
        "a.split() "
      ],
      "execution_count": null,
      "outputs": [
        {
          "output_type": "execute_result",
          "data": {
            "text/plain": [
              "['we',\n",
              " 'iNeuronll',\n",
              " 'iNeuronre',\n",
              " 'iNeuron',\n",
              " 'piNeuronrt',\n",
              " 'of',\n",
              " 'full',\n",
              " 'stiNeuronck']"
            ]
          },
          "metadata": {
            "tags": []
          },
          "execution_count": 159
        }
      ]
    },
    {
      "cell_type": "code",
      "metadata": {
        "id": "TikjM1S9USNo",
        "outputId": "660068c8-ddd2-49a5-d338-94087babf20d"
      },
      "source": [
        "a = \"we all are a part of Full Stack\"\n",
        "a = a.lower()\n",
        "count_a = a.count('a')\n",
        "print(\"The count of a is\",a)\n",
        "index_a=[]\n",
        "for i in range(len(a)):\n",
        "    if(a[i]=='a'):\n",
        "        index_a.append(i)\n",
        "print(\"Indexs of a\",index_a)\n",
        "for i in range(len(a)):\n",
        "    if(a[i]=='a'):\n",
        "        a=a.replace('a','ineuron')\n",
        "        print(a)\n",
        "        \n",
        "a.split()\n"
      ],
      "execution_count": null,
      "outputs": [
        {
          "output_type": "stream",
          "text": [
            "The count of a is we all are a part of full stack\n",
            "Indexs of a [3, 7, 11, 14, 28]\n",
            "we ineuronll ineuronre ineuron pineuronrt of full stineuronck\n"
          ],
          "name": "stdout"
        },
        {
          "output_type": "execute_result",
          "data": {
            "text/plain": [
              "['we',\n",
              " 'ineuronll',\n",
              " 'ineuronre',\n",
              " 'ineuron',\n",
              " 'pineuronrt',\n",
              " 'of',\n",
              " 'full',\n",
              " 'stineuronck']"
            ]
          },
          "metadata": {
            "tags": []
          },
          "execution_count": 160
        }
      ]
    },
    {
      "cell_type": "code",
      "metadata": {
        "id": "4V1kzjZ0USNo"
      },
      "source": [
        "s = \"Fds\""
      ],
      "execution_count": null,
      "outputs": []
    },
    {
      "cell_type": "code",
      "metadata": {
        "id": "qkxCB_JaUSNo",
        "outputId": "8eb67254-5011-4ee2-857e-bc3c7a9f6ad7"
      },
      "source": [
        "s.isupper()"
      ],
      "execution_count": null,
      "outputs": [
        {
          "output_type": "execute_result",
          "data": {
            "text/plain": [
              "False"
            ]
          },
          "metadata": {
            "tags": []
          },
          "execution_count": 181
        }
      ]
    },
    {
      "cell_type": "code",
      "metadata": {
        "id": "4BkQpl7mUSNo",
        "outputId": "2537307f-cfb0-43bc-ad35-326d0d313cc3"
      },
      "source": [
        "s.islower()"
      ],
      "execution_count": null,
      "outputs": [
        {
          "output_type": "execute_result",
          "data": {
            "text/plain": [
              "True"
            ]
          },
          "metadata": {
            "tags": []
          },
          "execution_count": 182
        }
      ]
    },
    {
      "cell_type": "code",
      "metadata": {
        "id": "oaG96Hi0USNo",
        "outputId": "5ae972ec-8d33-49eb-af78-68698c983283"
      },
      "source": [
        "s.isspace()"
      ],
      "execution_count": null,
      "outputs": [
        {
          "output_type": "execute_result",
          "data": {
            "text/plain": [
              "False"
            ]
          },
          "metadata": {
            "tags": []
          },
          "execution_count": 183
        }
      ]
    },
    {
      "cell_type": "code",
      "metadata": {
        "id": "mHeG6c_gUSNp",
        "outputId": "086a1659-faf9-4147-ef30-1cb8284d2f1d"
      },
      "source": [
        "s.isdigit()"
      ],
      "execution_count": null,
      "outputs": [
        {
          "output_type": "execute_result",
          "data": {
            "text/plain": [
              "True"
            ]
          },
          "metadata": {
            "tags": []
          },
          "execution_count": 186
        }
      ]
    },
    {
      "cell_type": "code",
      "metadata": {
        "id": "dDDr9Y3FUSNp",
        "outputId": "2a808ffa-42bf-46f3-ff41-df55656b314a"
      },
      "source": [
        "s.endswith('s')"
      ],
      "execution_count": null,
      "outputs": [
        {
          "output_type": "execute_result",
          "data": {
            "text/plain": [
              "True"
            ]
          },
          "metadata": {
            "tags": []
          },
          "execution_count": 189
        }
      ]
    },
    {
      "cell_type": "code",
      "metadata": {
        "id": "KCBPe72sUSNp",
        "outputId": "e391eaff-ad8a-472f-ff12-4efd99a0af1f"
      },
      "source": [
        "s.startswith(\"s\")"
      ],
      "execution_count": null,
      "outputs": [
        {
          "output_type": "execute_result",
          "data": {
            "text/plain": [
              "True"
            ]
          },
          "metadata": {
            "tags": []
          },
          "execution_count": 192
        }
      ]
    },
    {
      "cell_type": "code",
      "metadata": {
        "id": "90GKx9oYUSNp",
        "outputId": "5f9b6721-9933-4b0e-f695-5e711d549828"
      },
      "source": [
        "s.isalnum()"
      ],
      "execution_count": null,
      "outputs": [
        {
          "output_type": "execute_result",
          "data": {
            "text/plain": [
              "True"
            ]
          },
          "metadata": {
            "tags": []
          },
          "execution_count": 202
        }
      ]
    },
    {
      "cell_type": "code",
      "metadata": {
        "id": "wTleCxWHUSNq",
        "outputId": "324ebde2-896a-418c-8fc7-f6725620d53d"
      },
      "source": [
        "s.isalpha()"
      ],
      "execution_count": null,
      "outputs": [
        {
          "output_type": "execute_result",
          "data": {
            "text/plain": [
              "True"
            ]
          },
          "metadata": {
            "tags": []
          },
          "execution_count": 205
        }
      ]
    },
    {
      "cell_type": "code",
      "metadata": {
        "id": "S_9VEHilUSNq",
        "outputId": "a5859e39-6ca8-490a-f9eb-83233daaa178"
      },
      "source": [
        "s.istitle()"
      ],
      "execution_count": null,
      "outputs": [
        {
          "output_type": "execute_result",
          "data": {
            "text/plain": [
              "True"
            ]
          },
          "metadata": {
            "tags": []
          },
          "execution_count": 208
        }
      ]
    },
    {
      "cell_type": "code",
      "metadata": {
        "id": "btZrY_TaUSNq",
        "outputId": "278b2937-537f-4fec-9c4c-615b8798c9da"
      },
      "source": [
        "len(s)"
      ],
      "execution_count": null,
      "outputs": [
        {
          "output_type": "execute_result",
          "data": {
            "text/plain": [
              "26"
            ]
          },
          "metadata": {
            "tags": []
          },
          "execution_count": 211
        }
      ]
    },
    {
      "cell_type": "code",
      "metadata": {
        "id": "_vfZF5pJUSNq"
      },
      "source": [
        "s = \"this is a full stack batch\""
      ],
      "execution_count": null,
      "outputs": []
    },
    {
      "cell_type": "code",
      "metadata": {
        "id": "qiXLK53GUSNq",
        "outputId": "e9a5b67b-6b34-4ec7-8d65-884652d55cbf"
      },
      "source": [
        "count = 0 \n",
        "for i in  s :\n",
        "    count = count +1 \n",
        "print(count)"
      ],
      "execution_count": null,
      "outputs": [
        {
          "output_type": "stream",
          "text": [
            "26\n"
          ],
          "name": "stdout"
        }
      ]
    },
    {
      "cell_type": "code",
      "metadata": {
        "id": "5HjsHh-yUSNr",
        "outputId": "55d776be-3f02-4d6a-9794-226994dd5772"
      },
      "source": [
        "for i in range(1, len(s)) :\n",
        "    print(s[-i])"
      ],
      "execution_count": null,
      "outputs": [
        {
          "output_type": "stream",
          "text": [
            "h\n",
            "c\n",
            "t\n",
            "a\n",
            "b\n",
            " \n",
            "k\n",
            "c\n",
            "a\n",
            "t\n",
            "s\n",
            " \n",
            "l\n",
            "l\n",
            "u\n",
            "f\n",
            " \n",
            "a\n",
            " \n",
            "s\n",
            "i\n",
            " \n",
            "s\n",
            "i\n",
            "h\n"
          ],
          "name": "stdout"
        }
      ]
    },
    {
      "cell_type": "code",
      "metadata": {
        "id": "ODFnmrfnUSNr",
        "outputId": "6460fd45-2bee-4272-8294-482b0fde0163"
      },
      "source": [
        "s = \"sudh\"\n",
        "ch = len(s) -1\n",
        "while ch >= 0 :\n",
        "    print(s[ch])\n",
        "    ch = ch -1 "
      ],
      "execution_count": null,
      "outputs": [
        {
          "output_type": "stream",
          "text": [
            "h\n",
            "d\n",
            "u\n",
            "s\n"
          ],
          "name": "stdout"
        }
      ]
    },
    {
      "cell_type": "code",
      "metadata": {
        "id": "pUSscpxUUSNr",
        "outputId": "d6457357-f89a-4d62-f905-7308b6ad98db"
      },
      "source": [
        "name = \"ineruon\"\n",
        "vowels = \"AaEeIiOoUu\"\n",
        "\n",
        "for i in name :\n",
        "    if i in vowels:\n",
        "        print(\"{} is a vowel\".format(i))\n",
        "    else :\n",
        "        print(\"{} is not a vowel\".format(i))\n"
      ],
      "execution_count": null,
      "outputs": [
        {
          "output_type": "stream",
          "text": [
            "i is a vowel\n",
            "n is not a vowel\n",
            "e is a vowel\n",
            "r is not a vowel\n",
            "u is a vowel\n",
            "o is a vowel\n",
            "n is not a vowel\n"
          ],
          "name": "stdout"
        }
      ]
    },
    {
      "cell_type": "code",
      "metadata": {
        "id": "gX7F_xdRUSNr",
        "outputId": "2f237be2-ea8a-4cd5-f97f-9d31f335b0aa"
      },
      "source": [
        "\" {} name is sudh\".format(\"my\")"
      ],
      "execution_count": null,
      "outputs": [
        {
          "output_type": "execute_result",
          "data": {
            "text/plain": [
              "' my name is sudh'"
            ]
          },
          "metadata": {
            "tags": []
          },
          "execution_count": 221
        }
      ]
    },
    {
      "cell_type": "code",
      "metadata": {
        "id": "97TKrgBxUSNs",
        "outputId": "be97e9f8-9707-4878-e506-d039b3f1c5ca"
      },
      "source": [
        "a = input()\n",
        "b = input()\n"
      ],
      "execution_count": null,
      "outputs": [
        {
          "output_type": "stream",
          "text": [
            "fsdfs\n",
            "fsdf\n"
          ],
          "name": "stdout"
        }
      ]
    },
    {
      "cell_type": "code",
      "metadata": {
        "id": "R6ImzWhRUSNs",
        "outputId": "79b5e2fb-1a74-4242-963e-05966a59793d"
      },
      "source": [
        "\"{} name {} sudh {} \".format,(a, b, \"Fsdfsfs\")"
      ],
      "execution_count": null,
      "outputs": [
        {
          "output_type": "execute_result",
          "data": {
            "text/plain": [
              "'fsdfs name fsdf sudh Fsdfsfs '"
            ]
          },
          "metadata": {
            "tags": []
          },
          "execution_count": 228
        }
      ]
    },
    {
      "cell_type": "code",
      "metadata": {
        "id": "kczixHNzUSNs"
      },
      "source": [
        "a = \"xyx\"\n",
        "b = 2002\n",
        "c = \"eye\"\n",
        "d = \"nitin\""
      ],
      "execution_count": null,
      "outputs": []
    },
    {
      "cell_type": "code",
      "metadata": {
        "id": "otKXHppHUSNs",
        "outputId": "443d0439-ad23-4290-ed85-e93b599799c8"
      },
      "source": [
        "s = input(\"enter a data for which you would like to check pelindrom \" )\n",
        "s1 = s[::-1]\n",
        "if s ==s1:\n",
        "    print(\"its a same \")\n",
        "else :\n",
        "    print(\"its not a same \")"
      ],
      "execution_count": null,
      "outputs": [
        {
          "output_type": "stream",
          "text": [
            "enter a data for which you would like to check pelindrom sudh\n",
            "its not a same \n"
          ],
          "name": "stdout"
        }
      ]
    },
    {
      "cell_type": "code",
      "metadata": {
        "id": "mlq1qXlrUSNt"
      },
      "source": [
        "l = [\"sudh\" , 34,34,45,[34,45]]"
      ],
      "execution_count": null,
      "outputs": []
    },
    {
      "cell_type": "code",
      "metadata": {
        "id": "DBawXNt_USNt",
        "outputId": "519ce95b-2368-4622-f235-f6dd80d4f560"
      },
      "source": [
        "l[3]"
      ],
      "execution_count": null,
      "outputs": [
        {
          "output_type": "execute_result",
          "data": {
            "text/plain": [
              "45"
            ]
          },
          "metadata": {
            "tags": []
          },
          "execution_count": 236
        }
      ]
    },
    {
      "cell_type": "code",
      "metadata": {
        "id": "8VDMZgVwUSNt",
        "outputId": "473dee2c-395f-45e2-d722-efe7fe227e84"
      },
      "source": [
        "l[0:3]"
      ],
      "execution_count": null,
      "outputs": [
        {
          "output_type": "execute_result",
          "data": {
            "text/plain": [
              "['sudh', 34, 34]"
            ]
          },
          "metadata": {
            "tags": []
          },
          "execution_count": 237
        }
      ]
    },
    {
      "cell_type": "code",
      "metadata": {
        "id": "2okIgC6OUSNt",
        "outputId": "3c0ce5d4-1675-4d35-878f-61d22bdfe0c5"
      },
      "source": [
        "l[3:0:-1]"
      ],
      "execution_count": null,
      "outputs": [
        {
          "output_type": "execute_result",
          "data": {
            "text/plain": [
              "[45, 34, 34]"
            ]
          },
          "metadata": {
            "tags": []
          },
          "execution_count": 239
        }
      ]
    },
    {
      "cell_type": "code",
      "metadata": {
        "id": "BhW0Tm6iUSNt",
        "outputId": "2017efd8-b4bb-4b89-bfd2-e10b4443487c"
      },
      "source": [
        "l[::-1]"
      ],
      "execution_count": null,
      "outputs": [
        {
          "output_type": "execute_result",
          "data": {
            "text/plain": [
              "[[34, 45], 45, 34, 34, 'sudh']"
            ]
          },
          "metadata": {
            "tags": []
          },
          "execution_count": 240
        }
      ]
    },
    {
      "cell_type": "code",
      "metadata": {
        "id": "SDSelVZ4USNu",
        "outputId": "15860cb0-63a1-4411-d611-02fabd7f2e70"
      },
      "source": [
        "l "
      ],
      "execution_count": null,
      "outputs": [
        {
          "output_type": "execute_result",
          "data": {
            "text/plain": [
              "['sudh', 34, 34, 45, [34, 45]]"
            ]
          },
          "metadata": {
            "tags": []
          },
          "execution_count": 241
        }
      ]
    },
    {
      "cell_type": "code",
      "metadata": {
        "id": "bV3W6CIYUSNu",
        "outputId": "c5d2d71b-4edc-4244-93c3-195843fdb800"
      },
      "source": [
        "s = \"sudh\"\n",
        "s = list(s)\n",
        "s"
      ],
      "execution_count": null,
      "outputs": [
        {
          "output_type": "execute_result",
          "data": {
            "text/plain": [
              "['s', 'u', 'd', 'h']"
            ]
          },
          "metadata": {
            "tags": []
          },
          "execution_count": 249
        }
      ]
    },
    {
      "cell_type": "code",
      "metadata": {
        "id": "vjLWAEh1USNu"
      },
      "source": [
        "s = [\"sudh\"]"
      ],
      "execution_count": null,
      "outputs": []
    },
    {
      "cell_type": "code",
      "metadata": {
        "id": "LbBwasQfUSNu",
        "outputId": "fdbaab61-03e2-40cb-cec5-e100f2491159"
      },
      "source": [
        "l + s "
      ],
      "execution_count": null,
      "outputs": [
        {
          "output_type": "execute_result",
          "data": {
            "text/plain": [
              "['sudh', 34, 34, 45, [34, 45], 'sudh']"
            ]
          },
          "metadata": {
            "tags": []
          },
          "execution_count": 252
        }
      ]
    },
    {
      "cell_type": "code",
      "metadata": {
        "id": "IY6MIrBLUSNu",
        "outputId": "7ccaf477-c5c8-4f03-fdc6-b3fd0382b68f"
      },
      "source": [
        "l"
      ],
      "execution_count": null,
      "outputs": [
        {
          "output_type": "execute_result",
          "data": {
            "text/plain": [
              "['sudh', 34, 34, 45, [34, 45]]"
            ]
          },
          "metadata": {
            "tags": []
          },
          "execution_count": 257
        }
      ]
    },
    {
      "cell_type": "code",
      "metadata": {
        "id": "XYMY8aRBUSNv",
        "outputId": "d6f51d8e-8f22-461e-a89f-05a4c30e1dbd"
      },
      "source": [
        "l *2"
      ],
      "execution_count": null,
      "outputs": [
        {
          "output_type": "execute_result",
          "data": {
            "text/plain": [
              "['sudh', 34, 34, 45, [34, 45], 'sudh', 34, 34, 45, [34, 45]]"
            ]
          },
          "metadata": {
            "tags": []
          },
          "execution_count": 255
        }
      ]
    },
    {
      "cell_type": "code",
      "metadata": {
        "id": "iDc5IwP4USNv",
        "outputId": "e77d55cc-7b20-4aec-d043-016c3a1a1a4c"
      },
      "source": [
        "len(l)"
      ],
      "execution_count": null,
      "outputs": [
        {
          "output_type": "execute_result",
          "data": {
            "text/plain": [
              "5"
            ]
          },
          "metadata": {
            "tags": []
          },
          "execution_count": 256
        }
      ]
    },
    {
      "cell_type": "code",
      "metadata": {
        "id": "iTwdCH4XUSNv",
        "outputId": "1da8bc68-a37c-46cc-9dc4-58e81772dd8d"
      },
      "source": [
        "l "
      ],
      "execution_count": null,
      "outputs": [
        {
          "output_type": "execute_result",
          "data": {
            "text/plain": [
              "['sudh', 34, 34, 45, [34, 45]]"
            ]
          },
          "metadata": {
            "tags": []
          },
          "execution_count": 258
        }
      ]
    },
    {
      "cell_type": "code",
      "metadata": {
        "id": "8f97Jt3qUSNv",
        "outputId": "44b2c1f1-2fc6-4e0a-8e14-76f85773f940"
      },
      "source": [
        "454 in l "
      ],
      "execution_count": null,
      "outputs": [
        {
          "output_type": "execute_result",
          "data": {
            "text/plain": [
              "False"
            ]
          },
          "metadata": {
            "tags": []
          },
          "execution_count": 261
        }
      ]
    },
    {
      "cell_type": "code",
      "metadata": {
        "id": "SLTtobkVUSNv"
      },
      "source": [
        ""
      ],
      "execution_count": null,
      "outputs": []
    }
  ]
}