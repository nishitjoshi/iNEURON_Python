{
  "nbformat": 4,
  "nbformat_minor": 0,
  "metadata": {
    "kernelspec": {
      "display_name": "Python 3",
      "language": "python",
      "name": "python3"
    },
    "language_info": {
      "codemirror_mode": {
        "name": "ipython",
        "version": 3
      },
      "file_extension": ".py",
      "mimetype": "text/x-python",
      "name": "python",
      "nbconvert_exporter": "python",
      "pygments_lexer": "ipython3",
      "version": "3.8.3"
    },
    "colab": {
      "name": "Function in pyton  (1).ipynb",
      "provenance": [],
      "include_colab_link": true
    }
  },
  "cells": [
    {
      "cell_type": "markdown",
      "metadata": {
        "id": "view-in-github",
        "colab_type": "text"
      },
      "source": [
        "<a href=\"https://colab.research.google.com/github/nishitjoshi/iNEURON_Python/blob/main/6_Function_in_pyton_(1).ipynb\" target=\"_parent\"><img src=\"https://colab.research.google.com/assets/colab-badge.svg\" alt=\"Open In Colab\"/></a>"
      ]
    },
    {
      "cell_type": "code",
      "metadata": {
        "id": "Kt3a6HbyVrF7",
        "outputId": "f6acb86e-0d7f-4983-fe01-4974bb5f04f8"
      },
      "source": [
        "a = 10\n",
        "b = 20\n",
        "a+b"
      ],
      "execution_count": null,
      "outputs": [
        {
          "output_type": "execute_result",
          "data": {
            "text/plain": [
              "30"
            ]
          },
          "metadata": {
            "tags": []
          },
          "execution_count": 2
        }
      ]
    },
    {
      "cell_type": "code",
      "metadata": {
        "id": "8XIn-DTFVrF-"
      },
      "source": [
        "def test(x,y):\n",
        "    \n",
        "    print(x+y)"
      ],
      "execution_count": null,
      "outputs": []
    },
    {
      "cell_type": "code",
      "metadata": {
        "id": "PwCZ3qLwVrF-",
        "outputId": "f1747091-e4fe-4a3c-dcca-2c8e3de5c909"
      },
      "source": [
        "type(test(23,45))"
      ],
      "execution_count": null,
      "outputs": [
        {
          "output_type": "stream",
          "text": [
            "68\n"
          ],
          "name": "stdout"
        },
        {
          "output_type": "execute_result",
          "data": {
            "text/plain": [
              "NoneType"
            ]
          },
          "metadata": {
            "tags": []
          },
          "execution_count": 20
        }
      ]
    },
    {
      "cell_type": "code",
      "metadata": {
        "id": "-YcrMKLUVrF_",
        "outputId": "af3c4af1-8d07-40a3-9216-8cf0d055d064"
      },
      "source": [
        "b = test(34,56)"
      ],
      "execution_count": null,
      "outputs": [
        {
          "output_type": "stream",
          "text": [
            "90\n"
          ],
          "name": "stdout"
        }
      ]
    },
    {
      "cell_type": "code",
      "metadata": {
        "id": "bWs8-E0-VrF_",
        "outputId": "e1c60dd8-b6f5-4f7b-b4a7-848ce1beabc8"
      },
      "source": [
        "type(b)"
      ],
      "execution_count": null,
      "outputs": [
        {
          "output_type": "execute_result",
          "data": {
            "text/plain": [
              "NoneType"
            ]
          },
          "metadata": {
            "tags": []
          },
          "execution_count": 29
        }
      ]
    },
    {
      "cell_type": "code",
      "metadata": {
        "id": "dHcGPE9TVrGA"
      },
      "source": [
        "def test1(b,m):\n",
        "    return b * m "
      ],
      "execution_count": null,
      "outputs": []
    },
    {
      "cell_type": "code",
      "metadata": {
        "id": "d2m4hDMgVrGA"
      },
      "source": [
        "a = test1(5,89)"
      ],
      "execution_count": null,
      "outputs": []
    },
    {
      "cell_type": "code",
      "metadata": {
        "id": "58WD4wzlVrGA",
        "outputId": "53316fa6-0e64-4b6d-d245-e109eeb35d02"
      },
      "source": [
        "type(a)"
      ],
      "execution_count": null,
      "outputs": [
        {
          "output_type": "execute_result",
          "data": {
            "text/plain": [
              "int"
            ]
          },
          "metadata": {
            "tags": []
          },
          "execution_count": 30
        }
      ]
    },
    {
      "cell_type": "code",
      "metadata": {
        "id": "yCyE9irCVrGB"
      },
      "source": [
        "def test2(t,n,m):\n",
        "    return t + n\n",
        "    return n+m"
      ],
      "execution_count": null,
      "outputs": []
    },
    {
      "cell_type": "code",
      "metadata": {
        "id": "nYGrsLCNVrGB",
        "outputId": "5cf55e12-ce8f-4f94-b4ee-d08084b259f8"
      },
      "source": [
        "test2(4,5,6)"
      ],
      "execution_count": null,
      "outputs": [
        {
          "output_type": "execute_result",
          "data": {
            "text/plain": [
              "9"
            ]
          },
          "metadata": {
            "tags": []
          },
          "execution_count": 78
        }
      ]
    },
    {
      "cell_type": "code",
      "metadata": {
        "id": "OwXlLuFiVrGB"
      },
      "source": [
        ""
      ],
      "execution_count": null,
      "outputs": []
    },
    {
      "cell_type": "code",
      "metadata": {
        "id": "MKQLsz9MVrGC"
      },
      "source": [
        ""
      ],
      "execution_count": null,
      "outputs": []
    },
    {
      "cell_type": "code",
      "metadata": {
        "id": "U8o8k2FzVrGC",
        "outputId": "52565b65-b723-498d-fe6e-038ac5c43112"
      },
      "source": [
        "test2(2,3,0)"
      ],
      "execution_count": null,
      "outputs": [
        {
          "output_type": "execute_result",
          "data": {
            "text/plain": [
              "5"
            ]
          },
          "metadata": {
            "tags": []
          },
          "execution_count": 33
        }
      ]
    },
    {
      "cell_type": "code",
      "metadata": {
        "id": "b0zx79OlVrGC"
      },
      "source": [
        "def test3(n, m ):\n",
        "    return n*10 , m*40 ,m+n"
      ],
      "execution_count": null,
      "outputs": []
    },
    {
      "cell_type": "code",
      "metadata": {
        "id": "qJDkIprJVrGC",
        "outputId": "f1d69938-bd7f-45c5-e5f9-3b4006b4a0c8"
      },
      "source": [
        "test3(2,7)"
      ],
      "execution_count": null,
      "outputs": [
        {
          "output_type": "execute_result",
          "data": {
            "text/plain": [
              "(20, 280, 9)"
            ]
          },
          "metadata": {
            "tags": []
          },
          "execution_count": 37
        }
      ]
    },
    {
      "cell_type": "code",
      "metadata": {
        "id": "lX2FV7vfVrGD"
      },
      "source": [
        "c,x,v = test3(2,7)"
      ],
      "execution_count": null,
      "outputs": []
    },
    {
      "cell_type": "code",
      "metadata": {
        "id": "7FrwDafBVrGD",
        "outputId": "2e98543c-8354-41f4-b4cd-143b79fe5242"
      },
      "source": [
        "c"
      ],
      "execution_count": null,
      "outputs": [
        {
          "output_type": "execute_result",
          "data": {
            "text/plain": [
              "20"
            ]
          },
          "metadata": {
            "tags": []
          },
          "execution_count": 39
        }
      ]
    },
    {
      "cell_type": "code",
      "metadata": {
        "id": "MQNnVUTpVrGD",
        "outputId": "820494ff-089c-482f-9a92-3082233ceef6"
      },
      "source": [
        "x"
      ],
      "execution_count": null,
      "outputs": [
        {
          "output_type": "execute_result",
          "data": {
            "text/plain": [
              "280"
            ]
          },
          "metadata": {
            "tags": []
          },
          "execution_count": 40
        }
      ]
    },
    {
      "cell_type": "code",
      "metadata": {
        "id": "oRkHgg4gVrGD",
        "outputId": "3943be59-f82d-4de6-fdc4-d4e2f0cea4f1"
      },
      "source": [
        "v"
      ],
      "execution_count": null,
      "outputs": [
        {
          "output_type": "execute_result",
          "data": {
            "text/plain": [
              "9"
            ]
          },
          "metadata": {
            "tags": []
          },
          "execution_count": 41
        }
      ]
    },
    {
      "cell_type": "code",
      "metadata": {
        "id": "gK_2PiNUVrGE"
      },
      "source": [
        "c , x , _ = test3(2,7)"
      ],
      "execution_count": null,
      "outputs": []
    },
    {
      "cell_type": "code",
      "metadata": {
        "id": "vy0Sa01qVrGE",
        "outputId": "e98d36f3-0cd4-4f80-af38-e7de02ee1158"
      },
      "source": [
        "c "
      ],
      "execution_count": null,
      "outputs": [
        {
          "output_type": "execute_result",
          "data": {
            "text/plain": [
              "20"
            ]
          },
          "metadata": {
            "tags": []
          },
          "execution_count": 51
        }
      ]
    },
    {
      "cell_type": "code",
      "metadata": {
        "id": "sO2DfRuyVrGE",
        "outputId": "e750aab2-a3b0-4c3a-ca3e-7579bad5c413"
      },
      "source": [
        "x"
      ],
      "execution_count": null,
      "outputs": [
        {
          "output_type": "execute_result",
          "data": {
            "text/plain": [
              "280"
            ]
          },
          "metadata": {
            "tags": []
          },
          "execution_count": 52
        }
      ]
    },
    {
      "cell_type": "code",
      "metadata": {
        "id": "2YUGCc7kVrGE",
        "outputId": "0e58d4ed-734e-4873-f0a1-2b990f76ce5a"
      },
      "source": [
        "_"
      ],
      "execution_count": null,
      "outputs": [
        {
          "output_type": "execute_result",
          "data": {
            "text/plain": [
              "9"
            ]
          },
          "metadata": {
            "tags": []
          },
          "execution_count": 53
        }
      ]
    },
    {
      "cell_type": "code",
      "metadata": {
        "id": "YRqN_2D8VrGF"
      },
      "source": [
        "_,_ , m= test3(2,7)"
      ],
      "execution_count": null,
      "outputs": []
    },
    {
      "cell_type": "code",
      "metadata": {
        "id": "hGZtCoHtVrGF",
        "outputId": "0eba7b03-09d3-4b64-b8b2-e3d9708419d7"
      },
      "source": [
        "c"
      ],
      "execution_count": null,
      "outputs": [
        {
          "output_type": "execute_result",
          "data": {
            "text/plain": [
              "20"
            ]
          },
          "metadata": {
            "tags": []
          },
          "execution_count": 74
        }
      ]
    },
    {
      "cell_type": "code",
      "metadata": {
        "id": "TJKRQGWeVrGF",
        "outputId": "ab7e8c1b-bcfd-41de-82f1-8439364c569d"
      },
      "source": [
        "m"
      ],
      "execution_count": null,
      "outputs": [
        {
          "output_type": "execute_result",
          "data": {
            "text/plain": [
              "9"
            ]
          },
          "metadata": {
            "tags": []
          },
          "execution_count": 75
        }
      ]
    },
    {
      "cell_type": "code",
      "metadata": {
        "id": "rMEMmzhDVrGF",
        "outputId": "2dc8f398-337f-4495-a71d-3a2d2f2d2f64"
      },
      "source": [
        "_"
      ],
      "execution_count": null,
      "outputs": [
        {
          "output_type": "execute_result",
          "data": {
            "text/plain": [
              "280"
            ]
          },
          "metadata": {
            "tags": []
          },
          "execution_count": 76
        }
      ]
    },
    {
      "cell_type": "code",
      "metadata": {
        "id": "RYZpN1ExVrGG"
      },
      "source": [
        "def test():\n",
        "    print(\"this is my first funcation \")"
      ],
      "execution_count": null,
      "outputs": []
    },
    {
      "cell_type": "code",
      "metadata": {
        "id": "4owp9xO9VrGG",
        "outputId": "53f74c26-84b8-4bc5-e4bf-846ea8cf5dbb"
      },
      "source": [
        "m = test()"
      ],
      "execution_count": null,
      "outputs": [
        {
          "output_type": "stream",
          "text": [
            "this is my first funcation \n"
          ],
          "name": "stdout"
        }
      ]
    },
    {
      "cell_type": "code",
      "metadata": {
        "id": "NJvQyjj4VrGG",
        "outputId": "3f0366f5-289d-48da-8a14-b228309812b4"
      },
      "source": [
        "m + \"fsdfsfsd\""
      ],
      "execution_count": null,
      "outputs": [
        {
          "output_type": "error",
          "ename": "TypeError",
          "evalue": "unsupported operand type(s) for +: 'NoneType' and 'str'",
          "traceback": [
            "\u001b[1;31m---------------------------------------------------------------------------\u001b[0m",
            "\u001b[1;31mTypeError\u001b[0m                                 Traceback (most recent call last)",
            "\u001b[1;32m<ipython-input-82-0231523aa123>\u001b[0m in \u001b[0;36m<module>\u001b[1;34m\u001b[0m\n\u001b[1;32m----> 1\u001b[1;33m \u001b[0mm\u001b[0m \u001b[1;33m+\u001b[0m \u001b[1;34m\"fsdfsfsd\"\u001b[0m\u001b[1;33m\u001b[0m\u001b[1;33m\u001b[0m\u001b[0m\n\u001b[0m",
            "\u001b[1;31mTypeError\u001b[0m: unsupported operand type(s) for +: 'NoneType' and 'str'"
          ]
        }
      ]
    },
    {
      "cell_type": "code",
      "metadata": {
        "id": "3i-HWhm6VrGG"
      },
      "source": [
        "def test7():\n",
        "    return \"this is my first class \""
      ],
      "execution_count": null,
      "outputs": []
    },
    {
      "cell_type": "code",
      "metadata": {
        "id": "095Id59cVrGG"
      },
      "source": [
        "n = test7()"
      ],
      "execution_count": null,
      "outputs": []
    },
    {
      "cell_type": "code",
      "metadata": {
        "id": "psbHfzaeVrGH",
        "outputId": "bf8f0a65-7228-4243-c799-59ac134ce20e"
      },
      "source": [
        "n + \"fsfsfsd\""
      ],
      "execution_count": null,
      "outputs": [
        {
          "output_type": "execute_result",
          "data": {
            "text/plain": [
              "'this is my first class fsfsfsd'"
            ]
          },
          "metadata": {
            "tags": []
          },
          "execution_count": 86
        }
      ]
    },
    {
      "cell_type": "code",
      "metadata": {
        "id": "DvD2ec0FVrGH"
      },
      "source": [
        "def test8(n):\n",
        "    return n * 2"
      ],
      "execution_count": null,
      "outputs": []
    },
    {
      "cell_type": "code",
      "metadata": {
        "id": "si0WyYTwVrGH",
        "outputId": "a2e8a31a-44ea-4b14-a308-b1286973460a"
      },
      "source": [
        "test8([3,4,5,6,7])"
      ],
      "execution_count": null,
      "outputs": [
        {
          "output_type": "execute_result",
          "data": {
            "text/plain": [
              "[3, 4, 5, 6, 7, 3, 4, 5, 6, 7]"
            ]
          },
          "metadata": {
            "tags": []
          },
          "execution_count": 88
        }
      ]
    },
    {
      "cell_type": "code",
      "metadata": {
        "id": "v1MB47mGVrGH",
        "outputId": "ab2ca3d8-7bad-4a1e-f186-0bfcab29795d"
      },
      "source": [
        "test8(67)"
      ],
      "execution_count": null,
      "outputs": [
        {
          "output_type": "execute_result",
          "data": {
            "text/plain": [
              "134"
            ]
          },
          "metadata": {
            "tags": []
          },
          "execution_count": 89
        }
      ]
    },
    {
      "cell_type": "code",
      "metadata": {
        "id": "pXtlWnrwVrGH"
      },
      "source": [
        "def test9(n):\n",
        "    return n,n*2"
      ],
      "execution_count": null,
      "outputs": []
    },
    {
      "cell_type": "code",
      "metadata": {
        "id": "g1GaCzXiVrGI"
      },
      "source": [
        "b = test9([4,5,6,6,7])"
      ],
      "execution_count": null,
      "outputs": []
    },
    {
      "cell_type": "code",
      "metadata": {
        "id": "sIDFz8xUVrGI",
        "outputId": "ae00f2d7-8932-43cf-f2ee-f2e5382be835"
      },
      "source": [
        "b"
      ],
      "execution_count": null,
      "outputs": [
        {
          "output_type": "execute_result",
          "data": {
            "text/plain": [
              "([4, 5, 6, 6, 7], [4, 5, 6, 6, 7, 4, 5, 6, 6, 7])"
            ]
          },
          "metadata": {
            "tags": []
          },
          "execution_count": 95
        }
      ]
    },
    {
      "cell_type": "code",
      "metadata": {
        "id": "O61IQSMBVrGI",
        "outputId": "6df40fba-9953-4e32-8998-72493e674f34"
      },
      "source": [
        "b[0]"
      ],
      "execution_count": null,
      "outputs": [
        {
          "output_type": "execute_result",
          "data": {
            "text/plain": [
              "[4, 5, 6, 6, 7]"
            ]
          },
          "metadata": {
            "tags": []
          },
          "execution_count": 96
        }
      ]
    },
    {
      "cell_type": "code",
      "metadata": {
        "id": "SmTNTfoaVrGJ",
        "outputId": "649d5483-63f1-45fa-9881-9174f86170a7"
      },
      "source": [
        "b[1]"
      ],
      "execution_count": null,
      "outputs": [
        {
          "output_type": "execute_result",
          "data": {
            "text/plain": [
              "[4, 5, 6, 6, 7, 4, 5, 6, 6, 7]"
            ]
          },
          "metadata": {
            "tags": []
          },
          "execution_count": 97
        }
      ]
    },
    {
      "cell_type": "code",
      "metadata": {
        "id": "QPKSpwAOVrGJ"
      },
      "source": [
        "def test10(n , m = 90 ):\n",
        "    return n + m "
      ],
      "execution_count": null,
      "outputs": []
    },
    {
      "cell_type": "code",
      "metadata": {
        "id": "vXhOGpT7VrGJ",
        "outputId": "acf1eedd-4518-4c5d-b55f-e6073144f20e"
      },
      "source": [
        "test10(60, 30)"
      ],
      "execution_count": null,
      "outputs": [
        {
          "output_type": "execute_result",
          "data": {
            "text/plain": [
              "90"
            ]
          },
          "metadata": {
            "tags": []
          },
          "execution_count": 106
        }
      ]
    },
    {
      "cell_type": "code",
      "metadata": {
        "id": "xZ41_AYMVrGK"
      },
      "source": [
        "print()"
      ],
      "execution_count": null,
      "outputs": []
    },
    {
      "cell_type": "code",
      "metadata": {
        "id": "l78n4mjuVrGK"
      },
      "source": [
        "def boolx(x = True , y = False):\n",
        "    return x + y "
      ],
      "execution_count": null,
      "outputs": []
    },
    {
      "cell_type": "code",
      "metadata": {
        "id": "XBDyyc5PVrGK",
        "outputId": "3f79527e-aaa9-4dd1-fb44-6185aeddd752"
      },
      "source": [
        "boolx()"
      ],
      "execution_count": null,
      "outputs": [
        {
          "output_type": "execute_result",
          "data": {
            "text/plain": [
              "1"
            ]
          },
          "metadata": {
            "tags": []
          },
          "execution_count": 108
        }
      ]
    },
    {
      "cell_type": "code",
      "metadata": {
        "id": "m6aLaU5CVrGK",
        "outputId": "bc313f56-6836-401a-ffdf-9c86151e8241"
      },
      "source": [
        "boolx(False)"
      ],
      "execution_count": null,
      "outputs": [
        {
          "output_type": "execute_result",
          "data": {
            "text/plain": [
              "0"
            ]
          },
          "metadata": {
            "tags": []
          },
          "execution_count": 109
        }
      ]
    },
    {
      "cell_type": "code",
      "metadata": {
        "id": "tYRa3ZVCVrGK",
        "outputId": "c7496380-9b19-4f82-8efd-e51e6a00e389"
      },
      "source": [
        "boolx(False , 8)"
      ],
      "execution_count": null,
      "outputs": [
        {
          "output_type": "execute_result",
          "data": {
            "text/plain": [
              "8"
            ]
          },
          "metadata": {
            "tags": []
          },
          "execution_count": 111
        }
      ]
    },
    {
      "cell_type": "code",
      "metadata": {
        "id": "8VOIP4uhVrGK",
        "outputId": "17a85781-f161-4081-d1e9-acd3b76e2853"
      },
      "source": [
        "True + False"
      ],
      "execution_count": null,
      "outputs": [
        {
          "output_type": "execute_result",
          "data": {
            "text/plain": [
              "1"
            ]
          },
          "metadata": {
            "tags": []
          },
          "execution_count": 112
        }
      ]
    },
    {
      "cell_type": "code",
      "metadata": {
        "id": "zUALKg2RVrGL"
      },
      "source": [
        "def travel( bike = True , car = False ) : \n",
        "    plan_travel = bike or car \n",
        "    return bike , car , plan_travel"
      ],
      "execution_count": null,
      "outputs": []
    },
    {
      "cell_type": "code",
      "metadata": {
        "id": "hbndbjZHVrGL",
        "outputId": "a1ad2028-de72-4021-bc9b-4947bcdf5ce9"
      },
      "source": [
        "travel()"
      ],
      "execution_count": null,
      "outputs": [
        {
          "output_type": "execute_result",
          "data": {
            "text/plain": [
              "(True, False, True)"
            ]
          },
          "metadata": {
            "tags": []
          },
          "execution_count": 115
        }
      ]
    },
    {
      "cell_type": "code",
      "metadata": {
        "id": "om86y4tEVrGL",
        "outputId": "b6a764d5-b20d-41f4-90b1-4a1055069bf8"
      },
      "source": [
        "travel(car  = True )"
      ],
      "execution_count": null,
      "outputs": [
        {
          "output_type": "execute_result",
          "data": {
            "text/plain": [
              "(True, True, True)"
            ]
          },
          "metadata": {
            "tags": []
          },
          "execution_count": 117
        }
      ]
    },
    {
      "cell_type": "code",
      "metadata": {
        "id": "Q5XvqSP0VrGL",
        "outputId": "1842a826-98be-483d-842d-c6092aef87bf"
      },
      "source": [
        "travel(_, True)"
      ],
      "execution_count": null,
      "outputs": [
        {
          "output_type": "execute_result",
          "data": {
            "text/plain": [
              "(280, True, 280)"
            ]
          },
          "metadata": {
            "tags": []
          },
          "execution_count": 118
        }
      ]
    },
    {
      "cell_type": "code",
      "metadata": {
        "id": "JabS0xHRVrGM",
        "outputId": "b7cc4c8a-4de0-4385-b996-9a0b1975fdf1"
      },
      "source": [
        "_"
      ],
      "execution_count": null,
      "outputs": [
        {
          "output_type": "execute_result",
          "data": {
            "text/plain": [
              "280"
            ]
          },
          "metadata": {
            "tags": []
          },
          "execution_count": 119
        }
      ]
    },
    {
      "cell_type": "code",
      "metadata": {
        "id": "r-4VTbGjVrGM"
      },
      "source": [
        "def test11(*args ):\n",
        "    return args "
      ],
      "execution_count": null,
      "outputs": []
    },
    {
      "cell_type": "code",
      "metadata": {
        "id": "9lp1xRpdVrGM",
        "outputId": "50b44743-93e6-42f1-a81e-029b5c0e2c15"
      },
      "source": [
        "test11(\"sudhanshu\" , \"kumar \", 34,[34,4,4,5,454,54])"
      ],
      "execution_count": null,
      "outputs": [
        {
          "output_type": "execute_result",
          "data": {
            "text/plain": [
              "('sudhanshu', 'kumar ', 34, [34, 4, 4, 5, 454, 54])"
            ]
          },
          "metadata": {
            "tags": []
          },
          "execution_count": 123
        }
      ]
    },
    {
      "cell_type": "code",
      "metadata": {
        "id": "57osP6C0VrGN"
      },
      "source": [
        "def test12(a , b , c ):\n",
        "    return a + b + c "
      ],
      "execution_count": null,
      "outputs": []
    },
    {
      "cell_type": "code",
      "metadata": {
        "id": "A1ELYWaEVrGN",
        "outputId": "2ebeee9a-ee6d-4cda-ab6a-c14b378a9053"
      },
      "source": [
        "test12([1,2,3,4] , [4,5,6,7] , [4,5,6,78])"
      ],
      "execution_count": null,
      "outputs": [
        {
          "output_type": "execute_result",
          "data": {
            "text/plain": [
              "[1, 2, 3, 4, 4, 5, 6, 7, 4, 5, 6, 78]"
            ]
          },
          "metadata": {
            "tags": []
          },
          "execution_count": 126
        }
      ]
    },
    {
      "cell_type": "code",
      "metadata": {
        "id": "1XJ1jEDWVrGN"
      },
      "source": [
        "def test13(*args):\n",
        "    l = []\n",
        "    for i in args:\n",
        "        l = l + i\n",
        "    return l \n",
        "        "
      ],
      "execution_count": null,
      "outputs": []
    },
    {
      "cell_type": "code",
      "metadata": {
        "id": "A_UhK6HJVrGN",
        "outputId": "c504d9bb-b5cc-4327-98c9-0555a45f5a06"
      },
      "source": [
        "test13([3,4,5,6] , [3,4,5,6,7] , [3,4,5,6])"
      ],
      "execution_count": null,
      "outputs": [
        {
          "output_type": "execute_result",
          "data": {
            "text/plain": [
              "[3, 4, 5, 6, 3, 4, 5, 6, 7, 3, 4, 5, 6]"
            ]
          },
          "metadata": {
            "tags": []
          },
          "execution_count": 131
        }
      ]
    },
    {
      "cell_type": "code",
      "metadata": {
        "id": "AwJjRIYxVrGO",
        "outputId": "d1425ce8-94b9-4c27-aede-54a0b93e5cf1"
      },
      "source": [
        "test13([4,5,6,6],[4,5,6,7])"
      ],
      "execution_count": null,
      "outputs": [
        {
          "output_type": "execute_result",
          "data": {
            "text/plain": [
              "[4, 5, 6, 6, 4, 5, 6, 7]"
            ]
          },
          "metadata": {
            "tags": []
          },
          "execution_count": 132
        }
      ]
    },
    {
      "cell_type": "code",
      "metadata": {
        "id": "W5ffEQ88VrGO"
      },
      "source": [
        "def test14(*args):\n",
        "    return [i for i in args]"
      ],
      "execution_count": null,
      "outputs": []
    },
    {
      "cell_type": "code",
      "metadata": {
        "id": "h4d2miw1VrGO",
        "outputId": "7e123741-9bc6-4fd1-932f-16355719043e"
      },
      "source": [
        "test14([4,5,6,6],[4,5,6,7])"
      ],
      "execution_count": null,
      "outputs": [
        {
          "output_type": "execute_result",
          "data": {
            "text/plain": [
              "[[4, 5, 6, 6], [4, 5, 6, 7]]"
            ]
          },
          "metadata": {
            "tags": []
          },
          "execution_count": 136
        }
      ]
    },
    {
      "cell_type": "code",
      "metadata": {
        "id": "gpM-X6m4VrGO",
        "outputId": "87acf240-2a35-4092-a8e9-4f936f63d628"
      },
      "source": [
        "test13(\"fdsfdsf\" , 234,[3,4,5,6,7,8] , [5,7,7,8,9])"
      ],
      "execution_count": null,
      "outputs": [
        {
          "output_type": "error",
          "ename": "TypeError",
          "evalue": "can only concatenate list (not \"str\") to list",
          "traceback": [
            "\u001b[1;31m---------------------------------------------------------------------------\u001b[0m",
            "\u001b[1;31mTypeError\u001b[0m                                 Traceback (most recent call last)",
            "\u001b[1;32m<ipython-input-138-a7757a0ef063>\u001b[0m in \u001b[0;36m<module>\u001b[1;34m\u001b[0m\n\u001b[1;32m----> 1\u001b[1;33m \u001b[0mtest13\u001b[0m\u001b[1;33m(\u001b[0m\u001b[1;34m\"fdsfdsf\"\u001b[0m \u001b[1;33m,\u001b[0m \u001b[1;36m234\u001b[0m\u001b[1;33m,\u001b[0m\u001b[1;33m[\u001b[0m\u001b[1;36m3\u001b[0m\u001b[1;33m,\u001b[0m\u001b[1;36m4\u001b[0m\u001b[1;33m,\u001b[0m\u001b[1;36m5\u001b[0m\u001b[1;33m,\u001b[0m\u001b[1;36m6\u001b[0m\u001b[1;33m,\u001b[0m\u001b[1;36m7\u001b[0m\u001b[1;33m,\u001b[0m\u001b[1;36m8\u001b[0m\u001b[1;33m]\u001b[0m \u001b[1;33m,\u001b[0m \u001b[1;33m[\u001b[0m\u001b[1;36m5\u001b[0m\u001b[1;33m,\u001b[0m\u001b[1;36m7\u001b[0m\u001b[1;33m,\u001b[0m\u001b[1;36m7\u001b[0m\u001b[1;33m,\u001b[0m\u001b[1;36m8\u001b[0m\u001b[1;33m,\u001b[0m\u001b[1;36m9\u001b[0m\u001b[1;33m]\u001b[0m\u001b[1;33m)\u001b[0m\u001b[1;33m\u001b[0m\u001b[1;33m\u001b[0m\u001b[0m\n\u001b[0m",
            "\u001b[1;32m<ipython-input-137-d3d701c2feef>\u001b[0m in \u001b[0;36mtest13\u001b[1;34m(*args)\u001b[0m\n\u001b[0;32m      2\u001b[0m     \u001b[0ml\u001b[0m \u001b[1;33m=\u001b[0m \u001b[1;33m[\u001b[0m\u001b[1;33m]\u001b[0m\u001b[1;33m\u001b[0m\u001b[1;33m\u001b[0m\u001b[0m\n\u001b[0;32m      3\u001b[0m     \u001b[1;32mfor\u001b[0m \u001b[0mi\u001b[0m \u001b[1;32min\u001b[0m \u001b[0margs\u001b[0m\u001b[1;33m:\u001b[0m\u001b[1;33m\u001b[0m\u001b[1;33m\u001b[0m\u001b[0m\n\u001b[1;32m----> 4\u001b[1;33m         \u001b[0ml\u001b[0m \u001b[1;33m=\u001b[0m \u001b[0ml\u001b[0m \u001b[1;33m+\u001b[0m \u001b[0mi\u001b[0m\u001b[1;33m\u001b[0m\u001b[1;33m\u001b[0m\u001b[0m\n\u001b[0m\u001b[0;32m      5\u001b[0m     \u001b[1;32mreturn\u001b[0m \u001b[0ml\u001b[0m\u001b[1;33m\u001b[0m\u001b[1;33m\u001b[0m\u001b[0m\n\u001b[0;32m      6\u001b[0m \u001b[1;33m\u001b[0m\u001b[0m\n",
            "\u001b[1;31mTypeError\u001b[0m: can only concatenate list (not \"str\") to list"
          ]
        }
      ]
    },
    {
      "cell_type": "code",
      "metadata": {
        "id": "JUQN2tmdVrGP"
      },
      "source": [
        "def test15(*args):\n",
        "    l = []\n",
        "    for i in args:\n",
        "        if type(i) == list:\n",
        "            \n",
        "            l = l + i\n",
        "    return l "
      ],
      "execution_count": null,
      "outputs": []
    },
    {
      "cell_type": "code",
      "metadata": {
        "id": "PV7xItv8VrGP",
        "outputId": "283a1b91-c389-4551-b973-02cb90bdb60d"
      },
      "source": [
        "test15(\"fdsfdsf\" , 234,[3,4,5,6,7,8] , [5,7,7,8,9])"
      ],
      "execution_count": null,
      "outputs": [
        {
          "output_type": "execute_result",
          "data": {
            "text/plain": [
              "[3, 4, 5, 6, 7, 8, 5, 7, 7, 8, 9]"
            ]
          },
          "metadata": {
            "tags": []
          },
          "execution_count": 140
        }
      ]
    },
    {
      "cell_type": "code",
      "metadata": {
        "id": "93-fD9eHVrGP"
      },
      "source": [
        "def test16(**kwargs):\n",
        "    return kwargs"
      ],
      "execution_count": null,
      "outputs": []
    },
    {
      "cell_type": "code",
      "metadata": {
        "id": "aGu3NhnMVrGP",
        "outputId": "42e69f97-1684-4dc1-eb9f-2515f312d9a6"
      },
      "source": [
        "test16(4,56,56)"
      ],
      "execution_count": null,
      "outputs": [
        {
          "output_type": "error",
          "ename": "TypeError",
          "evalue": "test16() takes 0 positional arguments but 3 were given",
          "traceback": [
            "\u001b[1;31m---------------------------------------------------------------------------\u001b[0m",
            "\u001b[1;31mTypeError\u001b[0m                                 Traceback (most recent call last)",
            "\u001b[1;32m<ipython-input-142-9fdf3b93d92e>\u001b[0m in \u001b[0;36m<module>\u001b[1;34m\u001b[0m\n\u001b[1;32m----> 1\u001b[1;33m \u001b[0mtest16\u001b[0m\u001b[1;33m(\u001b[0m\u001b[1;36m4\u001b[0m\u001b[1;33m,\u001b[0m\u001b[1;36m56\u001b[0m\u001b[1;33m,\u001b[0m\u001b[1;36m56\u001b[0m\u001b[1;33m)\u001b[0m\u001b[1;33m\u001b[0m\u001b[1;33m\u001b[0m\u001b[0m\n\u001b[0m",
            "\u001b[1;31mTypeError\u001b[0m: test16() takes 0 positional arguments but 3 were given"
          ]
        }
      ]
    },
    {
      "cell_type": "code",
      "metadata": {
        "id": "dulJgoVoVrGQ",
        "outputId": "f4121d25-650c-406e-c5af-fdcf9d8d4d81"
      },
      "source": [
        "test16(a = 8 , b = True , c = [4,5,6,6,\"kumar\"] , d = \"sudh\")"
      ],
      "execution_count": null,
      "outputs": [
        {
          "output_type": "execute_result",
          "data": {
            "text/plain": [
              "{'a': 8, 'b': True, 'c': [4, 5, 6, 6, 'kumar'], 'd': 'sudh'}"
            ]
          },
          "metadata": {
            "tags": []
          },
          "execution_count": 145
        }
      ]
    },
    {
      "cell_type": "code",
      "metadata": {
        "id": "rHP5cNJaVrGQ"
      },
      "source": [
        "def test17(*args):\n",
        "    return args"
      ],
      "execution_count": null,
      "outputs": []
    },
    {
      "cell_type": "code",
      "metadata": {
        "id": "vFDXR_nOVrGQ",
        "outputId": "c744cdcb-cd62-4096-e81e-c1a6bb692498"
      },
      "source": [
        "test17(4,5,6,7, \"sudh\" , [4,5,6,7,8])"
      ],
      "execution_count": null,
      "outputs": [
        {
          "output_type": "execute_result",
          "data": {
            "text/plain": [
              "(4, 5, 6, 7, 'sudh', [4, 5, 6, 7, 8])"
            ]
          },
          "metadata": {
            "tags": []
          },
          "execution_count": 149
        }
      ]
    },
    {
      "cell_type": "code",
      "metadata": {
        "id": "yvH5RTE_VrGQ"
      },
      "source": [
        "#1\n",
        "def fun1(*args):\n",
        "    a=[]\n",
        "    b=[]\n",
        "    c=[]\n",
        "    d=[]\n",
        "    e=[]\n",
        "    f=[]\n",
        "    g=[]\n",
        "    for i in args:\n",
        "        if type(i)==int:\n",
        "            a.append(i)\n",
        "        if type(i)==float:\n",
        "            b.append(i)\n",
        "        if type(i)==str:\n",
        "            c.append(i)\n",
        "        if type(i)==tuple:\n",
        "            d.append(i)\n",
        "        if type(i)==list:\n",
        "            e.append(i)\n",
        "        if type(i)==dict:\n",
        "            f.append(i)\n",
        "        if type(i)==bool:\n",
        "            g.append(i)\n",
        "    return a,b,c,d,e,f,g\n",
        "\n",
        "#2 \n",
        "def fun2(*args,**kwargs):\n",
        "    l=[i for i in args]\n",
        "    d=[i for i in kwargs]\n",
        "    return l,d\n"
      ],
      "execution_count": null,
      "outputs": []
    },
    {
      "cell_type": "code",
      "metadata": {
        "id": "yyuxoodPVrGR"
      },
      "source": [
        "#1\n",
        "def fun1(*args):\n",
        "    a=[]\n",
        "    b=[]\n",
        "    c=[]\n",
        "    d=[]\n",
        "    e=[]\n",
        "    f=[]\n",
        "    g=[]\n",
        "    for i in args:\n",
        "        if type(i)==int:\n",
        "            a.append(i)\n",
        "        if type(i)==float:\n",
        "            b.append(i)\n",
        "        if type(i)==str:\n",
        "            c.append(i)\n",
        "        if type(i)==tuple:\n",
        "            d.append(i)\n",
        "        if type(i)==list:\n",
        "            e.append(i)\n",
        "        if type(i)==dict:\n",
        "            f.append(i)\n",
        "        if type(i)==bool:\n",
        "            g.append(i)\n",
        "    return a,b,c,d,e,f,g"
      ],
      "execution_count": null,
      "outputs": []
    },
    {
      "cell_type": "code",
      "metadata": {
        "id": "qPy1VBa_VrGR",
        "outputId": "53546f47-b05e-48a1-b36d-6df2c315e514"
      },
      "source": [
        "fun1(3,4,5,6,6,7.45,True ,False , [4,5,6,7,8,9] , [4,5,6,7,8,90] , 4+5j)"
      ],
      "execution_count": null,
      "outputs": [
        {
          "output_type": "execute_result",
          "data": {
            "text/plain": [
              "([3, 4, 5, 6, 6],\n",
              " [7.45],\n",
              " [],\n",
              " [],\n",
              " [[4, 5, 6, 7, 8, 9], [4, 5, 6, 7, 8, 90]],\n",
              " [],\n",
              " [True, False])"
            ]
          },
          "metadata": {
            "tags": []
          },
          "execution_count": 152
        }
      ]
    },
    {
      "cell_type": "code",
      "metadata": {
        "id": "hxt1mi0bVrGR"
      },
      "source": [
        "def fun2(*args,**kwargs):\n",
        "    l=[i for i in args if type(i) == list ]\n",
        "    d=[i[1] for i in kwargs.items() if type(i[1]) == list ]\n",
        "    return l,d"
      ],
      "execution_count": null,
      "outputs": []
    },
    {
      "cell_type": "code",
      "metadata": {
        "id": "RzCPKhbSVrGR",
        "outputId": "cb6be544-69f9-4576-8017-0e0154b96467"
      },
      "source": [
        "fun2([4,5,6,7,8] , [5,6,7,8,9,0] , 5,5,6,7, a = 5 , b = \"fsdfds\" , m = [4,5,6,7])"
      ],
      "execution_count": null,
      "outputs": [
        {
          "output_type": "execute_result",
          "data": {
            "text/plain": [
              "([[4, 5, 6, 7, 8], [5, 6, 7, 8, 9, 0]], [[4, 5, 6, 7]])"
            ]
          },
          "metadata": {
            "tags": []
          },
          "execution_count": 166
        }
      ]
    },
    {
      "cell_type": "code",
      "metadata": {
        "id": "0_XWfwhiVrGS"
      },
      "source": [
        "def test18(**kwargs):\n",
        "    for i in kwargs.items():\n",
        "        if type(i[1])== list :\n",
        "            if \"sudh\" in i[1] :\n",
        "                print(\"i am able to find your name in input data \")\n",
        "                print(i[1])\n",
        "    return kwargs"
      ],
      "execution_count": null,
      "outputs": []
    },
    {
      "cell_type": "code",
      "metadata": {
        "id": "BQMziDEoVrGS",
        "outputId": "c3d60f9a-03fd-4b56-ef99-2d86c6fdf968"
      },
      "source": [
        "test18(b =6 , c = [4,5,6,7] , d = [\"sudh\" , \"kumar \" , 5.67], n = 6 + 7j)"
      ],
      "execution_count": null,
      "outputs": [
        {
          "output_type": "stream",
          "text": [
            "i am able to find your name in input data \n",
            "['sudh', 'kumar ', 5.67]\n"
          ],
          "name": "stdout"
        },
        {
          "output_type": "execute_result",
          "data": {
            "text/plain": [
              "{'b': 6, 'c': [4, 5, 6, 7], 'd': ['sudh', 'kumar ', 5.67], 'n': (6+7j)}"
            ]
          },
          "metadata": {
            "tags": []
          },
          "execution_count": 197
        }
      ]
    },
    {
      "cell_type": "code",
      "metadata": {
        "id": "JZgGw8wcVrGS"
      },
      "source": [
        "d ={'b': 6, 'c': [4, 5, 6, 7], 'd': ['sudh', 'kumar ', 5.67], 'n': (6+7j)}"
      ],
      "execution_count": null,
      "outputs": []
    },
    {
      "cell_type": "code",
      "metadata": {
        "id": "VJLCivAVVrGS",
        "outputId": "b19cd253-37aa-46e9-ed00-b2d448e3f77f"
      },
      "source": [
        "d.values()"
      ],
      "execution_count": null,
      "outputs": [
        {
          "output_type": "execute_result",
          "data": {
            "text/plain": [
              "dict_values([6, [4, 5, 6, 7], ['sudh', 'kumar ', 5.67], (6+7j)])"
            ]
          },
          "metadata": {
            "tags": []
          },
          "execution_count": 201
        }
      ]
    },
    {
      "cell_type": "code",
      "metadata": {
        "id": "3CE_UA2lVrGT",
        "outputId": "5b6d8850-2883-40da-ffc0-56027e909bfa"
      },
      "source": [
        "def func1(*args):\n",
        "  dt = {}\n",
        "  for i in args:\n",
        "    if type(i) in dt:\n",
        "      dt[type(i)].append(i)\n",
        "    else:\n",
        "      dt[type(i)] = [i]\n",
        "  return dt\n",
        "    \n",
        "func1(1,2,3,[5,6,7],'hi','io', 6+7j , 6+4j)\n"
      ],
      "execution_count": null,
      "outputs": [
        {
          "output_type": "execute_result",
          "data": {
            "text/plain": [
              "{int: [1, 2, 3],\n",
              " list: [[5, 6, 7]],\n",
              " str: ['hi', 'io'],\n",
              " complex: [(6+7j), (6+4j)]}"
            ]
          },
          "metadata": {
            "tags": []
          },
          "execution_count": 205
        }
      ]
    },
    {
      "cell_type": "code",
      "metadata": {
        "id": "N3A6LR8EVrGT"
      },
      "source": [
        ""
      ],
      "execution_count": null,
      "outputs": []
    }
  ]
}